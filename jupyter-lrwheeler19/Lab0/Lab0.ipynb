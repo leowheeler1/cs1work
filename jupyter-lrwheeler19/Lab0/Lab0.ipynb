{
 "cells": [
  {
   "cell_type": "markdown",
   "metadata": {},
   "source": [
    "### CS 125 Assignment\n",
    "\n",
    "Before you turn this assignment in, make sure everything runs as expected. First, **restart the kernel** (in the menubar, select Kernel$\\rightarrow$Restart) and then **run all cells** (in the menubar, select Cell$\\rightarrow$Run All).\n",
    "\n",
    "Make sure you fill in any place that says `YOUR CODE HERE` or \"YOUR ANSWER HERE\", as well as your name and collaborators below:"
   ]
  },
  {
   "cell_type": "code",
   "execution_count": 5,
   "metadata": {},
   "outputs": [],
   "source": [
    "NAME = \"Leo Wheeler\"\n",
    "COLLABORATORS = \"\""
   ]
  },
  {
   "cell_type": "markdown",
   "metadata": {},
   "source": [
    "---\n",
    "---"
   ]
  },
  {
   "cell_type": "markdown",
   "metadata": {},
   "source": [
    "# CS - 125 | Lab 0\n",
    "\n",
    "Objectives:\n",
    "- Write your first Python Code\n",
    "- Become familiar with Jupyter Notebooks\n",
    "\n",
    "---"
   ]
  },
  {
   "cell_type": "markdown",
   "metadata": {},
   "source": [
    "## Setup\n",
    "\n",
    "First of all, why is this called “Lab 0”? Since this is the first lab, shouldn’t we call it “Lab 1”? \n",
    "\n",
    "It doesn’t mean that this lab doesn’t count or isn’t important – it does count and is certainly important (although it will be short). If you are going to learn to think like a computer scientist, you should start by learning that computer scientists usually count a little bit differently than “regular” people; we always start with 0. \n",
    "\n",
    "It may seem weird at first, but it makes some sense. Instead of thinking of counting as ordination (e.g. 1st , 2nd , 3rd , etc.), we think of counting as an offset (i.e. “how far am I from the beginning?”). In this case, we are at the beginning of our lab sequence; we have completed zero labs so far."
   ]
  },
  {
   "cell_type": "markdown",
   "metadata": {},
   "source": [
    "## It's all about the Cells\n",
    "\n",
    "Jupyter notebooks are composed of cells.  That's the blocks of text and code you see and interact with here.  The beauty of these cells that they can take on different states: \n",
    "**CODE** or **MARKDOWN**.\n",
    "\n",
    "You can change the type of cell by selecting it and using the dropdown box above.  \n",
    "\n",
    "There should be a PDF in this same directory with more information on how to format text using Markdown.\n",
    "\n",
    "Once you have finished filling out a cell, with either code or markdown, press `Shift` + `Enter` to evaluate the cell and automatically move to the next cell.  To evaluate the current cell and stay there, press `Ctrl` + `Enter`.\n",
    "\n",
    "Try out the following (in seperate cells - make new ones as needed):\n",
    "- Markdown: `My name is [Your Name]`\n",
    "- Markdown: `Here is an equation: $ f(x) = \\beta x^2 $`\n",
    "- Markdown: Make a bulleted list of your favorite foods\n",
    "- Markdown: Make a link to one of your favorite websites\n",
    "- Code: `2+2`\n",
    "- Code: `print(\"Hello World\")`"
   ]
  },
  {
   "cell_type": "markdown",
   "metadata": {},
   "source": [
    "My Name is Leo Wheeler"
   ]
  },
  {
   "cell_type": "markdown",
   "metadata": {},
   "source": [
    "Here is an equation: $ f(x) = \\beta x^2 $"
   ]
  },
  {
   "cell_type": "markdown",
   "metadata": {},
   "source": [
    "My Favorite foods are:\n",
    "    - lasagna\n",
    "    - meatloaf\n",
    "    - Chicken Parm\n",
    "    - Ice Cream"
   ]
  },
  {
   "cell_type": "markdown",
   "metadata": {},
   "source": [
    "My favorite website is www.youtube.com"
   ]
  },
  {
   "cell_type": "code",
   "execution_count": 6,
   "metadata": {},
   "outputs": [
    {
     "data": {
      "text/plain": [
       "4"
      ]
     },
     "execution_count": 6,
     "metadata": {},
     "output_type": "execute_result"
    }
   ],
   "source": [
    "2+2"
   ]
  },
  {
   "cell_type": "code",
   "execution_count": 7,
   "metadata": {},
   "outputs": [
    {
     "name": "stdout",
     "output_type": "stream",
     "text": [
      "Hello World\n"
     ]
    }
   ],
   "source": [
    "print(\"Hello World\")"
   ]
  },
  {
   "attachments": {
    "print_commands.png": {
     "image/png": "[encoded data removed]"
    }
   },
   "cell_type": "markdown",
   "metadata": {},
   "source": [
    "***\n",
    "## (1) Try some things out on your own:\n",
    "Try out some of these expressions to make sure that you understand their behavior. If you get an error message – make sure you typed it exactly as it is written. If you still get an error message, see if you can explain why (not all of these statements are valid). Remember, you can always ask your neighbor, the Lab Assistant, or the instructor to make sure that everything is clear.  For each thing you try, make a new cell.\n",
    "\n",
    "![print_commands.png](attachment:print_commands.png)"
   ]
  },
  {
   "cell_type": "code",
   "execution_count": 8,
   "metadata": {},
   "outputs": [
    {
     "ename": "NameError",
     "evalue": "name 'PRINT' is not defined",
     "output_type": "error",
     "traceback": [
      "\u001b[0;31m---------------------------------------------------------------------------\u001b[0m",
      "\u001b[0;31mNameError\u001b[0m                                 Traceback (most recent call last)",
      "\u001b[0;32m<ipython-input-8-ab351b16d57b>\u001b[0m in \u001b[0;36m<module>\u001b[0;34m\u001b[0m\n\u001b[0;32m----> 1\u001b[0;31m \u001b[0mPRINT\u001b[0m\u001b[0;34m(\u001b[0m\u001b[0;34m\"Hello World\"\u001b[0m\u001b[0;34m)\u001b[0m\u001b[0;34m\u001b[0m\u001b[0;34m\u001b[0m\u001b[0m\n\u001b[0m",
      "\u001b[0;31mNameError\u001b[0m: name 'PRINT' is not defined"
     ]
    }
   ],
   "source": [
    "PRINT(\"Hello World\")"
   ]
  },
  {
   "cell_type": "code",
   "execution_count": 9,
   "metadata": {},
   "outputs": [
    {
     "ename": "SyntaxError",
     "evalue": "invalid syntax (<ipython-input-9-10cb182148e3>, line 1)",
     "output_type": "error",
     "traceback": [
      "\u001b[0;36m  File \u001b[0;32m\"<ipython-input-9-10cb182148e3>\"\u001b[0;36m, line \u001b[0;32m1\u001b[0m\n\u001b[0;31m    print(Hello World)\u001b[0m\n\u001b[0m                    ^\u001b[0m\n\u001b[0;31mSyntaxError\u001b[0m\u001b[0;31m:\u001b[0m invalid syntax\n"
     ]
    }
   ],
   "source": [
    "print(Hello World)"
   ]
  },
  {
   "cell_type": "code",
   "execution_count": 10,
   "metadata": {},
   "outputs": [
    {
     "ename": "SyntaxError",
     "evalue": "Missing parentheses in call to 'print'. Did you mean print(\"Hello World\")? (<ipython-input-10-2e860ebf713e>, line 1)",
     "output_type": "error",
     "traceback": [
      "\u001b[0;36m  File \u001b[0;32m\"<ipython-input-10-2e860ebf713e>\"\u001b[0;36m, line \u001b[0;32m1\u001b[0m\n\u001b[0;31m    print \"Hello World\"\u001b[0m\n\u001b[0m                      ^\u001b[0m\n\u001b[0;31mSyntaxError\u001b[0m\u001b[0;31m:\u001b[0m Missing parentheses in call to 'print'. Did you mean print(\"Hello World\")?\n"
     ]
    }
   ],
   "source": [
    "print \"Hello World\""
   ]
  },
  {
   "cell_type": "code",
   "execution_count": 11,
   "metadata": {},
   "outputs": [
    {
     "name": "stdout",
     "output_type": "stream",
     "text": [
      "Hello World\n"
     ]
    }
   ],
   "source": [
    "print(\"Hello World\")"
   ]
  },
  {
   "cell_type": "markdown",
   "metadata": {},
   "source": [
    "On In[3] , the print command is in all caps, which doesn't allow it to run since the command is with lowercase letters. On In[4], Hello World is not in parenthesis so it does not identify it as a string and it can not print it right. In[5] is missing the parentheses to define the parameters of the command. In[1] (above) shows the proper way to run the command."
   ]
  },
  {
   "cell_type": "markdown",
   "metadata": {},
   "source": [
    "***\n",
    "## (2) More Arithmatic:\n",
    "As we have already seen, Python can do math.  Try the following:\n",
    "`17.1 * 32.9 / 0.2`"
   ]
  },
  {
   "cell_type": "code",
   "execution_count": 12,
   "metadata": {},
   "outputs": [
    {
     "data": {
      "text/plain": [
       "2812.95"
      ]
     },
     "execution_count": 12,
     "metadata": {},
     "output_type": "execute_result"
    }
   ],
   "source": [
    "17.1*32.9/0.2"
   ]
  },
  {
   "cell_type": "markdown",
   "metadata": {},
   "source": [
    "Did you get the right answer?  I don't know about you, but I'm bad at that kind of math and it's hard to tell if we got the right answer.  This is an important lesson:\n",
    "\n",
    "- **Always test your code with examples you understand**\n",
    "- **Choose input data that allows you to verify the answers**\n",
    "\n",
    "Try again with numbers you know:"
   ]
  },
  {
   "cell_type": "code",
   "execution_count": 13,
   "metadata": {},
   "outputs": [
    {
     "data": {
      "text/plain": [
       "10.0"
      ]
     },
     "execution_count": 13,
     "metadata": {},
     "output_type": "execute_result"
    }
   ],
   "source": [
    "20*2/4"
   ]
  },
  {
   "cell_type": "code",
   "execution_count": 14,
   "metadata": {},
   "outputs": [
    {
     "data": {
      "text/plain": [
       "50.0"
      ]
     },
     "execution_count": 14,
     "metadata": {},
     "output_type": "execute_result"
    }
   ],
   "source": [
    "100/10*5"
   ]
  },
  {
   "cell_type": "markdown",
   "metadata": {},
   "source": [
    "***\n",
    "## (3) More Arithmatic, again:\n",
    "Does Python pay attention to “Order of Operations” with arithmetic? Come up with a some examples that you can use to answer this question.  What **is** the order of operations?\n",
    "\n",
    "The order of operations is Parentheses, Exponents, Multiplication, Division, Addition, and then Subtraction"
   ]
  },
  {
   "cell_type": "code",
   "execution_count": 15,
   "metadata": {},
   "outputs": [
    {
     "data": {
      "text/plain": [
       "14"
      ]
     },
     "execution_count": 15,
     "metadata": {},
     "output_type": "execute_result"
    }
   ],
   "source": [
    "((2-3)**2)+13"
   ]
  },
  {
   "cell_type": "code",
   "execution_count": 16,
   "metadata": {},
   "outputs": [
    {
     "data": {
      "text/plain": [
       "-111"
      ]
     },
     "execution_count": 16,
     "metadata": {},
     "output_type": "execute_result"
    }
   ],
   "source": [
    "33-4*6**2"
   ]
  },
  {
   "cell_type": "code",
   "execution_count": 17,
   "metadata": {},
   "outputs": [
    {
     "data": {
      "text/plain": [
       "-11"
      ]
     },
     "execution_count": 17,
     "metadata": {},
     "output_type": "execute_result"
    }
   ],
   "source": [
    "(33-4*6**2)+100"
   ]
  },
  {
   "cell_type": "code",
   "execution_count": 18,
   "metadata": {},
   "outputs": [
    {
     "data": {
      "text/plain": [
       "4900.5"
      ]
     },
     "execution_count": 18,
     "metadata": {},
     "output_type": "execute_result"
    }
   ],
   "source": [
    "99**2/2"
   ]
  },
  {
   "attachments": {
    "strange_operations.png": {
     "image/png": "[encoded data removed]"
    }
   },
   "cell_type": "markdown",
   "metadata": {},
   "source": [
    "***\n",
    "## (4) Strange Operators\n",
    "In addition to the arithmetic operators that you are familiar with (`*`, `/`, `+`, and `-`), there are a couple others that may be less familiar (but they are still quite important).\n",
    "\n",
    "Try out the following operators `//` and `%` and `**`. See if you can figure out what they do. To get started, you might try:\n",
    "\n",
    "![strange_operations.png](attachment:strange_operations.png)"
   ]
  },
  {
   "cell_type": "code",
   "execution_count": 19,
   "metadata": {},
   "outputs": [
    {
     "data": {
      "text/plain": [
       "3"
      ]
     },
     "execution_count": 19,
     "metadata": {},
     "output_type": "execute_result"
    }
   ],
   "source": [
    "13//4"
   ]
  },
  {
   "cell_type": "code",
   "execution_count": 20,
   "metadata": {
    "scrolled": true
   },
   "outputs": [
    {
     "data": {
      "text/plain": [
       "2"
      ]
     },
     "execution_count": 20,
     "metadata": {},
     "output_type": "execute_result"
    }
   ],
   "source": [
    "13//5"
   ]
  },
  {
   "cell_type": "markdown",
   "metadata": {},
   "source": [
    "## The // Shows division without the remainder"
   ]
  },
  {
   "cell_type": "code",
   "execution_count": 21,
   "metadata": {},
   "outputs": [
    {
     "data": {
      "text/plain": [
       "1"
      ]
     },
     "execution_count": 21,
     "metadata": {},
     "output_type": "execute_result"
    }
   ],
   "source": [
    "13%4"
   ]
  },
  {
   "cell_type": "code",
   "execution_count": 22,
   "metadata": {},
   "outputs": [
    {
     "data": {
      "text/plain": [
       "3"
      ]
     },
     "execution_count": 22,
     "metadata": {},
     "output_type": "execute_result"
    }
   ],
   "source": [
    "13%5"
   ]
  },
  {
   "cell_type": "markdown",
   "metadata": {},
   "source": [
    "## The % shows the remainder after division"
   ]
  },
  {
   "cell_type": "code",
   "execution_count": 23,
   "metadata": {},
   "outputs": [
    {
     "data": {
      "text/plain": [
       "8"
      ]
     },
     "execution_count": 23,
     "metadata": {},
     "output_type": "execute_result"
    }
   ],
   "source": [
    "2**3"
   ]
  },
  {
   "cell_type": "code",
   "execution_count": 24,
   "metadata": {},
   "outputs": [
    {
     "data": {
      "text/plain": [
       "16"
      ]
     },
     "execution_count": 24,
     "metadata": {},
     "output_type": "execute_result"
    }
   ],
   "source": [
    "2**4"
   ]
  },
  {
   "cell_type": "markdown",
   "metadata": {},
   "source": [
    "## The ** represents an exponent"
   ]
  },
  {
   "attachments": {
    "print_km_miles.png": {
     "image/png": "[encoded data removed]"
    }
   },
   "cell_type": "markdown",
   "metadata": {},
   "source": [
    "***\n",
    "## (5) Writing our first Program\n",
    "Let’s suppose that we want to have a program that helps me convert kilometers to miles. Our process should always be:\n",
    "\n",
    "1. Solve the problem by hand.\n",
    "\n",
    "2.  Translate it into code. \n",
    "\n",
    "You may or may not recall that `1 kilometer = .612371 miles`. (If you don’t remember that sort of thing, don’t worry, you certainly know of where to look it up --- sometimes gathering extra information is part of the problem solving process, right?) \n",
    "\n",
    "Ok, so suppose I have 5 km and I want to know the equivalent number of miles.  Try out the following:\n",
    "\n",
    "![print_km_miles.png](attachment:print_km_miles.png)"
   ]
  },
  {
   "cell_type": "code",
   "execution_count": 25,
   "metadata": {},
   "outputs": [
    {
     "name": "stdout",
     "output_type": "stream",
     "text": [
      "There are .612371 miles in a km\n",
      "Therefore 5 km is 3.061855 miles\n"
     ]
    }
   ],
   "source": [
    "print(\"There are .612371 miles in a km\")\n",
    "print(\"Therefore 5 km is\", 5*.612371, \"miles\")"
   ]
  },
  {
   "attachments": {
    "km_func.png": {
     "image/png": "[encoded data removed]"
    }
   },
   "cell_type": "markdown",
   "metadata": {},
   "source": [
    "Did it work?  Notice that the second print statement is a little bit different. Instead of asking Python to print one statement, there were three statements in the same command, all separated by commas. While the syntax is rigid, there are often variations that are allowed. You will learn more about/discover these variations as we need them.\n",
    "\n",
    "At this point you should feel proud that you have written your first couple lines of code! And something that a standard calculator could not do!  I hope that you also feel a bit uneasy --- this program isn’t very _generalizable_. It only works for 5 km – and once we see it run, we know the answer. Running the program a second time is much less exciting than the first.\n",
    "\n",
    "We can fix that by making the number of km a **variable**.\n",
    "\n",
    "Try the following (note: the second line starts with a TAB):\n",
    "\n",
    "![km_func.png](attachment:km_func.png)"
   ]
  },
  {
   "cell_type": "code",
   "execution_count": 26,
   "metadata": {},
   "outputs": [],
   "source": [
    "def km2mile (km):\n",
    "    return km * .612371"
   ]
  },
  {
   "cell_type": "markdown",
   "metadata": {},
   "source": [
    "Make a note of a few things:\n",
    "- We started with a line with the keyword `def` --- notice that it changed color. That is a special word that Python understands. This is telling Python that we want to define a function; we are going to teach Python how to do something.\n",
    "- `km2mile` (also changed color) is a name that we are giving to our command. I made that up; it could be (almost) anything. It is better to be as descriptive as possible.\n",
    "- `km` is called a parameter --- it is a name for the data that we are going to provide to our function.\n",
    "- The commands that make up our function are all indented. In this case there is a single command - take whatever data was provided (`km`), multiply it by .612371 and return the result.\n",
    "- Note that `return` also changed color – it's another Python keyword. This is how you get output from your function."
   ]
  },
  {
   "cell_type": "markdown",
   "metadata": {},
   "source": [
    "When you run this program, you will notice that **nothing happens**.  This is the correct behaviour! To get the program to run, you will need to use/invoke/call the function name we just defined (`km2mile`). You can provide a value for the inches by including a number between the parentheses. For example:`km2mile(5)`\n",
    "\n",
    "Try out some other numbers, but make sure it's working as you would expect.  What happens if you enter `0`?  Or `1.5`?  Or `-2`?"
   ]
  },
  {
   "cell_type": "code",
   "execution_count": 27,
   "metadata": {},
   "outputs": [
    {
     "data": {
      "text/plain": [
       "0.0"
      ]
     },
     "execution_count": 27,
     "metadata": {},
     "output_type": "execute_result"
    }
   ],
   "source": [
    "km2mile(0)"
   ]
  },
  {
   "cell_type": "code",
   "execution_count": 28,
   "metadata": {},
   "outputs": [
    {
     "data": {
      "text/plain": [
       "0.9185565"
      ]
     },
     "execution_count": 28,
     "metadata": {},
     "output_type": "execute_result"
    }
   ],
   "source": [
    "km2mile(1.5)"
   ]
  },
  {
   "cell_type": "code",
   "execution_count": 29,
   "metadata": {},
   "outputs": [
    {
     "data": {
      "text/plain": [
       "-1.224742"
      ]
     },
     "execution_count": 29,
     "metadata": {},
     "output_type": "execute_result"
    }
   ],
   "source": [
    "km2mile(-2)"
   ]
  },
  {
   "attachments": {
    "km_func_and_print.png": {
     "image/png": "[encoded data removed]"
    }
   },
   "cell_type": "markdown",
   "metadata": {},
   "source": [
    "Now let’s put some of these ideas together. Our main objective was to write a simple program that does some conversions for us and nicely displays the output. Let’s define another function named (imaginatively) `main` that uses our conversion function to help out.  You might make something like the following:\n",
    "\n",
    "![km_func_and_print.png](attachment:km_func_and_print.png)"
   ]
  },
  {
   "cell_type": "code",
   "execution_count": 30,
   "metadata": {},
   "outputs": [],
   "source": [
    "def km2mile (km):\n",
    "    return km * .612371\n",
    "def main():\n",
    "    print(\"There are .612371 miles in a km\")\n",
    "    print(\"Therefore 5 km is\", km2mile(5), \"miles\")"
   ]
  },
  {
   "cell_type": "markdown",
   "metadata": {},
   "source": [
    "Again – observe that our function begins with def followed by the name of the function. After the function name are the parameters – the input to the function. In this case, we don’t have any input data, but we still need the parentheses satisfy the rules of the Python language (try leaving them out and see what happens).\n",
    "\n",
    "Notice that the second print statement calls or invokes the km2mile function. This statement will cause the function to run (using the input value of `5`) will return a result. Since the command is embedded inside of the print command, it will display the returned value. You can see the results by running the program: `main()`"
   ]
  },
  {
   "cell_type": "code",
   "execution_count": 31,
   "metadata": {},
   "outputs": [
    {
     "name": "stdout",
     "output_type": "stream",
     "text": [
      "There are .612371 miles in a km\n",
      "Therefore 5 km is 3.061855 miles\n"
     ]
    }
   ],
   "source": [
    "main()"
   ]
  },
  {
   "attachments": {
    "km_print_3.png": {
     "image/png": "[encoded data removed]"
    }
   },
   "cell_type": "markdown",
   "metadata": {},
   "source": [
    "Did you see what you expected to see? If not – you may need to go back to the code and make some changes.\n",
    "\n",
    "The really cool thing is that once we have taught Python how to convert km to miles, we can reuse that function whenever we want. Add a third command to the main function, so that it reads:\n",
    "\n",
    "![km_print_3.png](attachment:km_print_3.png)"
   ]
  },
  {
   "cell_type": "code",
   "execution_count": 32,
   "metadata": {},
   "outputs": [],
   "source": [
    "def main():\n",
    "    print(\"There are .612371 miles in a km\")\n",
    "    print(\"Therefore 5 km is\", km2mile(5), \"miles\")\n",
    "    print(\"and 10 km is \", km2mile(10), \"miles\")"
   ]
  },
  {
   "cell_type": "markdown",
   "metadata": {},
   "source": [
    "Then try running it here by typing `main()` again:"
   ]
  },
  {
   "cell_type": "code",
   "execution_count": 33,
   "metadata": {},
   "outputs": [
    {
     "name": "stdout",
     "output_type": "stream",
     "text": [
      "There are .612371 miles in a km\n",
      "Therefore 5 km is 3.061855 miles\n",
      "and 10 km is  6.12371 miles\n"
     ]
    }
   ],
   "source": [
    "main()"
   ]
  },
  {
   "cell_type": "markdown",
   "metadata": {},
   "source": [
    "Did you get the output you expected?\n",
    "\n",
    "Most of the programs that we write for this class will follow a similar structure. You will write some functions that generally teach Python how to do something new. You will also include a `main` function that uses the general functions to answer specific questions.  Note, the name \"main\" is not special.  You could call *your* main function something different.  The important thing is to BE CONSISTENT."
   ]
  },
  {
   "cell_type": "markdown",
   "metadata": {
    "deletable": false,
    "editable": false,
    "nbgrader": {
     "cell_type": "markdown",
     "checksum": "ac3199105a4befe38db74d4029539fa5",
     "grade": false,
     "grade_id": "cell-3d4b39e967d61ef8",
     "locked": true,
     "schema_version": 3,
     "solution": false,
     "task": false
    }
   },
   "source": [
    "***\n",
    "# Lab Assignment\n",
    "\n",
    "For each of the following, write a function that addresses the general issue (i.e, does the conversion) and call it with your specific question."
   ]
  },
  {
   "cell_type": "markdown",
   "metadata": {
    "deletable": false,
    "editable": false,
    "nbgrader": {
     "cell_type": "markdown",
     "checksum": "2f7f18005b6fceef64f281ec7b86c4fc",
     "grade": false,
     "grade_id": "cell-9aa9d98e41a711ef",
     "locked": true,
     "schema_version": 3,
     "solution": false,
     "task": false
    }
   },
   "source": [
    "### (1)\n",
    "Assume that you know your weight in pounds. Create a function that can display your weight in kg. (you don’t have to use your real weight)"
   ]
  },
  {
   "cell_type": "code",
   "execution_count": 34,
   "metadata": {
    "deletable": false,
    "nbgrader": {
     "cell_type": "code",
     "checksum": "87d90bb8068cd4910234ea9cb8fd6a61",
     "grade": false,
     "grade_id": "cell-5049134af0d02f8c",
     "locked": false,
     "schema_version": 3,
     "solution": true,
     "task": false
    }
   },
   "outputs": [],
   "source": [
    "def convert_weight (pounds):\n",
    "    return pounds / 2.2\n",
    "def weight():\n",
    "    print(\"since there are 2.2 pounds in 1 kg, 290 pounds, my weight, is\", convert_weight(290), \" kg\")"
   ]
  },
  {
   "cell_type": "code",
   "execution_count": 35,
   "metadata": {},
   "outputs": [
    {
     "name": "stdout",
     "output_type": "stream",
     "text": [
      "since there are 2.2 pounds in 1 kg, 290 pounds, my weight, is 131.8181818181818  kg\n"
     ]
    }
   ],
   "source": [
    "weight()"
   ]
  },
  {
   "cell_type": "markdown",
   "metadata": {
    "deletable": false,
    "editable": false,
    "nbgrader": {
     "cell_type": "markdown",
     "checksum": "fe225f86f54d893d57fe3163a8ec7b2a",
     "grade": false,
     "grade_id": "cell-051abc3c3ec31b08",
     "locked": true,
     "schema_version": 3,
     "solution": false,
     "task": false
    }
   },
   "source": [
    "Be sure to validate your function with the following tests!"
   ]
  },
  {
   "cell_type": "code",
   "execution_count": 36,
   "metadata": {
    "deletable": false,
    "editable": false,
    "nbgrader": {
     "cell_type": "code",
     "checksum": "813f758881d72c08cae7a750bf6f7d48",
     "grade": true,
     "grade_id": "cell-eff902d4aad70828",
     "locked": true,
     "points": 1,
     "schema_version": 3,
     "solution": false,
     "task": false
    }
   },
   "outputs": [],
   "source": [
    "assert convert_weight(0) == 0\n",
    "assert convert_weight(1) < 0.5\n",
    "assert convert_weight(10) > 1"
   ]
  },
  {
   "cell_type": "markdown",
   "metadata": {
    "deletable": false,
    "editable": false,
    "nbgrader": {
     "cell_type": "markdown",
     "checksum": "440f4505c4eea87d0605363bf61eaa84",
     "grade": false,
     "grade_id": "cell-3f3ece2ec42fdbf5",
     "locked": true,
     "schema_version": 3,
     "solution": false,
     "task": false
    }
   },
   "source": [
    "### (2)\n",
    "What is the high temperature today in °F?   Display this value in °C."
   ]
  },
  {
   "cell_type": "code",
   "execution_count": 37,
   "metadata": {
    "deletable": false,
    "nbgrader": {
     "cell_type": "code",
     "checksum": "43bdcdcff6aa5662673fbd8bae3c5898",
     "grade": false,
     "grade_id": "cell-c5216f7f8fe6e930",
     "locked": false,
     "schema_version": 3,
     "solution": true,
     "task": false
    }
   },
   "outputs": [],
   "source": [
    "def convert_temp(F):\n",
    "    return (F-32)*(5/9)\n",
    "def temp():\n",
    "    print(\"Today's high temperature is 72 degrees F, which is \", convert_temp(72),\"degrees celcius\")"
   ]
  },
  {
   "cell_type": "code",
   "execution_count": 38,
   "metadata": {},
   "outputs": [
    {
     "name": "stdout",
     "output_type": "stream",
     "text": [
      "Today's high temperature is 72 degrees F, which is  22.22222222222222 degrees celcius\n"
     ]
    }
   ],
   "source": [
    "temp()"
   ]
  },
  {
   "cell_type": "code",
   "execution_count": 39,
   "metadata": {
    "deletable": false,
    "editable": false,
    "nbgrader": {
     "cell_type": "code",
     "checksum": "b93dbe729f39c612fe79d933c4a26b66",
     "grade": true,
     "grade_id": "cell-bd45642d7fd43c0b",
     "locked": true,
     "points": 1,
     "schema_version": 3,
     "solution": false,
     "task": false
    }
   },
   "outputs": [],
   "source": [
    "assert convert_temp(32) == 0\n",
    "assert convert_temp(-40) == -40"
   ]
  },
  {
   "cell_type": "markdown",
   "metadata": {
    "deletable": false,
    "editable": false,
    "nbgrader": {
     "cell_type": "markdown",
     "checksum": "cd7eabc32b856b78463242c87e47614f",
     "grade": false,
     "grade_id": "cell-0bd59052333e82fa",
     "locked": true,
     "schema_version": 3,
     "solution": false,
     "task": false
    }
   },
   "source": [
    "### (3)\n",
    "Write a function that computes the area of a pizza.  Then answer the question: Which has more pizza: Two 12-inch pizzas or one 18-inch pizza?"
   ]
  },
  {
   "cell_type": "code",
   "execution_count": 40,
   "metadata": {},
   "outputs": [],
   "source": [
    "import math"
   ]
  },
  {
   "cell_type": "code",
   "execution_count": 41,
   "metadata": {},
   "outputs": [],
   "source": [
    "pi = 3.14"
   ]
  },
  {
   "cell_type": "code",
   "execution_count": 42,
   "metadata": {
    "deletable": false,
    "nbgrader": {
     "cell_type": "code",
     "checksum": "8b89d445a1344fc118f655095a08b60e",
     "grade": false,
     "grade_id": "cell-e5c0c660fd7be265",
     "locked": false,
     "schema_version": 3,
     "solution": true,
     "task": false
    }
   },
   "outputs": [],
   "source": [
    "def calculate_pizza_area(length):\n",
    "    return (length/2)**2*pi\n",
    "def pizza():\n",
    "    return print(\"Since we know the function for the area of a circle, pir^2, and we have our diameters, we can half our diameters of our pizzas and find the areas to see which has more pizza. For one 18 inch pizza we have\", calculate_pizza_area(18), \" square inches, and for two twelve inch pizzas we have\", 2*calculate_pizza_area(12), \" square inches, showing that one 18 inch pizza has more pizza than two 12 inch pizzas.\")"
   ]
  },
  {
   "cell_type": "code",
   "execution_count": 43,
   "metadata": {
    "deletable": false,
    "editable": false,
    "nbgrader": {
     "cell_type": "code",
     "checksum": "9673a1b81162535ed396e8634a220c88",
     "grade": false,
     "grade_id": "cell-45f08c3971952781",
     "locked": true,
     "schema_version": 3,
     "solution": false,
     "task": false
    }
   },
   "outputs": [
    {
     "data": {
      "text/plain": [
       "226.08"
      ]
     },
     "execution_count": 43,
     "metadata": {},
     "output_type": "execute_result"
    }
   ],
   "source": [
    "# Then the area of TWO 12 inch pizzas should be\n",
    "2*calculate_pizza_area(12)"
   ]
  },
  {
   "cell_type": "code",
   "execution_count": 44,
   "metadata": {
    "deletable": false,
    "editable": false,
    "nbgrader": {
     "cell_type": "code",
     "checksum": "0a79e2e9fcf4caebca32bf098fb304f1",
     "grade": false,
     "grade_id": "cell-5a3324c076dcef43",
     "locked": true,
     "schema_version": 3,
     "solution": false,
     "task": false
    }
   },
   "outputs": [
    {
     "data": {
      "text/plain": [
       "254.34"
      ]
     },
     "execution_count": 44,
     "metadata": {},
     "output_type": "execute_result"
    }
   ],
   "source": [
    "# The area of ONE 18 inch pizza is\n",
    "calculate_pizza_area(18)"
   ]
  },
  {
   "cell_type": "code",
   "execution_count": 45,
   "metadata": {},
   "outputs": [
    {
     "name": "stdout",
     "output_type": "stream",
     "text": [
      "Since we know the function for the area of a circle, pir^2, and we have our diameters, we can half our diameters of our pizzas and find the areas to see which has more pizza. For one 18 inch pizza we have 254.34  square inches, and for two twelve inch pizzas we have 226.08  square inches, showing that one 18 inch pizza has more pizza than two 12 inch pizzas.\n"
     ]
    }
   ],
   "source": [
    "pizza()"
   ]
  },
  {
   "cell_type": "code",
   "execution_count": null,
   "metadata": {},
   "outputs": [],
   "source": []
  },
  {
   "cell_type": "code",
   "execution_count": null,
   "metadata": {},
   "outputs": [],
   "source": []
  }
 ],
 "metadata": {
  "kernelspec": {
   "display_name": "Python 3",
   "language": "python",
   "name": "python3"
  },
  "language_info": {
   "codemirror_mode": {
    "name": "ipython",
    "version": 3
   },
   "file_extension": ".py",
   "mimetype": "text/x-python",
   "name": "python",
   "nbconvert_exporter": "python",
   "pygments_lexer": "ipython3",
   "version": "3.7.7"
  }
 },
 "nbformat": 4,
 "nbformat_minor": 2
}

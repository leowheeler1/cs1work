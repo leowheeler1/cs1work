{
 "cells": [
  {
   "cell_type": "code",
   "execution_count": 3,
   "metadata": {},
   "outputs": [
    {
     "name": "stdout",
     "output_type": "stream",
     "text": [
      "['1', ',', '', '2', ',', '', '3', '', '4', ',', '', '5', ',', '', '6', '', '7', ',', '', '8', ',', '', '9']\n"
     ]
    }
   ],
   "source": [
    "file_ID = \"1, 2, 3\\n4, 5, 6\\n7, 8, 9\"\n",
    "\n",
    "my_data = [ ]\n",
    "for line in file_ID:\n",
    "    line = line.strip()\n",
    "    my_data.append(line)\n",
    "\n",
    "print(my_data)"
   ]
  },
  {
   "cell_type": "code",
   "execution_count": 4,
   "metadata": {},
   "outputs": [
    {
     "data": {
      "text/plain": [
       "'Here is 7 in binary: 111'"
      ]
     },
     "execution_count": 4,
     "metadata": {},
     "output_type": "execute_result"
    }
   ],
   "source": [
    "f\"Here is 7 in binary: {7:b}\""
   ]
  },
  {
   "cell_type": "code",
   "execution_count": 116,
   "metadata": {},
   "outputs": [],
   "source": [
    "import random as r\n",
    "\n",
    "def five_dice_rolls():\n",
    "    total = 0\n",
    "    for i in range(5):\n",
    "        dice_roll = r.randint(1,6)\n",
    "        if total == 0:\n",
    "            total += dice_roll\n",
    "        else:\n",
    "            total = total * dice_roll\n",
    "    if total <= 250:\n",
    "        print(\"Product of 5 dice was 250 or less. Total Product:\", total)\n",
    "    elif total > 250:\n",
    "        print(\"Product of 5 dice was more than 250. Total Product:\", total)"
   ]
  },
  {
   "cell_type": "code",
   "execution_count": 117,
   "metadata": {},
   "outputs": [
    {
     "name": "stdout",
     "output_type": "stream",
     "text": [
      "Product of 5 dice was more than 250. Total Product: 1080\n"
     ]
    }
   ],
   "source": [
    "five_dice_rolls()"
   ]
  },
  {
   "cell_type": "code",
   "execution_count": 118,
   "metadata": {},
   "outputs": [],
   "source": [
    "def calculate_payment():\n",
    "    open_file = open(\"emp_hours.csv\")\n",
    "    header = open_file.readline().strip()\n",
    "    emp = open_file.readlines().split(\",\")\n",
    "    \n",
    "    payment = []\n",
    "    names = []\n",
    "    \n",
    "    for line in emp:\n",
    "        line = line.strip()\n",
    "        payment += (int(line[1]) * int(line[2]))\n",
    "        names += line[0]\n",
    "    \n",
    "    open_file.close()\n",
    "    \n",
    "    file_two = open(\"payroll.csv\", \"w\")\n",
    "    payroll = dict(zip(names,payroll))\n",
    "    file_two.writelines()\n",
    "    "
   ]
  },
  {
   "cell_type": "code",
   "execution_count": null,
   "metadata": {},
   "outputs": [],
   "source": []
  }
 ],
 "metadata": {
  "kernelspec": {
   "display_name": "Python 3",
   "language": "python",
   "name": "python3"
  },
  "language_info": {
   "codemirror_mode": {
    "name": "ipython",
    "version": 3
   },
   "file_extension": ".py",
   "mimetype": "text/x-python",
   "name": "python",
   "nbconvert_exporter": "python",
   "pygments_lexer": "ipython3",
   "version": "3.7.7"
  }
 },
 "nbformat": 4,
 "nbformat_minor": 4
}

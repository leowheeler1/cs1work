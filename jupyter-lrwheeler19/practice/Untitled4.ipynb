{
 "cells": [
  {
   "cell_type": "code",
   "execution_count": 6,
   "metadata": {},
   "outputs": [],
   "source": [
    "def main():\n",
    "    # Ask the user for input\n",
    "    my_num = int(input(\"How many repeats do you want?\"))\n",
    "    [print(f\"{i:>3d}: Kiss my ass!\")for i in range(my_num)]\n",
    "    # Print a closing message\n",
    "    print(\"Exiting now.\")"
   ]
  },
  {
   "cell_type": "code",
   "execution_count": 5,
   "metadata": {},
   "outputs": [
    {
     "name": "stdout",
     "output_type": "stream",
     "text": [
      "How many repeats do you want?5\n",
      "  0: Kiss my ass!\n",
      "  1: Kiss my ass!\n",
      "  2: Kiss my ass!\n",
      "  3: Kiss my ass!\n",
      "  4: Kiss my ass!\n",
      "Exiting now.\n"
     ]
    }
   ],
   "source": [
    "main()"
   ]
  },
  {
   "cell_type": "code",
   "execution_count": null,
   "metadata": {},
   "outputs": [],
   "source": []
  }
 ],
 "metadata": {
  "kernelspec": {
   "display_name": "Python 3",
   "language": "python",
   "name": "python3"
  },
  "language_info": {
   "codemirror_mode": {
    "name": "ipython",
    "version": 3
   },
   "file_extension": ".py",
   "mimetype": "text/x-python",
   "name": "python",
   "nbconvert_exporter": "python",
   "pygments_lexer": "ipython3",
   "version": "3.7.7"
  }
 },
 "nbformat": 4,
 "nbformat_minor": 4
}

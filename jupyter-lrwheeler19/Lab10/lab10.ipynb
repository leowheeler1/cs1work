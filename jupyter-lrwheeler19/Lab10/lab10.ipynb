{
 "cells": [
  {
   "cell_type": "markdown",
   "metadata": {},
   "source": [
    "### CS 125 Assignment\n",
    "\n",
    "Before you turn this assignment in, make sure everything runs as expected. First, **restart the kernel** (in the menubar, select Kernel$\\rightarrow$Restart) and then **run all cells** (in the menubar, select Cell$\\rightarrow$Run All).\n",
    "\n",
    "Make sure you fill in any place that says `YOUR CODE HERE` or \"YOUR ANSWER HERE\", as well as your name and collaborators below:"
   ]
  },
  {
   "cell_type": "code",
   "execution_count": 1,
   "metadata": {},
   "outputs": [],
   "source": [
    "NAME = \"Leo Wheeler\"\n",
    "COLLABORATORS = \"\""
   ]
  },
  {
   "cell_type": "markdown",
   "metadata": {},
   "source": [
    "---\n",
    "---"
   ]
  },
  {
   "cell_type": "markdown",
   "metadata": {
    "deletable": false,
    "editable": false,
    "nbgrader": {
     "cell_type": "markdown",
     "checksum": "270010274a03e89be89bd323278e3cd8",
     "grade": false,
     "grade_id": "cell-671692eb525696ac",
     "locked": true,
     "schema_version": 3,
     "solution": false,
     "task": false
    }
   },
   "source": [
    "# Lab 10\n",
    "\n",
    "Objectives:\n",
    "\n",
    "- Learn about sets in Python\n",
    "- Gain experience using sets to answer questions\n",
    "\n",
    "---\n",
    "\n",
    "\n",
    "## Created by:\n",
    "- Michael Stobb\n",
    "- With collaborators: \n",
    "    - None\n",
    "- Lab10\n",
    "\n",
    "Remember that you are **encouraged** to collaborate on lab activities – just be sure to: \n",
    "1. Document your collaborators and sources.\n",
    "2. Don’t electronically share the code.\n",
    "3. Understand what you submit. \n",
    "\n",
    "\n",
    "---"
   ]
  },
  {
   "cell_type": "markdown",
   "metadata": {
    "deletable": false,
    "editable": false,
    "nbgrader": {
     "cell_type": "markdown",
     "checksum": "55d55aec6733854fb2f27608730e939b",
     "grade": false,
     "grade_id": "cell-66fb103b1b0f3654",
     "locked": true,
     "schema_version": 3,
     "solution": false,
     "task": false
    }
   },
   "source": [
    "## Getting Started\n",
    "\n",
    "The following readings should be done **before** starting the lab assignment.  Be sure you fully understand what each line is doing and what it means before moving on.  If something doesn't make sense, you should:\n",
    "1. Try different things (write some code, see what happens)\n",
    "2. Ask your friend in the class\n",
    "3. Ask the instructor"
   ]
  },
  {
   "cell_type": "markdown",
   "metadata": {
    "deletable": false,
    "editable": false,
    "nbgrader": {
     "cell_type": "markdown",
     "checksum": "6525cefc87541994d53d57a1d1b87f8e",
     "grade": false,
     "grade_id": "cell-e780e56edee98ee4",
     "locked": true,
     "schema_version": 3,
     "solution": false,
     "task": false
    }
   },
   "source": [
    "### Sets in Python\n",
    "\n",
    "We have been encountering many problems that require us to reason about membership in a collection of data.  Specifically, we wanted to track the unique occurrences of an item in a collection (think Green Eggs & Ham) or the number of of letters in a word (ScrabbleWords); sometimes we just want to know whether an item is in the list.  In fact, there is a whole branch of mathematics, known as *Set Theory*, that studies these kinds of problems. We have found that we were able to create solutions for these problems using a lists or dictionaries. However, problems that rely on these kinds of operations are common enough that we don’t want to have to recreate functional support for them every time we need them. So, as we have seen before, Python has included a built-in structure to help us manage these kinds of problems: the **set**."
   ]
  },
  {
   "cell_type": "markdown",
   "metadata": {
    "deletable": false,
    "editable": false,
    "nbgrader": {
     "cell_type": "markdown",
     "checksum": "0599bc3e7e007e4e321218e035927303",
     "grade": false,
     "grade_id": "cell-1d4bad09d061ff52",
     "locked": true,
     "schema_version": 3,
     "solution": false,
     "task": false
    }
   },
   "source": [
    "#### 1\n",
    "Create three sets that contain some letters:"
   ]
  },
  {
   "cell_type": "code",
   "execution_count": 2,
   "metadata": {
    "deletable": false,
    "editable": false,
    "nbgrader": {
     "cell_type": "code",
     "checksum": "239c03a5e1722bc459e5e9c70e39f32e",
     "grade": false,
     "grade_id": "cell-2109faaa7c812956",
     "locked": true,
     "schema_version": 3,
     "solution": false,
     "task": false
    }
   },
   "outputs": [],
   "source": [
    "set1 = set(\"abcd\")\n",
    "set2 = set(\"cdef\")\n",
    "set3 = set(\"aabbccdd\")"
   ]
  },
  {
   "cell_type": "code",
   "execution_count": 3,
   "metadata": {},
   "outputs": [
    {
     "data": {
      "text/plain": [
       "{'a', 'b', 'c', 'd'}"
      ]
     },
     "execution_count": 3,
     "metadata": {},
     "output_type": "execute_result"
    }
   ],
   "source": [
    "set1"
   ]
  },
  {
   "cell_type": "code",
   "execution_count": 4,
   "metadata": {},
   "outputs": [
    {
     "data": {
      "text/plain": [
       "{'c', 'd', 'e', 'f'}"
      ]
     },
     "execution_count": 4,
     "metadata": {},
     "output_type": "execute_result"
    }
   ],
   "source": [
    "set2"
   ]
  },
  {
   "cell_type": "code",
   "execution_count": 5,
   "metadata": {},
   "outputs": [
    {
     "data": {
      "text/plain": [
       "{'a', 'b', 'c', 'd'}"
      ]
     },
     "execution_count": 5,
     "metadata": {},
     "output_type": "execute_result"
    }
   ],
   "source": [
    "set3"
   ]
  },
  {
   "cell_type": "markdown",
   "metadata": {
    "deletable": false,
    "editable": false,
    "nbgrader": {
     "cell_type": "markdown",
     "checksum": "2f9c697468e2157b2de35a6264812d96",
     "grade": false,
     "grade_id": "cell-d368f5fbb94d127d",
     "locked": true,
     "schema_version": 3,
     "solution": false,
     "task": false
    }
   },
   "source": [
    "Examine the contents of these sets and make sure you understand what Python created.\n",
    "\n",
    "#### 2\n",
    "When dealing with other collections, we have a couple of attributes that inform what we can do with them.  See if you can figure out how to answer the following questions:\n",
    "- Are sets mutable?\n",
    "- Are sets ordered?\n",
    "- Are sets indexable?\n",
    "- Are sets iterable?\n",
    "- Can I determine the length?\n",
    "- Can I determine if a specific element is in the set?"
   ]
  },
  {
   "cell_type": "markdown",
   "metadata": {},
   "source": [
    "1. Sets are mutable\n",
    "2. Sets are not ordered\n",
    "3. Sets are not indexable\n",
    "4. Sets are iterable\n",
    "5. Yes, using the `len()` function\n",
    "6. Yes, using the `in` operator"
   ]
  },
  {
   "cell_type": "markdown",
   "metadata": {
    "deletable": false,
    "editable": false,
    "nbgrader": {
     "cell_type": "markdown",
     "checksum": "82b9768da4bdfd10f3461c60790d9d57",
     "grade": false,
     "grade_id": "cell-565f8e01820fdb64",
     "locked": true,
     "schema_version": 3,
     "solution": false,
     "task": false
    }
   },
   "source": [
    "#### 3\n",
    "Notice that sets are denoted with {}, which conflicts with dictionaries.  If we wanted to create an empty set (which is a very important concept), you have to do it explicitly:"
   ]
  },
  {
   "cell_type": "code",
   "execution_count": 6,
   "metadata": {
    "deletable": false,
    "editable": false,
    "nbgrader": {
     "cell_type": "code",
     "checksum": "097a3d83908c133f483831753db79e9d",
     "grade": false,
     "grade_id": "cell-5ac6923c39312d60",
     "locked": true,
     "schema_version": 3,
     "solution": false,
     "task": false
    }
   },
   "outputs": [],
   "source": [
    "s = set()"
   ]
  },
  {
   "cell_type": "code",
   "execution_count": 7,
   "metadata": {
    "deletable": false,
    "editable": false,
    "nbgrader": {
     "cell_type": "code",
     "checksum": "d4893591cc0b93e3a648a65ababb392c",
     "grade": false,
     "grade_id": "cell-cb0251dd8912295c",
     "locked": true,
     "schema_version": 3,
     "solution": false,
     "task": false
    }
   },
   "outputs": [
    {
     "data": {
      "text/plain": [
       "set()"
      ]
     },
     "execution_count": 7,
     "metadata": {},
     "output_type": "execute_result"
    }
   ],
   "source": [
    "s"
   ]
  },
  {
   "cell_type": "code",
   "execution_count": null,
   "metadata": {},
   "outputs": [],
   "source": []
  },
  {
   "cell_type": "markdown",
   "metadata": {
    "deletable": false,
    "editable": false,
    "nbgrader": {
     "cell_type": "markdown",
     "checksum": "8d6be8c713b23522242e40970a29b41f",
     "grade": false,
     "grade_id": "cell-ab7bd144facabc0b",
     "locked": true,
     "schema_version": 3,
     "solution": false,
     "task": false
    }
   },
   "source": [
    "#### 4\n",
    "How can you differentiate sets and dictionaries when they have members?  Which of the following is a dictionary and which is a set?"
   ]
  },
  {
   "cell_type": "code",
   "execution_count": 8,
   "metadata": {
    "deletable": false,
    "editable": false,
    "nbgrader": {
     "cell_type": "code",
     "checksum": "b262abeec20ead6f4f15fe8809617cc0",
     "grade": false,
     "grade_id": "cell-5322809356a4f251",
     "locked": true,
     "schema_version": 3,
     "solution": false,
     "task": false
    }
   },
   "outputs": [],
   "source": [
    "a = {\"abc\", \"cde\", \"efh\"}\n",
    "b = {\"abc\":1, \"cde\":2, \"efh\":3}"
   ]
  },
  {
   "cell_type": "markdown",
   "metadata": {},
   "source": [
    "### The dictionary has keys and values, the set just has the values"
   ]
  },
  {
   "cell_type": "markdown",
   "metadata": {
    "deletable": false,
    "editable": false,
    "nbgrader": {
     "cell_type": "markdown",
     "checksum": "8f3edac97ec424d1d7dc519d3323d4cd",
     "grade": false,
     "grade_id": "cell-ebe0dbf2bb59cbc9",
     "locked": true,
     "schema_version": 3,
     "solution": false,
     "task": false
    }
   },
   "source": [
    "#### 5\n",
    "Since we care about membership in sets, how do we add and remove elements from an existing set?  Notice that the set has the ability to **add**, **remove**, and **pop**. Try out these operations to make sure that you understand how they behave.  Most importantly, are they consistent with other collections (lists, dictionaries)?"
   ]
  },
  {
   "cell_type": "code",
   "execution_count": 9,
   "metadata": {},
   "outputs": [],
   "source": [
    "set5 = {1,2,3,4,4,4,5,6,7,7,8,9,0}"
   ]
  },
  {
   "cell_type": "code",
   "execution_count": 10,
   "metadata": {},
   "outputs": [
    {
     "data": {
      "text/plain": [
       "0"
      ]
     },
     "execution_count": 10,
     "metadata": {},
     "output_type": "execute_result"
    }
   ],
   "source": [
    "set5.pop()"
   ]
  },
  {
   "cell_type": "code",
   "execution_count": 11,
   "metadata": {},
   "outputs": [
    {
     "data": {
      "text/plain": [
       "{1, 2, 3, 4, 5, 6, 7, 8, 9}"
      ]
     },
     "execution_count": 11,
     "metadata": {},
     "output_type": "execute_result"
    }
   ],
   "source": [
    "set5"
   ]
  },
  {
   "cell_type": "markdown",
   "metadata": {
    "deletable": false,
    "editable": false,
    "nbgrader": {
     "cell_type": "markdown",
     "checksum": "f182ef81d5a499a6c25344f1ebb8a77f",
     "grade": false,
     "grade_id": "cell-15825f4aa9e43749",
     "locked": true,
     "schema_version": 3,
     "solution": false,
     "task": false
    }
   },
   "source": [
    "#### 6\n",
    "Sets allow us to reason about membership in groups. There are dedicated operations that help facilitate this. Perform the following operations and make sure that you understand the outcomes."
   ]
  },
  {
   "cell_type": "code",
   "execution_count": 12,
   "metadata": {
    "deletable": false,
    "editable": false,
    "nbgrader": {
     "cell_type": "code",
     "checksum": "0107afbe70f1ef34ffacfb8cd6d8b7ed",
     "grade": false,
     "grade_id": "cell-93b389d4cb551704",
     "locked": true,
     "schema_version": 3,
     "solution": false,
     "task": false
    }
   },
   "outputs": [],
   "source": [
    "set1 = set(\"abcd\")\n",
    "set2 = set(\"cdef\")\n",
    "set3 = set(\"aabbccdd\")"
   ]
  },
  {
   "cell_type": "code",
   "execution_count": 13,
   "metadata": {
    "deletable": false,
    "editable": false,
    "nbgrader": {
     "cell_type": "code",
     "checksum": "2b17bab56e4aeeda96404b93e92597c9",
     "grade": false,
     "grade_id": "cell-6f76d6936001b3dd",
     "locked": true,
     "schema_version": 3,
     "solution": false,
     "task": false
    }
   },
   "outputs": [
    {
     "data": {
      "text/plain": [
       "{'c', 'd'}"
      ]
     },
     "execution_count": 13,
     "metadata": {},
     "output_type": "execute_result"
    }
   ],
   "source": [
    "set1.intersection(set2)"
   ]
  },
  {
   "cell_type": "code",
   "execution_count": 14,
   "metadata": {
    "deletable": false,
    "editable": false,
    "nbgrader": {
     "cell_type": "code",
     "checksum": "3ee1f9ff0fee9b4ea8eeac905d46f8ab",
     "grade": false,
     "grade_id": "cell-2d6ae9f8b157acdd",
     "locked": true,
     "schema_version": 3,
     "solution": false,
     "task": false
    }
   },
   "outputs": [
    {
     "data": {
      "text/plain": [
       "{'a', 'b', 'c', 'd', 'e', 'f'}"
      ]
     },
     "execution_count": 14,
     "metadata": {},
     "output_type": "execute_result"
    }
   ],
   "source": [
    "set1.union(set2)"
   ]
  },
  {
   "cell_type": "code",
   "execution_count": 15,
   "metadata": {
    "deletable": false,
    "editable": false,
    "nbgrader": {
     "cell_type": "code",
     "checksum": "6321aaf911257e343c74f4d50bd80553",
     "grade": false,
     "grade_id": "cell-5e63f971b79869aa",
     "locked": true,
     "schema_version": 3,
     "solution": false,
     "task": false
    }
   },
   "outputs": [
    {
     "data": {
      "text/plain": [
       "{'a', 'b'}"
      ]
     },
     "execution_count": 15,
     "metadata": {},
     "output_type": "execute_result"
    }
   ],
   "source": [
    "set1.difference(set2)"
   ]
  },
  {
   "cell_type": "code",
   "execution_count": 16,
   "metadata": {
    "deletable": false,
    "editable": false,
    "nbgrader": {
     "cell_type": "code",
     "checksum": "bb1986e5d100923b8b5313d60f1318f2",
     "grade": false,
     "grade_id": "cell-6fe919004288c384",
     "locked": true,
     "schema_version": 3,
     "solution": false,
     "task": false
    }
   },
   "outputs": [
    {
     "data": {
      "text/plain": [
       "{'a', 'b', 'e', 'f'}"
      ]
     },
     "execution_count": 16,
     "metadata": {},
     "output_type": "execute_result"
    }
   ],
   "source": [
    "set1.symmetric_difference(set2)"
   ]
  },
  {
   "cell_type": "markdown",
   "metadata": {
    "deletable": false,
    "editable": false,
    "nbgrader": {
     "cell_type": "markdown",
     "checksum": "aafb3f991dc0fc3c5dac9d5ecb537fe2",
     "grade": false,
     "grade_id": "cell-43ecc405031c6ca2",
     "locked": true,
     "schema_version": 3,
     "solution": false,
     "task": false
    }
   },
   "source": [
    "Do these functions change the original set or return a **new** set?"
   ]
  },
  {
   "cell_type": "markdown",
   "metadata": {},
   "source": [
    "### Return a new set"
   ]
  },
  {
   "cell_type": "code",
   "execution_count": 17,
   "metadata": {},
   "outputs": [
    {
     "name": "stdout",
     "output_type": "stream",
     "text": [
      "Help on class set in module builtins:\n",
      "\n",
      "class set(object)\n",
      " |  set() -> new empty set object\n",
      " |  set(iterable) -> new set object\n",
      " |  \n",
      " |  Build an unordered collection of unique elements.\n",
      " |  \n",
      " |  Methods defined here:\n",
      " |  \n",
      " |  __and__(self, value, /)\n",
      " |      Return self&value.\n",
      " |  \n",
      " |  __contains__(...)\n",
      " |      x.__contains__(y) <==> y in x.\n",
      " |  \n",
      " |  __eq__(self, value, /)\n",
      " |      Return self==value.\n",
      " |  \n",
      " |  __ge__(self, value, /)\n",
      " |      Return self>=value.\n",
      " |  \n",
      " |  __getattribute__(self, name, /)\n",
      " |      Return getattr(self, name).\n",
      " |  \n",
      " |  __gt__(self, value, /)\n",
      " |      Return self>value.\n",
      " |  \n",
      " |  __iand__(self, value, /)\n",
      " |      Return self&=value.\n",
      " |  \n",
      " |  __init__(self, /, *args, **kwargs)\n",
      " |      Initialize self.  See help(type(self)) for accurate signature.\n",
      " |  \n",
      " |  __ior__(self, value, /)\n",
      " |      Return self|=value.\n",
      " |  \n",
      " |  __isub__(self, value, /)\n",
      " |      Return self-=value.\n",
      " |  \n",
      " |  __iter__(self, /)\n",
      " |      Implement iter(self).\n",
      " |  \n",
      " |  __ixor__(self, value, /)\n",
      " |      Return self^=value.\n",
      " |  \n",
      " |  __le__(self, value, /)\n",
      " |      Return self<=value.\n",
      " |  \n",
      " |  __len__(self, /)\n",
      " |      Return len(self).\n",
      " |  \n",
      " |  __lt__(self, value, /)\n",
      " |      Return self<value.\n",
      " |  \n",
      " |  __ne__(self, value, /)\n",
      " |      Return self!=value.\n",
      " |  \n",
      " |  __or__(self, value, /)\n",
      " |      Return self|value.\n",
      " |  \n",
      " |  __rand__(self, value, /)\n",
      " |      Return value&self.\n",
      " |  \n",
      " |  __reduce__(...)\n",
      " |      Return state information for pickling.\n",
      " |  \n",
      " |  __repr__(self, /)\n",
      " |      Return repr(self).\n",
      " |  \n",
      " |  __ror__(self, value, /)\n",
      " |      Return value|self.\n",
      " |  \n",
      " |  __rsub__(self, value, /)\n",
      " |      Return value-self.\n",
      " |  \n",
      " |  __rxor__(self, value, /)\n",
      " |      Return value^self.\n",
      " |  \n",
      " |  __sizeof__(...)\n",
      " |      S.__sizeof__() -> size of S in memory, in bytes\n",
      " |  \n",
      " |  __sub__(self, value, /)\n",
      " |      Return self-value.\n",
      " |  \n",
      " |  __xor__(self, value, /)\n",
      " |      Return self^value.\n",
      " |  \n",
      " |  add(...)\n",
      " |      Add an element to a set.\n",
      " |      \n",
      " |      This has no effect if the element is already present.\n",
      " |  \n",
      " |  clear(...)\n",
      " |      Remove all elements from this set.\n",
      " |  \n",
      " |  copy(...)\n",
      " |      Return a shallow copy of a set.\n",
      " |  \n",
      " |  difference(...)\n",
      " |      Return the difference of two or more sets as a new set.\n",
      " |      \n",
      " |      (i.e. all elements that are in this set but not the others.)\n",
      " |  \n",
      " |  difference_update(...)\n",
      " |      Remove all elements of another set from this set.\n",
      " |  \n",
      " |  discard(...)\n",
      " |      Remove an element from a set if it is a member.\n",
      " |      \n",
      " |      If the element is not a member, do nothing.\n",
      " |  \n",
      " |  intersection(...)\n",
      " |      Return the intersection of two sets as a new set.\n",
      " |      \n",
      " |      (i.e. all elements that are in both sets.)\n",
      " |  \n",
      " |  intersection_update(...)\n",
      " |      Update a set with the intersection of itself and another.\n",
      " |  \n",
      " |  isdisjoint(...)\n",
      " |      Return True if two sets have a null intersection.\n",
      " |  \n",
      " |  issubset(...)\n",
      " |      Report whether another set contains this set.\n",
      " |  \n",
      " |  issuperset(...)\n",
      " |      Report whether this set contains another set.\n",
      " |  \n",
      " |  pop(...)\n",
      " |      Remove and return an arbitrary set element.\n",
      " |      Raises KeyError if the set is empty.\n",
      " |  \n",
      " |  remove(...)\n",
      " |      Remove an element from a set; it must be a member.\n",
      " |      \n",
      " |      If the element is not a member, raise a KeyError.\n",
      " |  \n",
      " |  symmetric_difference(...)\n",
      " |      Return the symmetric difference of two sets as a new set.\n",
      " |      \n",
      " |      (i.e. all elements that are in exactly one of the sets.)\n",
      " |  \n",
      " |  symmetric_difference_update(...)\n",
      " |      Update a set with the symmetric difference of itself and another.\n",
      " |  \n",
      " |  union(...)\n",
      " |      Return the union of sets as a new set.\n",
      " |      \n",
      " |      (i.e. all elements that are in either set.)\n",
      " |  \n",
      " |  update(...)\n",
      " |      Update a set with the union of itself and others.\n",
      " |  \n",
      " |  ----------------------------------------------------------------------\n",
      " |  Static methods defined here:\n",
      " |  \n",
      " |  __new__(*args, **kwargs) from builtins.type\n",
      " |      Create and return a new object.  See help(type) for accurate signature.\n",
      " |  \n",
      " |  ----------------------------------------------------------------------\n",
      " |  Data and other attributes defined here:\n",
      " |  \n",
      " |  __hash__ = None\n",
      "\n"
     ]
    }
   ],
   "source": [
    "help(set)"
   ]
  },
  {
   "cell_type": "code",
   "execution_count": 18,
   "metadata": {
    "deletable": false,
    "editable": false,
    "nbgrader": {
     "cell_type": "code",
     "checksum": "db4b3d0019a1a8cdee84454a8bbf7bfe",
     "grade": false,
     "grade_id": "cell-f77c4330b89c5410",
     "locked": true,
     "schema_version": 3,
     "solution": false,
     "task": false
    }
   },
   "outputs": [
    {
     "name": "stdout",
     "output_type": "stream",
     "text": [
      "Help on method_descriptor:\n",
      "\n",
      "difference(...)\n",
      "    Return the difference of two or more sets as a new set.\n",
      "    \n",
      "    (i.e. all elements that are in this set but not the others.)\n",
      "\n"
     ]
    }
   ],
   "source": [
    "help(set.difference)"
   ]
  },
  {
   "cell_type": "code",
   "execution_count": 19,
   "metadata": {
    "deletable": false,
    "editable": false,
    "nbgrader": {
     "cell_type": "code",
     "checksum": "005f6d5c084e9c1852a3fa40fd789bac",
     "grade": false,
     "grade_id": "cell-ff196877156c5056",
     "locked": true,
     "schema_version": 3,
     "solution": false,
     "task": false
    }
   },
   "outputs": [
    {
     "name": "stdout",
     "output_type": "stream",
     "text": [
      "Help on method_descriptor:\n",
      "\n",
      "symmetric_difference(...)\n",
      "    Return the symmetric difference of two sets as a new set.\n",
      "    \n",
      "    (i.e. all elements that are in exactly one of the sets.)\n",
      "\n"
     ]
    }
   ],
   "source": [
    "help(set.symmetric_difference)"
   ]
  },
  {
   "attachments": {
    "venn_diagram.png": {
     "image/png": "[encoded data removed]"
    }
   },
   "cell_type": "markdown",
   "metadata": {
    "deletable": false,
    "editable": false,
    "nbgrader": {
     "cell_type": "markdown",
     "checksum": "92b6b7f496918b476906818129950c8c",
     "grade": false,
     "grade_id": "cell-a1ee916059eab60c",
     "locked": true,
     "schema_version": 3,
     "solution": false,
     "task": false
    }
   },
   "source": [
    "# Assignment\n",
    "\n",
    "#### Problem 0\n",
    "\n",
    "The Venn Diagram below represents the relationship between three sets of data. Each circle represents a defined set of data. Some of the data is shared between these sets.\n",
    "![venn_diagram.png](attachment:venn_diagram.png)\n",
    "\n",
    "1. Write python code to create the three defined sets that are consistent with the diagram.  You might call the sets `red`, `green`, and `blue`.\n",
    "\n",
    "2. Write python code to manipulate your original sets that give you the following results:\n",
    "    1. {i,j}\n",
    "    2. {a,b,c}\n",
    "    3. {i,j,n,o,p}\n",
    "    4. {d}\n",
    "    5. {k,l,m,n,o,p}"
   ]
  },
  {
   "cell_type": "code",
   "execution_count": 20,
   "metadata": {
    "deletable": false,
    "nbgrader": {
     "cell_type": "code",
     "checksum": "dc26f110fd7a251efa3a7de972dd4969",
     "grade": true,
     "grade_id": "cell-e68374f2bc759fa0",
     "locked": false,
     "points": 1,
     "schema_version": 3,
     "solution": true,
     "task": false
    }
   },
   "outputs": [],
   "source": [
    "red = set('abcdklmij')\n",
    "blue = set('ijklmnopqrst')\n",
    "green = set('defghijnop')"
   ]
  },
  {
   "cell_type": "code",
   "execution_count": 21,
   "metadata": {},
   "outputs": [
    {
     "data": {
      "text/plain": [
       "{'i', 'j'}"
      ]
     },
     "execution_count": 21,
     "metadata": {},
     "output_type": "execute_result"
    }
   ],
   "source": [
    "red.intersection(blue,green)"
   ]
  },
  {
   "cell_type": "code",
   "execution_count": 22,
   "metadata": {},
   "outputs": [
    {
     "data": {
      "text/plain": [
       "{'a', 'b', 'c'}"
      ]
     },
     "execution_count": 22,
     "metadata": {},
     "output_type": "execute_result"
    }
   ],
   "source": [
    "red.difference(blue,green)"
   ]
  },
  {
   "cell_type": "code",
   "execution_count": 23,
   "metadata": {},
   "outputs": [
    {
     "data": {
      "text/plain": [
       "{'i', 'j', 'n', 'o', 'p'}"
      ]
     },
     "execution_count": 23,
     "metadata": {},
     "output_type": "execute_result"
    }
   ],
   "source": [
    "green.intersection(blue)"
   ]
  },
  {
   "cell_type": "code",
   "execution_count": 24,
   "metadata": {},
   "outputs": [
    {
     "data": {
      "text/plain": [
       "{'d'}"
      ]
     },
     "execution_count": 24,
     "metadata": {},
     "output_type": "execute_result"
    }
   ],
   "source": [
    "red.union(green).difference(blue).intersection(red,green)"
   ]
  },
  {
   "cell_type": "code",
   "execution_count": 25,
   "metadata": {},
   "outputs": [
    {
     "data": {
      "text/plain": [
       "{'k', 'l', 'm', 'n', 'o', 'p'}"
      ]
     },
     "execution_count": 25,
     "metadata": {},
     "output_type": "execute_result"
    }
   ],
   "source": [
    "red.intersection(blue).union(green.intersection(blue)).difference(red.intersection(blue,green))"
   ]
  },
  {
   "cell_type": "markdown",
   "metadata": {
    "deletable": false,
    "editable": false,
    "nbgrader": {
     "cell_type": "markdown",
     "checksum": "208ca96f34c6b1bec70e0a8059d2ce0e",
     "grade": false,
     "grade_id": "cell-f3f8f77bf6a7555b",
     "locked": true,
     "schema_version": 3,
     "solution": false,
     "task": false
    }
   },
   "source": [
    "#### Problem 1\n",
    "The data files /srv/data/lab10/cs.txt (on Moodle as cs.txt) and /srv/data/lab10/math.txt (on Moodle as math.txt) contain the names of the computer science majors and math majors. Write some python code that allows you to determine:\n",
    "1. All of the math-cs double majors.\n",
    "2. All of the people majoring in math or cs.\n",
    "3. All of the people who are strictly cs majors."
   ]
  },
  {
   "cell_type": "code",
   "execution_count": 26,
   "metadata": {
    "deletable": false,
    "nbgrader": {
     "cell_type": "code",
     "checksum": "447639fef2c59f8ee1a5ae2f2b23474d",
     "grade": true,
     "grade_id": "cell-9627ec314c506986",
     "locked": false,
     "points": 1,
     "schema_version": 3,
     "solution": true,
     "task": false
    }
   },
   "outputs": [],
   "source": [
    "def major_check():\n",
    "    open_file = open('/srv/data/lab10/cs.txt')\n",
    "    open_file2 = open('/srv/data/lab10/math.txt')\n",
    "    cs_majors = open_file.read().strip('\\t\\n').split()\n",
    "    mt_majors = open_file2.read().strip('\\t\\n').split()\n",
    "    \n",
    "    math_set = set([i for i in mt_majors])\n",
    "    cs_set = set([i for i in cs_majors])\n",
    "    both_set = math_set.union(cs_set)\n",
    "    double_majors = set(i for i in cs_majors if i in math_set)\n",
    "    \n",
    "    major = input('What major are you looking for? (CS, CS and Math, or Double Majors) ')\n",
    "    \n",
    "    if major.upper() == 'CS':\n",
    "        return cs_set\n",
    "    elif major.upper() == 'CS AND MATH':\n",
    "        return both_set\n",
    "    elif major.upper() == 'DOUBLE MAJORS':\n",
    "        return double_majors\n",
    "    else:\n",
    "        return print('That is not a valid input, please re-run the function.')\n",
    "    \n",
    "    \n",
    "    return"
   ]
  },
  {
   "cell_type": "code",
   "execution_count": 27,
   "metadata": {},
   "outputs": [
    {
     "name": "stdout",
     "output_type": "stream",
     "text": [
      "What major are you looking for? (CS, CS and Math, or Double Majors) cs\n"
     ]
    },
    {
     "data": {
      "text/plain": [
       "{'Abel,Maclead',\n",
       " 'Adell,Lipkin',\n",
       " 'Aja,Gehrett',\n",
       " 'Alaine,Bergesen',\n",
       " 'Ammie,Corrio',\n",
       " 'Art,Venere',\n",
       " 'Arthur,Farrow',\n",
       " 'Audry,Yaw',\n",
       " 'Beatriz,Corrington',\n",
       " 'Beckie,Silvestrini',\n",
       " 'Bernardine,Rodefer',\n",
       " 'Brandon,Callaro',\n",
       " 'Brock,Bolognia',\n",
       " 'Buddy,Cloney',\n",
       " 'Cammy,Albares',\n",
       " 'Caprice,Suell',\n",
       " 'Carlee,Boulter',\n",
       " 'Carma,Vanheusen',\n",
       " 'Catarina,Gleich',\n",
       " 'Christiane,Eschberger',\n",
       " 'Claribel,Varriano',\n",
       " 'Clay,Hoa',\n",
       " 'Cristy,Lother',\n",
       " 'Delmy,Ahle',\n",
       " 'Dick,Wenzinger',\n",
       " 'Donette,Foller',\n",
       " 'Eden,Jayson',\n",
       " 'Elouise,Gwalthney',\n",
       " 'Elvera,Benimadho',\n",
       " 'Erick,Ferencz',\n",
       " 'Felicidad,Poullion',\n",
       " 'France,Buzick',\n",
       " 'Gail,Kitty',\n",
       " 'Gayla,Schnitzler',\n",
       " 'Gladys,Rim',\n",
       " 'Glory,Kulzer',\n",
       " 'Golda,Kaniecki',\n",
       " 'Gracia,Melnyk',\n",
       " 'Graciela,Ruta',\n",
       " 'Gregoria,Pawlowicz',\n",
       " 'Harrison,Haufler',\n",
       " 'Herminia,Nicolozakes',\n",
       " 'Ilene,Eroman',\n",
       " 'Irma,Wolfgramm',\n",
       " 'Izetta,Funnell',\n",
       " 'Jamal,Vanausdal',\n",
       " 'Jennie,Drymon',\n",
       " 'Jerry,Dallen',\n",
       " 'Jina,Briddick',\n",
       " 'Johnetta,Abdallah',\n",
       " 'Jolene,Ostolaza',\n",
       " 'Joseph,Cryer',\n",
       " 'Josephine,Darakjy',\n",
       " 'Judy,Aquas',\n",
       " 'Kati,Rulapaugh',\n",
       " 'Kattie,Vonasek',\n",
       " 'Kiley,Caldarera',\n",
       " 'Kimberlie,Duenas',\n",
       " 'Kris,Marrier',\n",
       " 'Larae,Gudroe',\n",
       " 'Laurel,Pagliuca',\n",
       " 'Lenna,Paprocki',\n",
       " 'Leonida,Gobern',\n",
       " 'Leota,Dilliard',\n",
       " 'Leota,Ragel',\n",
       " 'Lonny,Weglarz',\n",
       " 'Lorean,Martabano',\n",
       " 'Loren,Asar',\n",
       " 'Lorrine,Worlds',\n",
       " 'Luisa,Jurney',\n",
       " 'Ma,Layous',\n",
       " 'Mari,Lueckenbach',\n",
       " 'Marjory,Mastella',\n",
       " 'Maurine,Yglesias',\n",
       " 'Merilyn,Bayless',\n",
       " 'Merlyn,Lawler',\n",
       " 'Minna,Amigon',\n",
       " 'Mitsue,Tollner',\n",
       " 'Mollie,Mcdoniel',\n",
       " 'Nana,Wrinkles',\n",
       " 'Nelida,Sawchuk',\n",
       " 'Nieves,Gotter',\n",
       " 'Noah,Kalafatis',\n",
       " 'Nu,Mcnease',\n",
       " 'Olive,Matuszak',\n",
       " 'Oretha,Menter',\n",
       " 'Raina,Brachle',\n",
       " 'Regenia,Kannady',\n",
       " 'Renea,Monterrubio',\n",
       " 'Ressie,Auffrey',\n",
       " 'Roosevelt,Hoffis',\n",
       " 'Rory,Papasergi',\n",
       " 'Rosio,Cork',\n",
       " 'Roslyn,Chavous',\n",
       " 'Sage,Wieser',\n",
       " 'Sheron,Louissant',\n",
       " 'Simona,Morasca',\n",
       " 'Skye,Fillingim',\n",
       " 'Staci,Schmaltz',\n",
       " 'Stephaine,Vinning',\n",
       " 'Stephen,Emigh',\n",
       " 'Tamar,Hoogland',\n",
       " 'Tarra,Nachor',\n",
       " 'Tiffiny,Steffensmeier',\n",
       " 'Tracey,Modzelewski',\n",
       " 'Twana,Felger',\n",
       " 'Veronika,Inouye',\n",
       " 'Vi,Rentfro',\n",
       " 'Vincenza,Zepp',\n",
       " 'Viva,Toelkes',\n",
       " 'Whitley,Tomasulo',\n",
       " 'Willard,Kolmetz',\n",
       " 'Willow,Kusko',\n",
       " 'Yoko,Fishburne',\n",
       " 'Yuki,Whobrey',\n",
       " 'first_name,last_name'}"
      ]
     },
     "execution_count": 27,
     "metadata": {},
     "output_type": "execute_result"
    }
   ],
   "source": [
    "major_check()"
   ]
  },
  {
   "cell_type": "code",
   "execution_count": null,
   "metadata": {},
   "outputs": [],
   "source": []
  },
  {
   "cell_type": "markdown",
   "metadata": {
    "deletable": false,
    "editable": false,
    "nbgrader": {
     "cell_type": "markdown",
     "checksum": "e6be15eae8306f792ff30ca6dd2b9f92",
     "grade": false,
     "grade_id": "cell-d71126dffd990cf4",
     "locked": true,
     "schema_version": 3,
     "solution": false,
     "task": false
    }
   },
   "source": [
    "#### Problem 2\n",
    "The file /srv/data/lab10/studentYear.txt (on Moodle as studentYear.txt) has the same students (+ a few extra) ranked according to their class year. (1=freshmen, 2=sophomore, 3 = junior, 4 = senior).\n",
    "1. Find all sophomore level CS majors.\n",
    "2. Find all Freshmen who are not majoring in math or CS\n",
    "3. Find all the Senior Math and CS majors."
   ]
  },
  {
   "cell_type": "code",
   "execution_count": 28,
   "metadata": {
    "deletable": false,
    "nbgrader": {
     "cell_type": "code",
     "checksum": "da5d635a27ffea91f29baf306b45eebb",
     "grade": true,
     "grade_id": "cell-8407f1b6d942df28",
     "locked": false,
     "points": 1,
     "schema_version": 3,
     "solution": true,
     "task": false
    }
   },
   "outputs": [],
   "source": [
    "def year_finder():\n",
    "    open_file = open('/srv/data/lab10/cs.txt')\n",
    "    open_file2 = open('/srv/data/lab10/math.txt')\n",
    "    open_file3 = open('/srv/data/lab10/studentYear.txt')\n",
    "    cs_majors = open_file.read().strip('\\t\\n').split()\n",
    "    mt_majors = open_file2.read().strip('\\t\\n').split()\n",
    "    student_year = open_file3.readlines()\n",
    "    \n",
    "    math_set = set([i for i in mt_majors])\n",
    "    cs_set = set([i for i in cs_majors])\n",
    "    both_set = math_set.union(cs_set)\n",
    "    soph_cs = set()\n",
    "    fresh_none = set()\n",
    "    sen_both = set()\n",
    "    \n",
    "    for line in student_year[:-1]:\n",
    "        line = line.split()\n",
    "        if line[0] == '2':\n",
    "            if line[1] in cs_majors:\n",
    "                soph_cs.add(line[1])\n",
    "        if line[0] == '1':\n",
    "            if line[1] not in cs_majors and line[1] not in mt_majors:\n",
    "                fresh_none.add(line[1])\n",
    "        if line[0] == '4':\n",
    "            if line[1] in both_set:\n",
    "                sen_both.add(line[1])\n",
    "    \n",
    "    inquiry = input('What are you looking for? (Soph CS Majors, Freshmen not Math or CS, Senior Math or CS): ').upper()\n",
    "    \n",
    "    if inquiry == 'SOPH CS MAJORS':\n",
    "        return soph_cs\n",
    "    elif inquiry == 'FRESHMEN NOT MATH OR CS':\n",
    "        return fresh_none\n",
    "    elif inquiry == 'SENIOR MATH OR CS':\n",
    "        return sen_both\n",
    "    else:\n",
    "        return print('That is not a valid input, please re-run the function')\n",
    "    "
   ]
  },
  {
   "cell_type": "code",
   "execution_count": 29,
   "metadata": {},
   "outputs": [
    {
     "name": "stdout",
     "output_type": "stream",
     "text": [
      "What are you looking for? (Soph CS Majors, Freshmen not Math or CS, Senior Math or CS): soph cs majors\n"
     ]
    },
    {
     "data": {
      "text/plain": [
       "{'Cammy,Albares',\n",
       " 'Christiane,Eschberger',\n",
       " 'Clay,Hoa',\n",
       " 'Elouise,Gwalthney',\n",
       " 'Elvera,Benimadho',\n",
       " 'France,Buzick',\n",
       " 'Gladys,Rim',\n",
       " 'Irma,Wolfgramm',\n",
       " 'Jerry,Dallen',\n",
       " 'Jina,Briddick',\n",
       " 'Joseph,Cryer',\n",
       " 'Kattie,Vonasek',\n",
       " 'Kris,Marrier',\n",
       " 'Leota,Dilliard',\n",
       " 'Leota,Ragel',\n",
       " 'Mollie,Mcdoniel',\n",
       " 'Noah,Kalafatis',\n",
       " 'Nu,Mcnease',\n",
       " 'Raina,Brachle',\n",
       " 'Roosevelt,Hoffis',\n",
       " 'Rosio,Cork',\n",
       " 'Tiffiny,Steffensmeier',\n",
       " 'Vi,Rentfro',\n",
       " 'Vincenza,Zepp',\n",
       " 'Willow,Kusko',\n",
       " 'Yoko,Fishburne',\n",
       " 'Yuki,Whobrey'}"
      ]
     },
     "execution_count": 29,
     "metadata": {},
     "output_type": "execute_result"
    }
   ],
   "source": [
    "year_finder()"
   ]
  },
  {
   "cell_type": "code",
   "execution_count": null,
   "metadata": {},
   "outputs": [],
   "source": []
  }
 ],
 "metadata": {
  "kernelspec": {
   "display_name": "Python 3",
   "language": "python",
   "name": "python3"
  },
  "language_info": {
   "codemirror_mode": {
    "name": "ipython",
    "version": 3
   },
   "file_extension": ".py",
   "mimetype": "text/x-python",
   "name": "python",
   "nbconvert_exporter": "python",
   "pygments_lexer": "ipython3",
   "version": "3.7.7"
  }
 },
 "nbformat": 4,
 "nbformat_minor": 2
}

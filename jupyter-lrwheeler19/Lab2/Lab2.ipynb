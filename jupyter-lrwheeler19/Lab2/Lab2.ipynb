{
 "cells": [
  {
   "cell_type": "markdown",
   "metadata": {},
   "source": [
    "### CS 125 Assignment\n",
    "\n",
    "Before you turn this assignment in, make sure everything runs as expected. First, **restart the kernel** (in the menubar, select Kernel$\\rightarrow$Restart) and then **run all cells** (in the menubar, select Cell$\\rightarrow$Run All).\n",
    "\n",
    "Make sure you fill in any place that says `YOUR CODE HERE` or \"YOUR ANSWER HERE\", as well as your name and collaborators below:"
   ]
  },
  {
   "cell_type": "code",
   "execution_count": 1,
   "metadata": {},
   "outputs": [],
   "source": [
    "NAME = \"Leo Wheeler\"\n",
    "COLLABORATORS = \"\""
   ]
  },
  {
   "cell_type": "markdown",
   "metadata": {},
   "source": [
    "---\n",
    "---"
   ]
  },
  {
   "cell_type": "markdown",
   "metadata": {
    "deletable": false,
    "editable": false,
    "nbgrader": {
     "cell_type": "markdown",
     "checksum": "c437df11cb6b024ae77146fcb971a427",
     "grade": false,
     "grade_id": "cell-4447c70cd2649967",
     "locked": true,
     "schema_version": 3,
     "solution": false,
     "task": false
    }
   },
   "source": [
    "# Lab 2\n",
    "\n",
    "Objectives:\n",
    "\n",
    "- Develop your ability to ask questions of the data using relational and logical operators."
   ]
  },
  {
   "cell_type": "markdown",
   "metadata": {
    "deletable": false,
    "editable": false,
    "nbgrader": {
     "cell_type": "markdown",
     "checksum": "caeb2385b79fcad338201970ca3c4df0",
     "grade": false,
     "grade_id": "cell-bf0014f969c79087",
     "locked": true,
     "schema_version": 3,
     "solution": false,
     "task": false
    }
   },
   "source": [
    "---\n",
    "## Created by:\n",
    "- Michael Stobb\n",
    "- With collaborators: \n",
    "    - None\n",
    "- Lab2\n",
    "\n",
    "Remember that you are **encouraged** to collaborate on lab activities – just be sure to: \n",
    "1. Document your collaborators and sources.\n",
    "2. Don’t electronically share the code.\n",
    "3. Understand what you submit. \n",
    "\n",
    "\n",
    "---"
   ]
  },
  {
   "cell_type": "markdown",
   "metadata": {
    "deletable": false,
    "editable": false,
    "nbgrader": {
     "cell_type": "markdown",
     "checksum": "b96eec12c1d463f1ca6bca3f46f6d48a",
     "grade": false,
     "grade_id": "cell-e713112241a28592",
     "locked": true,
     "schema_version": 3,
     "solution": false,
     "task": false
    }
   },
   "source": [
    "## Some Important Ideas\n",
    "\n",
    "1. Earlier we were introduced to **Relational Operators**: `<` `<=` `>` `>=` `==` `!=`\n",
    "    1. Work with both numeric and string data types\n",
    "    2. Allow you to ask a question of the data and get a boolean (True/False) value as a response.\n",
    "    3. The question that you are asking is about the relationship/order of the operands.\n",
    "\n",
    "\n",
    "2. Here is another set of operators: **Logical Operators**: `and` `or` `not`\n",
    "    1. Work with boolean values as operands\n",
    "    2. Form more complex questions (usually with different variables) and return a boolean value."
   ]
  },
  {
   "cell_type": "markdown",
   "metadata": {
    "deletable": false,
    "editable": false,
    "nbgrader": {
     "cell_type": "markdown",
     "checksum": "4082562a0f7c36232a31f07e0ca72284",
     "grade": false,
     "grade_id": "cell-81d0d3aea41f92f8",
     "locked": true,
     "schema_version": 3,
     "solution": false,
     "task": false
    }
   },
   "source": [
    "## (0) Small Experiments\n",
    "Remember that these small experiments are designed to help you get practice with some of the concepts associated with the lab. They also should help you understand some of the nuances and peculiarities that you may encounter\n",
    "when programming. Make sure that you work through **all** of the examples. If something unexpected happens, try\n",
    "to make sense of it.  Above all, be *thinking*.  If you can’t make sense of it, ask a friend. If neither of you knows what is happening, talk Instructor (via email, Google Hangouts, or Office Hours).\n",
    "\n",
    "1. Recall that floating point values sometimes lack precision. That is to say the way that the machine stores these values can introduce very small but very real rounding errors. Try this:\n",
    "    1. ```python\n",
    "    num = 1/2```\n",
    "    2. ```python\n",
    "    print ( num * 2)```\n",
    "    3. ```python\n",
    "    num = 1/49```\n",
    "    4. ```python\n",
    "    print (num * 49)```"
   ]
  },
  {
   "cell_type": "code",
   "execution_count": 2,
   "metadata": {},
   "outputs": [],
   "source": [
    "num = 1/2"
   ]
  },
  {
   "cell_type": "code",
   "execution_count": 3,
   "metadata": {},
   "outputs": [
    {
     "name": "stdout",
     "output_type": "stream",
     "text": [
      "1.0\n"
     ]
    }
   ],
   "source": [
    "print(num*2)"
   ]
  },
  {
   "cell_type": "code",
   "execution_count": 4,
   "metadata": {},
   "outputs": [],
   "source": [
    "num = 1/49"
   ]
  },
  {
   "cell_type": "code",
   "execution_count": 5,
   "metadata": {},
   "outputs": [
    {
     "name": "stdout",
     "output_type": "stream",
     "text": [
      "0.9999999999999999\n"
     ]
    }
   ],
   "source": [
    "print(num*49)"
   ]
  },
  {
   "cell_type": "markdown",
   "metadata": {
    "deletable": false,
    "editable": false,
    "nbgrader": {
     "cell_type": "markdown",
     "checksum": "1682307be44ffbaa1bfa15a9cbfb3e7e",
     "grade": false,
     "grade_id": "cell-bffaf4038e6d68ee",
     "locked": true,
     "schema_version": 3,
     "solution": false,
     "task": false
    }
   },
   "source": [
    "That isn’t very satisfying, but the human brain can understand that .999999999999999 is really, *really* close\n",
    "to 1. But what if I try to do a comparison using a relational operator? \n",
    "- Write an expression using a relational operator that asks if num multiplied by 49 is the same as 1."
   ]
  },
  {
   "cell_type": "code",
   "execution_count": 7,
   "metadata": {},
   "outputs": [
    {
     "data": {
      "text/plain": [
       "True"
      ]
     },
     "execution_count": 7,
     "metadata": {},
     "output_type": "execute_result"
    }
   ],
   "source": [
    "abs(num*49 -1)<0.00001"
   ]
  },
  {
   "cell_type": "markdown",
   "metadata": {
    "deletable": false,
    "editable": false,
    "nbgrader": {
     "cell_type": "markdown",
     "checksum": "741afed7356190c1aa9c85673e955322",
     "grade": false,
     "grade_id": "cell-7fd8a4bf14ae040c",
     "locked": true,
     "schema_version": 3,
     "solution": false,
     "task": false
    }
   },
   "source": [
    "It turns out that using relational operators with floats (especially ==) can be problematic. Try this\n",
    "alternative:\n",
    "- ```python\n",
    "abs(num *49 – 1) <.00001```\n",
    "\n",
    "\n",
    "This is a programmatic way to effectively say that the difference between these two values is “close enough”.\n",
    "- `abs()` is a function that computes the absolute value.\n",
    "- Can you explain where “close enough” comes from?"
   ]
  },
  {
   "cell_type": "markdown",
   "metadata": {},
   "source": [
    "### - The function is showing that the difference between `num*49` and 1 is less than 0.00001"
   ]
  },
  {
   "cell_type": "markdown",
   "metadata": {
    "deletable": false,
    "editable": false,
    "nbgrader": {
     "cell_type": "markdown",
     "checksum": "3cbb9b1f2fe011ff154736035b8f689a",
     "grade": false,
     "grade_id": "cell-1cfce74903e697d9",
     "locked": true,
     "schema_version": 3,
     "solution": false,
     "task": false
    }
   },
   "source": [
    "2. Relational operators work nicely with text – try the following\n",
    "    1. ```python\n",
    "    \"a\" < \"b\"```\n",
    "    2. ```python\n",
    "    \"a\" < \"A\"```\n",
    "    3. ```python\n",
    "    \"cat\" < \"dog\"```\n",
    "    4. ```python\n",
    "    \"cat\" < \"Dog\"```\n",
    "    5. ```python\n",
    "    \"cat\" < \"cab\"```"
   ]
  },
  {
   "cell_type": "code",
   "execution_count": 8,
   "metadata": {},
   "outputs": [
    {
     "data": {
      "text/plain": [
       "True"
      ]
     },
     "execution_count": 8,
     "metadata": {},
     "output_type": "execute_result"
    }
   ],
   "source": [
    "\"a\"<\"b\""
   ]
  },
  {
   "cell_type": "code",
   "execution_count": 9,
   "metadata": {},
   "outputs": [
    {
     "data": {
      "text/plain": [
       "False"
      ]
     },
     "execution_count": 9,
     "metadata": {},
     "output_type": "execute_result"
    }
   ],
   "source": [
    "\"a\"<\"A\""
   ]
  },
  {
   "cell_type": "code",
   "execution_count": 11,
   "metadata": {},
   "outputs": [
    {
     "data": {
      "text/plain": [
       "True"
      ]
     },
     "execution_count": 11,
     "metadata": {},
     "output_type": "execute_result"
    }
   ],
   "source": [
    "\"cat\"<\"dog\""
   ]
  },
  {
   "cell_type": "code",
   "execution_count": 12,
   "metadata": {},
   "outputs": [
    {
     "data": {
      "text/plain": [
       "False"
      ]
     },
     "execution_count": 12,
     "metadata": {},
     "output_type": "execute_result"
    }
   ],
   "source": [
    "\"cat\" < \"Dog\""
   ]
  },
  {
   "cell_type": "code",
   "execution_count": 13,
   "metadata": {},
   "outputs": [
    {
     "data": {
      "text/plain": [
       "False"
      ]
     },
     "execution_count": 13,
     "metadata": {},
     "output_type": "execute_result"
    }
   ],
   "source": [
    "\"cat\"<\"cab\""
   ]
  },
  {
   "cell_type": "markdown",
   "metadata": {
    "deletable": false,
    "editable": false,
    "nbgrader": {
     "cell_type": "markdown",
     "checksum": "cca7867544948237f2eb4f63ba89ebf1",
     "grade": false,
     "grade_id": "cell-b0fd70f56971dc15",
     "locked": true,
     "schema_version": 3,
     "solution": false,
     "task": false
    }
   },
   "source": [
    "3. Remember that sometimes numeric data is stored as text – watch what happens and make sure you understand:\n",
    "   1. ```python\n",
    "    5 < 6```\n",
    "   2. ```python\n",
    "    55 < 6```\n",
    "   3. ```python\n",
    "    \"5\" <\"6\"```\n",
    "   4. ```python\n",
    "    \"55\" < \"6\"```\n",
    "\n",
    "Don’t forget to cast the “numeric” strings if you want to use them as numbers."
   ]
  },
  {
   "cell_type": "code",
   "execution_count": 14,
   "metadata": {},
   "outputs": [
    {
     "data": {
      "text/plain": [
       "True"
      ]
     },
     "execution_count": 14,
     "metadata": {},
     "output_type": "execute_result"
    }
   ],
   "source": [
    "5<6"
   ]
  },
  {
   "cell_type": "code",
   "execution_count": 15,
   "metadata": {},
   "outputs": [
    {
     "data": {
      "text/plain": [
       "False"
      ]
     },
     "execution_count": 15,
     "metadata": {},
     "output_type": "execute_result"
    }
   ],
   "source": [
    "55<6"
   ]
  },
  {
   "cell_type": "code",
   "execution_count": 16,
   "metadata": {},
   "outputs": [
    {
     "data": {
      "text/plain": [
       "True"
      ]
     },
     "execution_count": 16,
     "metadata": {},
     "output_type": "execute_result"
    }
   ],
   "source": [
    "\"5\"<\"6\""
   ]
  },
  {
   "cell_type": "code",
   "execution_count": 17,
   "metadata": {},
   "outputs": [
    {
     "data": {
      "text/plain": [
       "True"
      ]
     },
     "execution_count": 17,
     "metadata": {},
     "output_type": "execute_result"
    }
   ],
   "source": [
    "\"55\"<\"6\""
   ]
  },
  {
   "cell_type": "markdown",
   "metadata": {
    "deletable": false,
    "editable": false,
    "nbgrader": {
     "cell_type": "markdown",
     "checksum": "ec5bc585e9546d90c03833e35c594ee5",
     "grade": false,
     "grade_id": "cell-55ed19e73d04aa4e",
     "locked": true,
     "schema_version": 3,
     "solution": false,
     "task": false
    }
   },
   "source": [
    "4. Be careful when you use `==` with string operators:\n",
    "    1. ```python\n",
    "    capital = \"Des Moines\"```\n",
    "    2. ```python\n",
    "    capital == \"DesMoines\"```\n",
    "    3. ```python\n",
    "    capital == \"Des moines\"```\n",
    "    4. ```python\n",
    "    capital == \"Des Moines\"```"
   ]
  },
  {
   "cell_type": "code",
   "execution_count": 18,
   "metadata": {},
   "outputs": [],
   "source": [
    "capital = \"Des Moines\""
   ]
  },
  {
   "cell_type": "code",
   "execution_count": 19,
   "metadata": {},
   "outputs": [
    {
     "data": {
      "text/plain": [
       "False"
      ]
     },
     "execution_count": 19,
     "metadata": {},
     "output_type": "execute_result"
    }
   ],
   "source": [
    "capital == \"DesMoines\""
   ]
  },
  {
   "cell_type": "code",
   "execution_count": 20,
   "metadata": {},
   "outputs": [
    {
     "data": {
      "text/plain": [
       "False"
      ]
     },
     "execution_count": 20,
     "metadata": {},
     "output_type": "execute_result"
    }
   ],
   "source": [
    "capital == \"Des moines\""
   ]
  },
  {
   "cell_type": "code",
   "execution_count": 21,
   "metadata": {},
   "outputs": [
    {
     "data": {
      "text/plain": [
       "True"
      ]
     },
     "execution_count": 21,
     "metadata": {},
     "output_type": "execute_result"
    }
   ],
   "source": [
    "capital == \"Des Moines\""
   ]
  },
  {
   "cell_type": "markdown",
   "metadata": {
    "deletable": false,
    "editable": false,
    "nbgrader": {
     "cell_type": "markdown",
     "checksum": "9ea5df310b6891732f909d9319c98dfd",
     "grade": false,
     "grade_id": "cell-e97b176632d20b0c",
     "locked": true,
     "schema_version": 3,
     "solution": false,
     "task": false
    }
   },
   "source": [
    "5. Logical operators allow you to construct more complex expressions by combining Boolean values. Consider the following expressions:\n",
    "    1. ```python\n",
    "    p = True```\n",
    "    2. ```python\n",
    "    q = False```\n",
    "    3. ```python\n",
    "    p and q```\n",
    "    4. ```python\n",
    "    p or q```\n",
    "    5. ```python\n",
    "    not p```"
   ]
  },
  {
   "cell_type": "code",
   "execution_count": 22,
   "metadata": {},
   "outputs": [],
   "source": [
    "p = True"
   ]
  },
  {
   "cell_type": "code",
   "execution_count": 23,
   "metadata": {},
   "outputs": [],
   "source": [
    "q = False"
   ]
  },
  {
   "cell_type": "code",
   "execution_count": 24,
   "metadata": {},
   "outputs": [
    {
     "data": {
      "text/plain": [
       "False"
      ]
     },
     "execution_count": 24,
     "metadata": {},
     "output_type": "execute_result"
    }
   ],
   "source": [
    "p and q"
   ]
  },
  {
   "cell_type": "code",
   "execution_count": 25,
   "metadata": {},
   "outputs": [
    {
     "data": {
      "text/plain": [
       "True"
      ]
     },
     "execution_count": 25,
     "metadata": {},
     "output_type": "execute_result"
    }
   ],
   "source": [
    "p or q"
   ]
  },
  {
   "cell_type": "code",
   "execution_count": 26,
   "metadata": {},
   "outputs": [
    {
     "data": {
      "text/plain": [
       "False"
      ]
     },
     "execution_count": 26,
     "metadata": {},
     "output_type": "execute_result"
    }
   ],
   "source": [
    "not p"
   ]
  },
  {
   "cell_type": "markdown",
   "metadata": {},
   "source": [
    "Since there are only two Boolean values (`True` and `False`) we can exhaustively list out the outcomes of the logical operators. Complete the following tables by altering the values of `p` and `q` as operands to the logical operators.  Complete them IN THIS CELL.  Just double click here and you can edit directly.  Once you're finished, you can Shift+Enter to reformat the cell nicely.\n",
    "\n",
    "1. \n",
    "\n",
    "\n",
    "| `p`   | `q`   | `p and q` |\n",
    "|-------|-------|-----------|\n",
    "| True  | True  |   True    |\n",
    "| True  | False |  False    |\n",
    "| False | True  |   False   |\n",
    "| False | False | False     |\n",
    "\n",
    "\n",
    "2. \n",
    "\n",
    "\n",
    "| `p`   | `q`   | `p or q` |\n",
    "|-------|-------|-----------|\n",
    "| True  | True  |  True     |\n",
    "| True  | False |  True     |\n",
    "| False | True  |  True     |\n",
    "| False | False |  False    |\n",
    "\n",
    "\n",
    "\n",
    "3. \n",
    "\n",
    "\n",
    "| `p`   | `not p`|\n",
    "|-------|--------|\n",
    "| True  | False     |\n",
    "| False | True   |"
   ]
  },
  {
   "cell_type": "markdown",
   "metadata": {
    "deletable": false,
    "editable": false,
    "nbgrader": {
     "cell_type": "markdown",
     "checksum": "4813433822e8cab0de88723d5e24f364",
     "grade": false,
     "grade_id": "cell-f0307268c0c6f6e3",
     "locked": true,
     "schema_version": 3,
     "solution": false,
     "task": false
    }
   },
   "source": [
    "---\n",
    "# Lab Assignment\n",
    "\n",
    "For each of the following activities, you are responsible for completing the activity, sharing your work with the \n",
    "Instructor or TA and submitting a final version to Moodle."
   ]
  },
  {
   "cell_type": "markdown",
   "metadata": {
    "deletable": false,
    "editable": false,
    "nbgrader": {
     "cell_type": "markdown",
     "checksum": "b3a08dd08334bab1b1756b62b72b3c25",
     "grade": false,
     "grade_id": "cell-47b5c6232cd84140",
     "locked": true,
     "schema_version": 3,
     "solution": false,
     "task": false
    }
   },
   "source": [
    "### Problem 0\n",
    "\n",
    "The following function asks a question and returns an answer.  Specifically, it asks, *Did I work overtime?*.  Overtime pay is mandatory when a worker exceeds 40 hours of work per week."
   ]
  },
  {
   "cell_type": "code",
   "execution_count": 2,
   "metadata": {
    "deletable": false,
    "editable": false,
    "nbgrader": {
     "cell_type": "code",
     "checksum": "45ac811c3d3dadb57636a4b418cc3b3f",
     "grade": false,
     "grade_id": "cell-940050d0bccd803c",
     "locked": true,
     "schema_version": 3,
     "solution": false,
     "task": false
    }
   },
   "outputs": [],
   "source": [
    "def madeOvertime(hours):\n",
    "    return hours > 40"
   ]
  },
  {
   "cell_type": "markdown",
   "metadata": {
    "deletable": false,
    "editable": false,
    "nbgrader": {
     "cell_type": "markdown",
     "checksum": "e5a98ff51c7564fa0e5f52a7fd01ee5a",
     "grade": false,
     "grade_id": "cell-265a44ac4eb22831",
     "locked": true,
     "schema_version": 3,
     "solution": false,
     "task": false
    }
   },
   "source": [
    "After defining the function, I want to test it, **multiple times**, to make sure it is working as expected."
   ]
  },
  {
   "cell_type": "code",
   "execution_count": 3,
   "metadata": {
    "deletable": false,
    "editable": false,
    "nbgrader": {
     "cell_type": "code",
     "checksum": "72f7e1e49c1133ff5f2584f8ae9b2809",
     "grade": false,
     "grade_id": "cell-97bab644a4c09805",
     "locked": true,
     "schema_version": 3,
     "solution": false,
     "task": false
    }
   },
   "outputs": [
    {
     "data": {
      "text/plain": [
       "False"
      ]
     },
     "execution_count": 3,
     "metadata": {},
     "output_type": "execute_result"
    }
   ],
   "source": [
    "madeOvertime(30)"
   ]
  },
  {
   "cell_type": "code",
   "execution_count": 4,
   "metadata": {
    "deletable": false,
    "editable": false,
    "nbgrader": {
     "cell_type": "code",
     "checksum": "2497cefc4dc0eb2c1964d7687ecc6628",
     "grade": false,
     "grade_id": "cell-aa688576474e4f96",
     "locked": true,
     "schema_version": 3,
     "solution": false,
     "task": false
    }
   },
   "outputs": [
    {
     "data": {
      "text/plain": [
       "True"
      ]
     },
     "execution_count": 4,
     "metadata": {},
     "output_type": "execute_result"
    }
   ],
   "source": [
    "madeOvertime(41)"
   ]
  },
  {
   "cell_type": "code",
   "execution_count": 5,
   "metadata": {
    "deletable": false,
    "editable": false,
    "nbgrader": {
     "cell_type": "code",
     "checksum": "20d3439d3c38f3a1ca6d6b6e60ee0a02",
     "grade": false,
     "grade_id": "cell-4f58370e82c50f37",
     "locked": true,
     "schema_version": 3,
     "solution": false,
     "task": false
    }
   },
   "outputs": [
    {
     "data": {
      "text/plain": [
       "False"
      ]
     },
     "execution_count": 5,
     "metadata": {},
     "output_type": "execute_result"
    }
   ],
   "source": [
    "madeOvertime(40)"
   ]
  },
  {
   "cell_type": "code",
   "execution_count": 6,
   "metadata": {
    "deletable": false,
    "editable": false,
    "nbgrader": {
     "cell_type": "code",
     "checksum": "d77b48c32bbee1fb9fb1ecad3480192c",
     "grade": false,
     "grade_id": "cell-7e7e0bf2a2b6e6ed",
     "locked": true,
     "schema_version": 3,
     "solution": false,
     "task": false
    }
   },
   "outputs": [
    {
     "data": {
      "text/plain": [
       "True"
      ]
     },
     "execution_count": 6,
     "metadata": {},
     "output_type": "execute_result"
    }
   ],
   "source": [
    "madeOvertime(50)"
   ]
  },
  {
   "cell_type": "markdown",
   "metadata": {
    "deletable": false,
    "editable": false,
    "nbgrader": {
     "cell_type": "markdown",
     "checksum": "017f50c2a9ea33859794076c085cf492",
     "grade": false,
     "grade_id": "cell-202473ea48656a4e",
     "locked": true,
     "schema_version": 3,
     "solution": false,
     "task": false
    }
   },
   "source": [
    "As another, slightly more sophiticated example, I can ask the question, *Will Amazon make a new season of \"The Boys\"?* (Hint: They just released it!).  This depends on the following:\n",
    "    - The ratings need to be above 80\n",
    "    - The budget needs to be below 10,000,000\n",
    "    \n",
    "I could then write the following code:"
   ]
  },
  {
   "cell_type": "code",
   "execution_count": 7,
   "metadata": {
    "deletable": false,
    "editable": false,
    "nbgrader": {
     "cell_type": "code",
     "checksum": "d756670abb8734cc36fe0ca9e2244e21",
     "grade": false,
     "grade_id": "cell-c7266e27ded5d9fa",
     "locked": true,
     "schema_version": 3,
     "solution": false,
     "task": false
    }
   },
   "outputs": [],
   "source": [
    "def nextSeason(ratings,budget):\n",
    "    return (ratings > 80) and (budget < 10000000)"
   ]
  },
  {
   "cell_type": "code",
   "execution_count": 8,
   "metadata": {
    "deletable": false,
    "editable": false,
    "nbgrader": {
     "cell_type": "code",
     "checksum": "470d7bd0f738d1e1ffed70a28ab4108c",
     "grade": false,
     "grade_id": "cell-639a9b7bccfe6705",
     "locked": true,
     "schema_version": 3,
     "solution": false,
     "task": false
    }
   },
   "outputs": [
    {
     "data": {
      "text/plain": [
       "False"
      ]
     },
     "execution_count": 8,
     "metadata": {},
     "output_type": "execute_result"
    }
   ],
   "source": [
    "nextSeason(75,8000000)"
   ]
  },
  {
   "cell_type": "code",
   "execution_count": 9,
   "metadata": {
    "deletable": false,
    "editable": false,
    "nbgrader": {
     "cell_type": "code",
     "checksum": "5b8395847df0830295aa76c184ad169d",
     "grade": false,
     "grade_id": "cell-241530acd06f6b03",
     "locked": true,
     "schema_version": 3,
     "solution": false,
     "task": false
    }
   },
   "outputs": [
    {
     "data": {
      "text/plain": [
       "True"
      ]
     },
     "execution_count": 9,
     "metadata": {},
     "output_type": "execute_result"
    }
   ],
   "source": [
    "nextSeason(85,8000000)"
   ]
  },
  {
   "cell_type": "code",
   "execution_count": 10,
   "metadata": {
    "deletable": false,
    "editable": false,
    "nbgrader": {
     "cell_type": "code",
     "checksum": "51fdbf6e1c50d672eb706b8db8fe478f",
     "grade": false,
     "grade_id": "cell-3123a033bb296f47",
     "locked": true,
     "schema_version": 3,
     "solution": false,
     "task": false
    }
   },
   "outputs": [
    {
     "data": {
      "text/plain": [
       "False"
      ]
     },
     "execution_count": 10,
     "metadata": {},
     "output_type": "execute_result"
    }
   ],
   "source": [
    "nextSeason(75,11000000)"
   ]
  },
  {
   "cell_type": "code",
   "execution_count": 11,
   "metadata": {
    "deletable": false,
    "editable": false,
    "nbgrader": {
     "cell_type": "code",
     "checksum": "c220d7a88bad03da004c703a626701c9",
     "grade": false,
     "grade_id": "cell-786c954940b6b165",
     "locked": true,
     "schema_version": 3,
     "solution": false,
     "task": false
    }
   },
   "outputs": [
    {
     "data": {
      "text/plain": [
       "False"
      ]
     },
     "execution_count": 11,
     "metadata": {},
     "output_type": "execute_result"
    }
   ],
   "source": [
    "nextSeason(85,11000000)"
   ]
  },
  {
   "cell_type": "markdown",
   "metadata": {
    "deletable": false,
    "editable": false,
    "nbgrader": {
     "cell_type": "markdown",
     "checksum": "d8f8bd5f3d2374a8afb414e88cf34bf6",
     "grade": false,
     "grade_id": "cell-8d3654644d0719eb",
     "locked": true,
     "schema_version": 3,
     "solution": false,
     "task": false
    }
   },
   "source": [
    "Make sure you fully understand the above examples before moving on to the next section.\n",
    "\n",
    "Your job is to **edit the following code** and to write a function that provides the answer to the desired question. Your code will allow other programmers to use your function to supply input parameters and get an answer to the desired question. Do not ask the user for input directly, supply it as function inputs.  In each case, you will return a True/False answer to their question, just like the examples above.\n",
    "\n",
    "\n",
    "For those of you who have done a little programming: you may be tempted to use an \"if\" statement. **DO NOT!** This activity is focused on asking the question, not processing the answer. Every answer *can and should* be the result of a simple boolean expression.\n",
    "\n",
    "\n",
    "I would suggest that you write one function at a time – then convince yourself that it works by running\n",
    "some test cases as demonstrated above.\n",
    "\n",
    "---"
   ]
  },
  {
   "cell_type": "markdown",
   "metadata": {
    "deletable": false,
    "editable": false,
    "nbgrader": {
     "cell_type": "markdown",
     "checksum": "055389cce2642459e1c644e25b8b9e46",
     "grade": false,
     "grade_id": "cell-dbd4f8f2b7322249",
     "locked": true,
     "schema_version": 3,
     "solution": false,
     "task": false
    }
   },
   "source": [
    "1. Did I make a profit?\n",
    "    - Profit is any amount remaining after you have paid your expenses."
   ]
  },
  {
   "cell_type": "code",
   "execution_count": 13,
   "metadata": {},
   "outputs": [],
   "source": [
    "def makeProfit(earnings, expenses):\n",
    "    \n",
    "    return earnings > expenses"
   ]
  },
  {
   "cell_type": "code",
   "execution_count": 14,
   "metadata": {},
   "outputs": [
    {
     "data": {
      "text/plain": [
       "True"
      ]
     },
     "execution_count": 14,
     "metadata": {},
     "output_type": "execute_result"
    }
   ],
   "source": [
    "makeProfit(500,340)"
   ]
  },
  {
   "cell_type": "code",
   "execution_count": 15,
   "metadata": {},
   "outputs": [
    {
     "data": {
      "text/plain": [
       "False"
      ]
     },
     "execution_count": 15,
     "metadata": {},
     "output_type": "execute_result"
    }
   ],
   "source": [
    "makeProfit(500,650)"
   ]
  },
  {
   "cell_type": "code",
   "execution_count": 16,
   "metadata": {
    "deletable": false,
    "editable": false,
    "nbgrader": {
     "cell_type": "code",
     "checksum": "a840630d6da5b91ecdaa8e1b1edfbd07",
     "grade": true,
     "grade_id": "cell-06557dbcf9c84b8a",
     "locked": true,
     "points": 1,
     "schema_version": 3,
     "solution": false,
     "task": false
    }
   },
   "outputs": [],
   "source": [
    "assert makeProfit(100, 20) == True\n",
    "assert makeProfit(50, 200) == False"
   ]
  },
  {
   "cell_type": "markdown",
   "metadata": {
    "deletable": false,
    "editable": false,
    "nbgrader": {
     "cell_type": "markdown",
     "checksum": "f9e0ba2d4e185e8c8824169d9ed04e5a",
     "grade": false,
     "grade_id": "cell-a69dd8be782672fa",
     "locked": true,
     "schema_version": 3,
     "solution": false,
     "task": false
    }
   },
   "source": [
    "2. Does the patient have a fever?\n",
    "    - The normal body temperature is 98.6, but some variations exist.\n",
    "    - The patient has a fever if the body temperature is greater than 100 degrees."
   ]
  },
  {
   "cell_type": "code",
   "execution_count": 17,
   "metadata": {},
   "outputs": [],
   "source": [
    "def hasFever(temp):\n",
    "    \n",
    "    return temp >= 100"
   ]
  },
  {
   "cell_type": "code",
   "execution_count": 18,
   "metadata": {},
   "outputs": [
    {
     "data": {
      "text/plain": [
       "False"
      ]
     },
     "execution_count": 18,
     "metadata": {},
     "output_type": "execute_result"
    }
   ],
   "source": [
    "hasFever(99)"
   ]
  },
  {
   "cell_type": "code",
   "execution_count": 19,
   "metadata": {},
   "outputs": [
    {
     "data": {
      "text/plain": [
       "True"
      ]
     },
     "execution_count": 19,
     "metadata": {},
     "output_type": "execute_result"
    }
   ],
   "source": [
    "hasFever(102)"
   ]
  },
  {
   "cell_type": "code",
   "execution_count": 20,
   "metadata": {
    "deletable": false,
    "editable": false,
    "nbgrader": {
     "cell_type": "code",
     "checksum": "2527462c97c2d00a77b034ee71f4d827",
     "grade": true,
     "grade_id": "cell-9af19748eb90d3a9",
     "locked": true,
     "points": 1,
     "schema_version": 3,
     "solution": false,
     "task": false
    }
   },
   "outputs": [],
   "source": [
    "assert hasFever(20) == False\n",
    "assert hasFever(200) == True"
   ]
  },
  {
   "cell_type": "markdown",
   "metadata": {
    "deletable": false,
    "editable": false,
    "nbgrader": {
     "cell_type": "markdown",
     "checksum": "806636e94a7634c98adec1ed8e7cbf5a",
     "grade": false,
     "grade_id": "cell-5771fd5fa86d574f",
     "locked": true,
     "schema_version": 3,
     "solution": false,
     "task": false
    }
   },
   "source": [
    "3. Did I get the wrong answer?\n",
    "    - I am took a quiz and I want to know how I did.\n",
    "    - Note: My answer and the correct answer should be STRINGS, like \"A\", \"B\", \"C\", etc."
   ]
  },
  {
   "cell_type": "code",
   "execution_count": 22,
   "metadata": {},
   "outputs": [],
   "source": [
    "def answerWrong(my_ans, correct_ans):\n",
    "    \"A\" == \"A\"\n",
    "    \"B\" == \"B\"\n",
    "    \"C\" == \"C\"\n",
    "    \"D\" == \"D\"\n",
    "    return my_ans == correct_ans"
   ]
  },
  {
   "cell_type": "code",
   "execution_count": 23,
   "metadata": {},
   "outputs": [
    {
     "data": {
      "text/plain": [
       "False"
      ]
     },
     "execution_count": 23,
     "metadata": {},
     "output_type": "execute_result"
    }
   ],
   "source": [
    "answerWrong(\"A\", \"B\")"
   ]
  },
  {
   "cell_type": "code",
   "execution_count": 24,
   "metadata": {},
   "outputs": [
    {
     "data": {
      "text/plain": [
       "True"
      ]
     },
     "execution_count": 24,
     "metadata": {},
     "output_type": "execute_result"
    }
   ],
   "source": [
    "answerWrong(\"C\",\"C\")"
   ]
  },
  {
   "cell_type": "code",
   "execution_count": 25,
   "metadata": {
    "deletable": false,
    "editable": false,
    "nbgrader": {
     "cell_type": "code",
     "checksum": "50f3b1e3916733b07d8d9a9492470b0f",
     "grade": true,
     "grade_id": "cell-18749c38b4c383f3",
     "locked": true,
     "points": 1,
     "schema_version": 3,
     "solution": false,
     "task": false
    }
   },
   "outputs": [],
   "source": [
    "assert answerWrong(\"A\",\"A\") == True\n",
    "assert answerWrong(\"C\",\"D\") == False"
   ]
  },
  {
   "cell_type": "markdown",
   "metadata": {
    "deletable": false,
    "editable": false,
    "nbgrader": {
     "cell_type": "markdown",
     "checksum": "b03c159e40849968665dadea545c3a51",
     "grade": false,
     "grade_id": "cell-22f4e8c6b3f30b9a",
     "locked": true,
     "schema_version": 3,
     "solution": false,
     "task": false
    }
   },
   "source": [
    "---\n",
    "4. Did I pass?\n",
    "    - 60% and above is considered a \"passing\" grade.\n",
    "    - Grade should be entered as a number."
   ]
  },
  {
   "cell_type": "code",
   "execution_count": 29,
   "metadata": {},
   "outputs": [],
   "source": [
    "def pass_test(score):\n",
    "    \n",
    "    \n",
    "    return score >= 60"
   ]
  },
  {
   "cell_type": "code",
   "execution_count": 30,
   "metadata": {},
   "outputs": [
    {
     "data": {
      "text/plain": [
       "True"
      ]
     },
     "execution_count": 30,
     "metadata": {},
     "output_type": "execute_result"
    }
   ],
   "source": [
    "pass_test(85)"
   ]
  },
  {
   "cell_type": "code",
   "execution_count": 31,
   "metadata": {},
   "outputs": [
    {
     "data": {
      "text/plain": [
       "False"
      ]
     },
     "execution_count": 31,
     "metadata": {},
     "output_type": "execute_result"
    }
   ],
   "source": [
    "pass_test(45)"
   ]
  },
  {
   "cell_type": "code",
   "execution_count": 32,
   "metadata": {},
   "outputs": [
    {
     "data": {
      "text/plain": [
       "True"
      ]
     },
     "execution_count": 32,
     "metadata": {},
     "output_type": "execute_result"
    }
   ],
   "source": [
    "pass_test(60)"
   ]
  },
  {
   "cell_type": "code",
   "execution_count": 33,
   "metadata": {
    "deletable": false,
    "editable": false,
    "nbgrader": {
     "cell_type": "code",
     "checksum": "511f1ed0b5a7447551de67256449aa2f",
     "grade": true,
     "grade_id": "cell-c3a0029ec31d87ce",
     "locked": true,
     "points": 1,
     "schema_version": 3,
     "solution": false,
     "task": false
    }
   },
   "outputs": [],
   "source": [
    "assert pass_test(90) == True\n",
    "assert pass_test(30) == False"
   ]
  },
  {
   "cell_type": "markdown",
   "metadata": {
    "deletable": false,
    "editable": false,
    "nbgrader": {
     "cell_type": "markdown",
     "checksum": "888aa53e9af979b1de0b56c84c2714b8",
     "grade": false,
     "grade_id": "cell-930ad5a99210bb87",
     "locked": true,
     "schema_version": 3,
     "solution": false,
     "task": false
    }
   },
   "source": [
    "5. Is my letter a capital letter?\n",
    "    - Input should be a single letter (as a string!)"
   ]
  },
  {
   "cell_type": "code",
   "execution_count": 71,
   "metadata": {},
   "outputs": [],
   "source": [
    "def is_capital_letter(my_letter):\n",
    "    \n",
    "    return my_letter < \"a\" and my_letter >= \"A\""
   ]
  },
  {
   "cell_type": "code",
   "execution_count": 72,
   "metadata": {},
   "outputs": [
    {
     "data": {
      "text/plain": [
       "False"
      ]
     },
     "execution_count": 72,
     "metadata": {},
     "output_type": "execute_result"
    }
   ],
   "source": [
    "is_capital_letter(\"f\")"
   ]
  },
  {
   "cell_type": "code",
   "execution_count": 73,
   "metadata": {},
   "outputs": [
    {
     "data": {
      "text/plain": [
       "True"
      ]
     },
     "execution_count": 73,
     "metadata": {},
     "output_type": "execute_result"
    }
   ],
   "source": [
    "is_capital_letter(\"A\")"
   ]
  },
  {
   "cell_type": "code",
   "execution_count": 74,
   "metadata": {
    "deletable": false,
    "editable": false,
    "nbgrader": {
     "cell_type": "code",
     "checksum": "117d31789df522e74bc0f9982c14849c",
     "grade": true,
     "grade_id": "cell-8c0bf7a844a23a50",
     "locked": true,
     "points": 1,
     "schema_version": 3,
     "solution": false,
     "task": false
    }
   },
   "outputs": [],
   "source": [
    "assert is_capital_letter(\"A\") == True\n",
    "assert is_capital_letter(\"f\") == False"
   ]
  },
  {
   "cell_type": "markdown",
   "metadata": {
    "deletable": false,
    "editable": false,
    "nbgrader": {
     "cell_type": "markdown",
     "checksum": "87317f9ec84e6a3673b9598afedcdcbc",
     "grade": false,
     "grade_id": "cell-99bf1b1c854d0441",
     "locked": true,
     "schema_version": 3,
     "solution": false,
     "task": false
    }
   },
   "source": [
    "6. Is this letter a vowel?\n",
    "    - Input should be a single letter (as a string)\n",
    "    - Hint, use lots of `and`s"
   ]
  },
  {
   "cell_type": "code",
   "execution_count": 77,
   "metadata": {},
   "outputs": [],
   "source": [
    "def is_vowel(my_letter):\n",
    "      \n",
    "    return (my_letter == \"a\") or (my_letter == \"e\") or (my_letter == \"i\") or (my_letter == \"o\") or (my_letter == \"u\") or (my_letter == \"A\") or (my_letter == \"E\") or (my_letter == \"I\") or (my_letter == \"O\") or (my_letter == \"U\")"
   ]
  },
  {
   "cell_type": "code",
   "execution_count": 80,
   "metadata": {},
   "outputs": [
    {
     "data": {
      "text/plain": [
       "True"
      ]
     },
     "execution_count": 80,
     "metadata": {},
     "output_type": "execute_result"
    }
   ],
   "source": [
    "is_vowel(\"u\")"
   ]
  },
  {
   "cell_type": "code",
   "execution_count": 81,
   "metadata": {},
   "outputs": [
    {
     "data": {
      "text/plain": [
       "False"
      ]
     },
     "execution_count": 81,
     "metadata": {},
     "output_type": "execute_result"
    }
   ],
   "source": [
    "is_vowel(\"g\")"
   ]
  },
  {
   "cell_type": "code",
   "execution_count": 76,
   "metadata": {
    "deletable": false,
    "editable": false,
    "nbgrader": {
     "cell_type": "code",
     "checksum": "c69b4acf2e9e80f3d73a76aee211e8e2",
     "grade": true,
     "grade_id": "cell-e5db0b1ae9721aa1",
     "locked": true,
     "points": 1,
     "schema_version": 3,
     "solution": false,
     "task": false
    }
   },
   "outputs": [],
   "source": [
    "assert is_vowel(\"A\") == True\n",
    "assert is_vowel(\"f\") == False\n",
    "assert is_vowel(\"e\") == True"
   ]
  },
  {
   "cell_type": "markdown",
   "metadata": {
    "deletable": false,
    "editable": false,
    "nbgrader": {
     "cell_type": "markdown",
     "checksum": "f51c8764f06bc10c779db2958b6e8590",
     "grade": false,
     "grade_id": "cell-b034fdca019e8597",
     "locked": true,
     "schema_version": 3,
     "solution": false,
     "task": false
    }
   },
   "source": [
    "7. Is this number even?\n",
    "    - Even numbers are evenly disible by 2."
   ]
  },
  {
   "cell_type": "code",
   "execution_count": 50,
   "metadata": {},
   "outputs": [],
   "source": [
    "def is_number_even(N):\n",
    "    \n",
    "    return (N % 2) == 0"
   ]
  },
  {
   "cell_type": "code",
   "execution_count": 54,
   "metadata": {},
   "outputs": [
    {
     "data": {
      "text/plain": [
       "True"
      ]
     },
     "execution_count": 54,
     "metadata": {},
     "output_type": "execute_result"
    }
   ],
   "source": [
    "is_number_even(4)"
   ]
  },
  {
   "cell_type": "code",
   "execution_count": 53,
   "metadata": {},
   "outputs": [
    {
     "data": {
      "text/plain": [
       "False"
      ]
     },
     "execution_count": 53,
     "metadata": {},
     "output_type": "execute_result"
    }
   ],
   "source": [
    "is_number_even(7)"
   ]
  },
  {
   "cell_type": "code",
   "execution_count": 51,
   "metadata": {
    "deletable": false,
    "editable": false,
    "nbgrader": {
     "cell_type": "code",
     "checksum": "6c14e07eff2931bd3f8c687cb261e5c8",
     "grade": true,
     "grade_id": "cell-fa9cd2dee38bc07a",
     "locked": true,
     "points": 1,
     "schema_version": 3,
     "solution": false,
     "task": false
    }
   },
   "outputs": [],
   "source": [
    "assert is_number_even(2) == True\n",
    "assert is_number_even(7) == False\n",
    "assert is_number_even(2022) == True"
   ]
  },
  {
   "cell_type": "markdown",
   "metadata": {
    "deletable": false,
    "editable": false,
    "nbgrader": {
     "cell_type": "markdown",
     "checksum": "6dea1c7ed0c43f5938ffc85a3f252bde",
     "grade": false,
     "grade_id": "cell-3abdfc63d1800786",
     "locked": true,
     "schema_version": 3,
     "solution": false,
     "task": false
    }
   },
   "source": [
    "8. is my GMR abnormal?\n",
    "    - GMR is some important measurement.\n",
    "    - Normal values for GMR are between 15 and 48."
   ]
  },
  {
   "cell_type": "code",
   "execution_count": 56,
   "metadata": {},
   "outputs": [],
   "source": [
    "def normal_GMR(my_gmr_value):\n",
    "    \n",
    "    return my_gmr_value > 15 and my_gmr_value <48"
   ]
  },
  {
   "cell_type": "code",
   "execution_count": 57,
   "metadata": {},
   "outputs": [
    {
     "data": {
      "text/plain": [
       "True"
      ]
     },
     "execution_count": 57,
     "metadata": {},
     "output_type": "execute_result"
    }
   ],
   "source": [
    "normal_GMR(43)"
   ]
  },
  {
   "cell_type": "code",
   "execution_count": 58,
   "metadata": {},
   "outputs": [
    {
     "data": {
      "text/plain": [
       "False"
      ]
     },
     "execution_count": 58,
     "metadata": {},
     "output_type": "execute_result"
    }
   ],
   "source": [
    "normal_GMR(12)"
   ]
  },
  {
   "cell_type": "code",
   "execution_count": 127,
   "metadata": {
    "deletable": false,
    "editable": false,
    "nbgrader": {
     "cell_type": "code",
     "checksum": "32aba365ed11de75b03d62edfd92c11a",
     "grade": true,
     "grade_id": "cell-6040f0397aec8a44",
     "locked": true,
     "points": 1,
     "schema_version": 3,
     "solution": false,
     "task": false
    }
   },
   "outputs": [],
   "source": [
    "assert normal_GMR(20) == True\n",
    "assert normal_GMR(50) == False\n",
    "assert normal_GMR(35) == True"
   ]
  },
  {
   "cell_type": "markdown",
   "metadata": {
    "deletable": false,
    "editable": false,
    "nbgrader": {
     "cell_type": "markdown",
     "checksum": "c1b8dde43fbc2d24e988b6d09c6c4e17",
     "grade": false,
     "grade_id": "cell-cc77bab10bdb8e43",
     "locked": true,
     "schema_version": 3,
     "solution": false,
     "task": false
    }
   },
   "source": [
    "9. Is this student a Sophomore?\n",
    "    - Students are classified according to the number of credits that they have completed.\n",
    "        - A Freshman is any student with less than 8 credits.\n",
    "        - With every 8 credits students are successively ranked as Sophomores and Juniors.\n",
    "        - Students with 24 or more credits are Seniors."
   ]
  },
  {
   "cell_type": "code",
   "execution_count": 2,
   "metadata": {},
   "outputs": [],
   "source": [
    "def is_sophomore(num_credits):\n",
    "    \n",
    "    \n",
    "    return num_credits >= 8 and num_credits <16"
   ]
  },
  {
   "cell_type": "code",
   "execution_count": 3,
   "metadata": {},
   "outputs": [
    {
     "data": {
      "text/plain": [
       "True"
      ]
     },
     "execution_count": 3,
     "metadata": {},
     "output_type": "execute_result"
    }
   ],
   "source": [
    "is_sophomore(12)"
   ]
  },
  {
   "cell_type": "code",
   "execution_count": null,
   "metadata": {},
   "outputs": [],
   "source": []
  },
  {
   "cell_type": "code",
   "execution_count": 129,
   "metadata": {
    "deletable": false,
    "editable": false,
    "nbgrader": {
     "cell_type": "code",
     "checksum": "34d9c7a99c399795cf1cc28d0d0c6be6",
     "grade": true,
     "grade_id": "cell-4560a4622fb49aba",
     "locked": true,
     "points": 1,
     "schema_version": 3,
     "solution": false,
     "task": false
    }
   },
   "outputs": [],
   "source": [
    "assert is_sophomore(5) == False\n",
    "assert is_sophomore(10) == True\n",
    "assert is_sophomore(23) == False\n",
    "assert is_sophomore(25) == False"
   ]
  },
  {
   "cell_type": "markdown",
   "metadata": {
    "deletable": false,
    "editable": false,
    "nbgrader": {
     "cell_type": "markdown",
     "checksum": "d5d39dfcb8e0bf12a943f1a6dffa47a3",
     "grade": false,
     "grade_id": "cell-862a1fe518882a33",
     "locked": true,
     "schema_version": 3,
     "solution": false,
     "task": false
    }
   },
   "source": [
    "10. Is it a good day to golf?\n",
    "    - The best days for golf are influenced by the weather.\n",
    "        - Golfing in the rain is no fun.\n",
    "        - It is better to golf when it isn't too windy (windspeed less than 20 mph).\n",
    "        - The ideal temperature is between 60 and 85 degrees."
   ]
  },
  {
   "cell_type": "code",
   "execution_count": 5,
   "metadata": {},
   "outputs": [],
   "source": [
    "def good_golf_day(rain_status, windspeed, temperature):\n",
    "    \n",
    "    \n",
    "    return (rain_status == False and windspeed < 20 and temperature <85 and temperature >60)"
   ]
  },
  {
   "cell_type": "code",
   "execution_count": 6,
   "metadata": {},
   "outputs": [
    {
     "data": {
      "text/plain": [
       "True"
      ]
     },
     "execution_count": 6,
     "metadata": {},
     "output_type": "execute_result"
    }
   ],
   "source": [
    "good_golf_day(False, 10, 75)"
   ]
  },
  {
   "cell_type": "code",
   "execution_count": 7,
   "metadata": {},
   "outputs": [
    {
     "data": {
      "text/plain": [
       "False"
      ]
     },
     "execution_count": 7,
     "metadata": {},
     "output_type": "execute_result"
    }
   ],
   "source": [
    "good_golf_day(False, 40,100)"
   ]
  },
  {
   "cell_type": "code",
   "execution_count": 138,
   "metadata": {
    "deletable": false,
    "editable": false,
    "nbgrader": {
     "cell_type": "code",
     "checksum": "8e7d4075b2fb5d22bf6815456d919d60",
     "grade": true,
     "grade_id": "cell-1be57321bc244409",
     "locked": true,
     "points": 1,
     "schema_version": 3,
     "solution": false,
     "task": false
    }
   },
   "outputs": [],
   "source": [
    "assert good_golf_day(False, 10, 75) == True\n",
    "assert good_golf_day(True, 10, 75) == False\n",
    "assert good_golf_day(False, 25, 75) == False\n",
    "assert good_golf_day(False, 10, 90) == False"
   ]
  },
  {
   "cell_type": "markdown",
   "metadata": {
    "deletable": false,
    "editable": false,
    "nbgrader": {
     "cell_type": "markdown",
     "checksum": "71eed918f0216eeb68571c1051f5e8b5",
     "grade": false,
     "grade_id": "cell-c61515a3e7eac7f1",
     "locked": true,
     "schema_version": 3,
     "solution": false,
     "task": false
    }
   },
   "source": [
    "11. Can I retire?\n",
    "    - IPERS is the Iowa Public Employees Retirement System.  To be eligible to collect pay from IPERS (i.e. to retire), you must meet one of three requirements.\n",
    "        1. the sum of the age and years of service equals or exceeds 88\n",
    "        2. age is at least 62 and years service is at least 20\n",
    "        3. age is 65 or more"
   ]
  },
  {
   "cell_type": "code",
   "execution_count": 1,
   "metadata": {},
   "outputs": [],
   "source": [
    "def can_retire(current_age, years_of_service):\n",
    "\n",
    "    return (current_age+years_of_service >= 88) or (current_age >=62 and years_of_service >= 20) or (current_age >=65)"
   ]
  },
  {
   "cell_type": "code",
   "execution_count": 2,
   "metadata": {},
   "outputs": [
    {
     "data": {
      "text/plain": [
       "False"
      ]
     },
     "execution_count": 2,
     "metadata": {},
     "output_type": "execute_result"
    }
   ],
   "source": [
    "can_retire(62,19)"
   ]
  },
  {
   "cell_type": "code",
   "execution_count": 3,
   "metadata": {},
   "outputs": [
    {
     "data": {
      "text/plain": [
       "True"
      ]
     },
     "execution_count": 3,
     "metadata": {},
     "output_type": "execute_result"
    }
   ],
   "source": [
    "can_retire(62,20)"
   ]
  },
  {
   "cell_type": "code",
   "execution_count": 4,
   "metadata": {
    "deletable": false,
    "editable": false,
    "nbgrader": {
     "cell_type": "code",
     "checksum": "41567c4678d58193b52e7081f0438721",
     "grade": true,
     "grade_id": "cell-ed500cbf60c75c60",
     "locked": true,
     "points": 1,
     "schema_version": 3,
     "solution": false,
     "task": false
    }
   },
   "outputs": [],
   "source": [
    "assert can_retire(55, 10) == False\n",
    "assert can_retire(50, 40) == True\n",
    "assert can_retire(64, 20) == True\n",
    "assert can_retire(70, 10) == True"
   ]
  },
  {
   "cell_type": "markdown",
   "metadata": {
    "deletable": false,
    "editable": false,
    "nbgrader": {
     "cell_type": "markdown",
     "checksum": "0625fa54854738892c62ff5f2f83715b",
     "grade": false,
     "grade_id": "cell-3746f7f21b858b71",
     "locked": true,
     "schema_version": 3,
     "solution": false,
     "task": false
    }
   },
   "source": [
    "12. Is my blood sugar level ok?\n",
    "    - Normal Blood sugar levels are 70-100 when fasting, but 70-140 otherwise.\n",
    "    - Fasting means that it has been more than 24 hours since you have eaten."
   ]
  },
  {
   "cell_type": "code",
   "execution_count": 17,
   "metadata": {},
   "outputs": [],
   "source": [
    "def normal_blood_sugar(is_fasted, blood_sugar):\n",
    "    \n",
    "    \n",
    "    return ((is_fasted == False) and blood_sugar >=70 and blood_sugar <=140) or ((is_fasted == True) and blood_sugar>=70 and blood_sugar<=100)"
   ]
  },
  {
   "cell_type": "code",
   "execution_count": 19,
   "metadata": {},
   "outputs": [
    {
     "data": {
      "text/plain": [
       "True"
      ]
     },
     "execution_count": 19,
     "metadata": {},
     "output_type": "execute_result"
    }
   ],
   "source": [
    "normal_blood_sugar(True, 90)"
   ]
  },
  {
   "cell_type": "code",
   "execution_count": 20,
   "metadata": {},
   "outputs": [
    {
     "data": {
      "text/plain": [
       "False"
      ]
     },
     "execution_count": 20,
     "metadata": {},
     "output_type": "execute_result"
    }
   ],
   "source": [
    "normal_blood_sugar(False, 150)"
   ]
  },
  {
   "cell_type": "code",
   "execution_count": 18,
   "metadata": {
    "deletable": false,
    "editable": false,
    "nbgrader": {
     "cell_type": "code",
     "checksum": "75ed2a16eb6456dc4271340e38a0c303",
     "grade": true,
     "grade_id": "cell-add51f8dbb2b559c",
     "locked": true,
     "points": 1,
     "schema_version": 3,
     "solution": false,
     "task": false
    }
   },
   "outputs": [],
   "source": [
    "assert normal_blood_sugar(False, 130) == True\n",
    "assert normal_blood_sugar(True, 80) == True\n",
    "assert normal_blood_sugar(True, 110) == False\n",
    "assert normal_blood_sugar(False, 150) == False"
   ]
  },
  {
   "cell_type": "markdown",
   "metadata": {
    "deletable": false,
    "editable": false,
    "nbgrader": {
     "cell_type": "markdown",
     "checksum": "d2f5594ed3cf615ef56f15ee208b2d43",
     "grade": false,
     "grade_id": "cell-6820a771cdba5920",
     "locked": true,
     "schema_version": 3,
     "solution": false,
     "task": false
    }
   },
   "source": [
    "### Problem 1\n",
    "We typically think of a year consisting of 365 days. In fact, it takes the Earth approximately 365.252375 days to go around the sun. To compensate for the fractional days, we have introduced the concept of a leap year. We typically think of this occurring every 4 years. But if we do that, you will notice that we are still undercompensating. (what happens to the extra .002375?!) \n",
    "\n",
    "It turns out the precise way to know if a year is a Leap year is as follows: \n",
    "- Leap years are evenly divisible by 4\n",
    "- unless it can be evenly divisible by 100 \n",
    "- except if it can be evenly divisible by 400.\n",
    "\n",
    "So consider the following years – were they leap years?\n",
    "\n",
    "- 2020, 2016, 1972, 2100\n",
    "- 2012, 1974, 1832, 1644\n",
    "- 2000, 1900, 1950, 1240\n",
    "\n",
    "Write a function called `is_leap_year(year)`. This function should return `True` when the year provided is a leap year and `False` otherwise."
   ]
  },
  {
   "cell_type": "code",
   "execution_count": 45,
   "metadata": {},
   "outputs": [],
   "source": [
    "def is_leap_year(year):\n",
    "    year = int(year)\n",
    "    \n",
    "    return ((year/4 == int(year/4)) and (((year/100 == int(year/100)) == False ) or ((year/100 == int(year/100)) == True )and (year/400 == int(year/100))))"
   ]
  },
  {
   "cell_type": "code",
   "execution_count": 46,
   "metadata": {},
   "outputs": [
    {
     "data": {
      "text/plain": [
       "False"
      ]
     },
     "execution_count": 46,
     "metadata": {},
     "output_type": "execute_result"
    }
   ],
   "source": [
    "is_leap_year(2100)"
   ]
  },
  {
   "cell_type": "code",
   "execution_count": 49,
   "metadata": {},
   "outputs": [
    {
     "data": {
      "text/plain": [
       "True"
      ]
     },
     "execution_count": 49,
     "metadata": {},
     "output_type": "execute_result"
    }
   ],
   "source": [
    "is_leap_year(2020)"
   ]
  },
  {
   "cell_type": "code",
   "execution_count": 47,
   "metadata": {
    "deletable": false,
    "editable": false,
    "nbgrader": {
     "cell_type": "code",
     "checksum": "7e6b42f57b74365f48eed8629fd224a3",
     "grade": true,
     "grade_id": "cell-0191779c8bb25fb5",
     "locked": true,
     "points": 1,
     "schema_version": 3,
     "solution": false,
     "task": false
    }
   },
   "outputs": [],
   "source": [
    "assert is_leap_year(1804) == True\n",
    "assert is_leap_year(2020) == True\n",
    "assert is_leap_year(2100) == False"
   ]
  },
  {
   "cell_type": "code",
   "execution_count": null,
   "metadata": {},
   "outputs": [],
   "source": []
  }
 ],
 "metadata": {
  "kernelspec": {
   "display_name": "Python 3",
   "language": "python",
   "name": "python3"
  },
  "language_info": {
   "codemirror_mode": {
    "name": "ipython",
    "version": 3
   },
   "file_extension": ".py",
   "mimetype": "text/x-python",
   "name": "python",
   "nbconvert_exporter": "python",
   "pygments_lexer": "ipython3",
   "version": "3.7.7"
  }
 },
 "nbformat": 4,
 "nbformat_minor": 2
}

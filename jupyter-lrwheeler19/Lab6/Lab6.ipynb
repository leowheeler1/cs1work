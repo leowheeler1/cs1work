{
 "cells": [
  {
   "cell_type": "markdown",
   "metadata": {},
   "source": [
    "### CS 125 Assignment\n",
    "\n",
    "Before you turn this assignment in, make sure everything runs as expected. First, **restart the kernel** (in the menubar, select Kernel$\\rightarrow$Restart) and then **run all cells** (in the menubar, select Cell$\\rightarrow$Run All).\n",
    "\n",
    "Make sure you fill in any place that says `YOUR CODE HERE` or \"YOUR ANSWER HERE\", as well as your name and collaborators below:"
   ]
  },
  {
   "cell_type": "code",
   "execution_count": 1,
   "metadata": {},
   "outputs": [],
   "source": [
    "NAME = \"Leo Wheeler\"\n",
    "COLLABORATORS = \"\""
   ]
  },
  {
   "cell_type": "markdown",
   "metadata": {},
   "source": [
    "---\n",
    "---"
   ]
  },
  {
   "cell_type": "markdown",
   "metadata": {
    "deletable": false,
    "editable": false,
    "nbgrader": {
     "cell_type": "markdown",
     "checksum": "101f2467937d59346f23c6ff40daa34e",
     "grade": false,
     "grade_id": "cell-a67d7638c38e4f4a",
     "locked": true,
     "schema_version": 3,
     "solution": false,
     "task": false
    }
   },
   "source": [
    "# Lab 6\n",
    "\n",
    "Objectives:\n",
    "\n",
    "- Gain experience with File Input\n",
    "- Practice compounding data using loops\n",
    "- String Manipulation with data files\n",
    "\n",
    "\n",
    "\n",
    "---\n",
    "\n",
    "\n",
    "## Created by:\n",
    "- Michael Stobb\n",
    "- With collaborators: \n",
    "    - None\n",
    "- Lab6\n",
    "\n",
    "Remember that you are **encouraged** to collaborate on lab activities – just be sure to: \n",
    "1. Document your collaborators and sources.\n",
    "2. Don’t electronically share the code.\n",
    "3. Understand what you submit. \n",
    "\n",
    "\n",
    "---"
   ]
  },
  {
   "cell_type": "markdown",
   "metadata": {
    "deletable": false,
    "editable": false,
    "nbgrader": {
     "cell_type": "markdown",
     "checksum": "39d16aa85c2f53600419b3b9279ed255",
     "grade": false,
     "grade_id": "cell-19782d78bfb9d46c",
     "locked": true,
     "schema_version": 3,
     "solution": false,
     "task": false
    }
   },
   "source": [
    "## Getting Started\n",
    "\n",
    "There are two main ways to read in a file:\n",
    "1. Using the `read` method\n",
    "2. Using a for loop\n",
    "\n",
    "Before we can read a file, however, we must first tell Python where it is located.  We can do this with the `open` command."
   ]
  },
  {
   "cell_type": "code",
   "execution_count": 1,
   "metadata": {
    "deletable": false,
    "editable": false,
    "nbgrader": {
     "cell_type": "code",
     "checksum": "3eb96b83e5bdfa61adb2c8f531abec05",
     "grade": false,
     "grade_id": "cell-b20c6bc1221968c8",
     "locked": true,
     "schema_version": 3,
     "solution": false,
     "task": false
    }
   },
   "outputs": [],
   "source": [
    "file = open(\"/srv/data/lab6/Gettysburg.txt\")"
   ]
  },
  {
   "cell_type": "markdown",
   "metadata": {
    "deletable": false,
    "editable": false,
    "nbgrader": {
     "cell_type": "markdown",
     "checksum": "5b4dc52822ba6d306f1902c9beaa25c7",
     "grade": false,
     "grade_id": "cell-a18fed159d565649",
     "locked": true,
     "schema_version": 3,
     "solution": false,
     "task": false
    }
   },
   "source": [
    "This tells Python where the file to be read is located.  Now we can read it using `read`:"
   ]
  },
  {
   "cell_type": "code",
   "execution_count": 2,
   "metadata": {
    "deletable": false,
    "editable": false,
    "nbgrader": {
     "cell_type": "code",
     "checksum": "150a62310be57273132524ce1bdbe116",
     "grade": false,
     "grade_id": "cell-60ac336baa2d7c0d",
     "locked": true,
     "schema_version": 3,
     "solution": false,
     "task": false
    }
   },
   "outputs": [
    {
     "data": {
      "text/plain": [
       "'Four score and seven years ago our fathers brought forth on this continent a new nation, conceived in liberty, and dedicated to the proposition that all men are created equal. Now we are engaged in a great civil war, testing whether that nation, or any nation, so conceived and so dedicated, can long endure. We are met on a great battle-field of that war. We have come to dedicate a portion of that field, as a final resting place for those who here gave their lives that that nation might live. It is altogether fitting and proper that we should do this. But, in a larger sense, we can not dedicate, we can not consecrate, we can not hallow this ground. The brave men, living and dead, who struggled here, have consecrated it, far above our poor power to add or detract. The world will little note, nor long remember what we say here, but it can never forget what they did here. It is for us the living, rather, to be dedicated here to the unfinished work which they who fought here have thus far so nobly advanced. It is rather for us to be here dedicated to the great task remaining before us that from these honored dead we take increased devotion to that cause for which they gave the last full measure of devotion that we here highly resolve that these dead shall not have died in vain that this nation, under God, shall have a new birth of freedom and that government of the people, by the people, for the people, shall not perish from the earth.'"
      ]
     },
     "execution_count": 2,
     "metadata": {},
     "output_type": "execute_result"
    }
   ],
   "source": [
    "file.read()"
   ]
  },
  {
   "cell_type": "markdown",
   "metadata": {
    "deletable": false,
    "editable": false,
    "nbgrader": {
     "cell_type": "markdown",
     "checksum": "9a30bd22a3a9fb0afda9534296e4d35a",
     "grade": false,
     "grade_id": "cell-ff4df14cbf43c120",
     "locked": true,
     "schema_version": 3,
     "solution": false,
     "task": false
    }
   },
   "source": [
    "Notice that this is a **method**, so it is acting upon a \"file\" object.  Try reading it again below:"
   ]
  },
  {
   "cell_type": "code",
   "execution_count": 3,
   "metadata": {
    "deletable": false,
    "editable": false,
    "nbgrader": {
     "cell_type": "code",
     "checksum": "bef3a9e6919b5f25a14c05faaa0cf095",
     "grade": false,
     "grade_id": "cell-5da3b1a43771dc39",
     "locked": true,
     "schema_version": 3,
     "solution": false,
     "task": false
    }
   },
   "outputs": [
    {
     "data": {
      "text/plain": [
       "''"
      ]
     },
     "execution_count": 3,
     "metadata": {},
     "output_type": "execute_result"
    }
   ],
   "source": [
    "file.read()"
   ]
  },
  {
   "cell_type": "markdown",
   "metadata": {
    "deletable": false,
    "editable": false,
    "nbgrader": {
     "cell_type": "markdown",
     "checksum": "f4b3a660b89cafd73937c8d93a7284fe",
     "grade": false,
     "grade_id": "cell-5aa06ea9e7bfc528",
     "locked": true,
     "schema_version": 3,
     "solution": false,
     "task": false
    }
   },
   "source": [
    "Nothing happened.  That is because once Python gets to the end of the file, it stays there.  It is a one way trip.  We can reset Python to read it from the top by using the `seek` method, such as:"
   ]
  },
  {
   "cell_type": "code",
   "execution_count": 4,
   "metadata": {
    "deletable": false,
    "editable": false,
    "nbgrader": {
     "cell_type": "code",
     "checksum": "96552a8d3492770b02ed766650f965b1",
     "grade": false,
     "grade_id": "cell-04e1c91263916360",
     "locked": true,
     "schema_version": 3,
     "solution": false,
     "task": false
    }
   },
   "outputs": [
    {
     "data": {
      "text/plain": [
       "'Four score and seven years ago our fathers brought forth on this continent a new nation, conceived in liberty, and dedicated to the proposition that all men are created equal. Now we are engaged in a great civil war, testing whether that nation, or any nation, so conceived and so dedicated, can long endure. We are met on a great battle-field of that war. We have come to dedicate a portion of that field, as a final resting place for those who here gave their lives that that nation might live. It is altogether fitting and proper that we should do this. But, in a larger sense, we can not dedicate, we can not consecrate, we can not hallow this ground. The brave men, living and dead, who struggled here, have consecrated it, far above our poor power to add or detract. The world will little note, nor long remember what we say here, but it can never forget what they did here. It is for us the living, rather, to be dedicated here to the unfinished work which they who fought here have thus far so nobly advanced. It is rather for us to be here dedicated to the great task remaining before us that from these honored dead we take increased devotion to that cause for which they gave the last full measure of devotion that we here highly resolve that these dead shall not have died in vain that this nation, under God, shall have a new birth of freedom and that government of the people, by the people, for the people, shall not perish from the earth.'"
      ]
     },
     "execution_count": 4,
     "metadata": {},
     "output_type": "execute_result"
    }
   ],
   "source": [
    "file.seek(0)\n",
    "file.read()"
   ]
  },
  {
   "cell_type": "markdown",
   "metadata": {
    "deletable": false,
    "editable": false,
    "nbgrader": {
     "cell_type": "markdown",
     "checksum": "c592bfc55c19a189304a12cf4b9e458a",
     "grade": false,
     "grade_id": "cell-c056be9d0e74631c",
     "locked": true,
     "schema_version": 3,
     "solution": false,
     "task": false
    }
   },
   "source": [
    "Once we are finished using a file, we should `close` it.  Think of it like the refridgerator door.  You can open it as often as you like, but you need to close it afterwards.  To close a file, we can use the similiarly named `close` method:"
   ]
  },
  {
   "cell_type": "code",
   "execution_count": 5,
   "metadata": {
    "deletable": false,
    "editable": false,
    "nbgrader": {
     "cell_type": "code",
     "checksum": "8f042db3227f73cf8a44f5540da8a830",
     "grade": false,
     "grade_id": "cell-2a74ed2930cf459b",
     "locked": true,
     "schema_version": 3,
     "solution": false,
     "task": false
    }
   },
   "outputs": [],
   "source": [
    "file.close()"
   ]
  },
  {
   "cell_type": "markdown",
   "metadata": {
    "deletable": false,
    "editable": false,
    "nbgrader": {
     "cell_type": "markdown",
     "checksum": "bcfa27a1524dea9d9decb8f2e7558ef4",
     "grade": false,
     "grade_id": "cell-aa1c7db92604e55b",
     "locked": true,
     "schema_version": 3,
     "solution": false,
     "task": false
    }
   },
   "source": [
    "The function given below opens a file, reads it into Python, then closes it.  Here, we use the fact that a file is really just a sequence of LINES, and the for loop is able to iterate over sequences of objects.  In this case, the for loop will loop over the **lines** of the file.  \n",
    "\n",
    "Because this process is kind of mechanical, you should be able to modify it to answer some of the questions in this lab.  Be sure you **understand it** before modifying and using.  You may need to do the practice steps below before everythin in this functions makes sense."
   ]
  },
  {
   "cell_type": "code",
   "execution_count": 6,
   "metadata": {
    "deletable": false,
    "editable": false,
    "nbgrader": {
     "cell_type": "code",
     "checksum": "9713752058f0f6bef043da0d9139b06d",
     "grade": false,
     "grade_id": "cell-d9bedbb46887c960",
     "locked": true,
     "schema_version": 3,
     "solution": false,
     "task": false
    }
   },
   "outputs": [],
   "source": [
    "def read_scrabble_file():\n",
    "    opened_file = open(\"/srv/data/lab6/ScrabbleWords.txt\")\n",
    "    \n",
    "    q_count = 0\n",
    "    q_but_no_u_count = 0\n",
    "    total_count = 0\n",
    "    \n",
    "    for line in opened_file:   # <--- For loop over the LINES in the file\n",
    "        total_count = total_count + 1\n",
    "        line = line.strip()\n",
    "        \n",
    "        if \"q\" in line:\n",
    "            q_count = q_count + 1\n",
    "            \n",
    "            if \"u\" not in line:\n",
    "                q_but_no_u_count = q_but_no_u_count + 1\n",
    "                \n",
    "    opened_file.close()\n",
    "    print(q_count)\n",
    "    print(q_but_no_u_count)\n",
    "    print(total_count)"
   ]
  },
  {
   "cell_type": "code",
   "execution_count": 7,
   "metadata": {
    "deletable": false,
    "editable": false,
    "nbgrader": {
     "cell_type": "code",
     "checksum": "66e2731045a51291e87f63d02cf2c6eb",
     "grade": false,
     "grade_id": "cell-41f12fd728e919bd",
     "locked": true,
     "schema_version": 3,
     "solution": false,
     "task": false
    }
   },
   "outputs": [
    {
     "name": "stdout",
     "output_type": "stream",
     "text": [
      "2527\n",
      "21\n",
      "172823\n"
     ]
    }
   ],
   "source": [
    "read_scrabble_file()"
   ]
  },
  {
   "cell_type": "markdown",
   "metadata": {
    "deletable": false,
    "editable": false,
    "nbgrader": {
     "cell_type": "markdown",
     "checksum": "1bb32568f2aa820c8a3ac9d939132c2b",
     "grade": false,
     "grade_id": "cell-7ac1d67cd6abbd64",
     "locked": true,
     "schema_version": 3,
     "solution": false,
     "task": false
    }
   },
   "source": [
    "# More Practice\n",
    "\n",
    "#### 1) Review the following String commands \n",
    "\n",
    "Make sure that you understand what they accomplish and how they function.  This will be important for the lab!\n",
    "\n",
    "- `\"dented\".strip(\"ed\")`\n",
    "- `\"tatertot\".strip(\"t\")`\n",
    "- `\"teetertot\".strip(\"te\")`\n",
    "- `\"Mississippi\".count(\"i\")`\n",
    "- `\"dented\".count(\"ed\")`\n",
    "- `\"Mississippi\".count(\"m\")`\n",
    "- `\"Mississippi\".index(\"s\")`\n",
    "- `\"Mississippi\".index(\"s\",2)`\n",
    "- `\"Mississippi\".index(\"s\",3)`\n",
    "- `\"Mississippi\".index(\"s\",4)`\n",
    "- `\"Mississippi\"[-2:]`\n",
    "- `\"dog\" in \"dogma\"`\n",
    "- `\"cat\" in \"dogma\"`\n",
    "- `\"cat\" in \"tack\"`"
   ]
  },
  {
   "cell_type": "code",
   "execution_count": 8,
   "metadata": {},
   "outputs": [
    {
     "data": {
      "text/plain": [
       "False"
      ]
     },
     "execution_count": 8,
     "metadata": {},
     "output_type": "execute_result"
    }
   ],
   "source": [
    "\"cat\" in \"tack\""
   ]
  },
  {
   "cell_type": "code",
   "execution_count": 9,
   "metadata": {},
   "outputs": [
    {
     "data": {
      "text/plain": [
       "'nt'"
      ]
     },
     "execution_count": 9,
     "metadata": {},
     "output_type": "execute_result"
    }
   ],
   "source": [
    "\"dented\".strip(\"ed\")"
   ]
  },
  {
   "cell_type": "code",
   "execution_count": 1,
   "metadata": {},
   "outputs": [
    {
     "data": {
      "text/plain": [
       "4"
      ]
     },
     "execution_count": 1,
     "metadata": {},
     "output_type": "execute_result"
    }
   ],
   "source": [
    "\"Mississippi\".count(\"s\")"
   ]
  },
  {
   "cell_type": "markdown",
   "metadata": {
    "deletable": false,
    "editable": false,
    "nbgrader": {
     "cell_type": "markdown",
     "checksum": "99736d6e20395d158981ade65a20fc07",
     "grade": false,
     "grade_id": "cell-6e3fba98b77bef4c",
     "locked": true,
     "schema_version": 3,
     "solution": false,
     "task": false
    }
   },
   "source": [
    "# Assignment\n",
    "\n",
    "#### Problem 0\n",
    "\n",
    "From abolitionism to zombiism, there are a lot of “ism”s in the English language. Use the ScrabbleWords.txt file (located in `/srv/data/lab6/ScrabbleWords.txt` and on Moodle) to find out how many words end with “ism\"."
   ]
  },
  {
   "cell_type": "markdown",
   "metadata": {},
   "source": [
    " Should be 884"
   ]
  },
  {
   "cell_type": "code",
   "execution_count": 1,
   "metadata": {
    "deletable": false,
    "nbgrader": {
     "cell_type": "code",
     "checksum": "c6e4e9013335e84f67675a12bfddf4b7",
     "grade": true,
     "grade_id": "cell-dbb3dfa9beaf7784",
     "locked": false,
     "points": 1,
     "schema_version": 3,
     "solution": true,
     "task": false
    }
   },
   "outputs": [],
   "source": [
    "def ism_words():\n",
    "    file_ID = open(\"/srv/data/lab6/ScrabbleWords.txt\")\n",
    "    scrab_words = file_ID.readlines()\n",
    "    ism_words = 0\n",
    "    for word in scrab_words:\n",
    "        word = word.strip()\n",
    "        if \"ism\" in word[-3:]:\n",
    "            ism_words += 1\n",
    "    print(\"The total number of words ending in \\'ism\\' is:\", ism_words)\n",
    "    file_ID.close()\n",
    "    return"
   ]
  },
  {
   "cell_type": "code",
   "execution_count": null,
   "metadata": {},
   "outputs": [],
   "source": []
  },
  {
   "cell_type": "code",
   "execution_count": 2,
   "metadata": {},
   "outputs": [
    {
     "name": "stdout",
     "output_type": "stream",
     "text": [
      "The total number of words ending in 'ism' is: 884\n"
     ]
    }
   ],
   "source": [
    "ism_words()"
   ]
  },
  {
   "cell_type": "markdown",
   "metadata": {
    "deletable": false,
    "editable": false,
    "nbgrader": {
     "cell_type": "markdown",
     "checksum": "79dd5d37f2d629d44c6b29fdc63124a7",
     "grade": false,
     "grade_id": "cell-643600e3bdf92e18",
     "locked": true,
     "schema_version": 3,
     "solution": false,
     "task": false
    }
   },
   "source": [
    "#### Problem 2\n",
    "\n",
    "How many words are there in the Gettysburg Address?  The file is located in `/srv/data/lab6/Gettysburg.txt` and on Moodle.  After getting an answer, generalize your program to work on any input text file."
   ]
  },
  {
   "cell_type": "code",
   "execution_count": 53,
   "metadata": {
    "deletable": false,
    "nbgrader": {
     "cell_type": "code",
     "checksum": "350b85917a132ec9c156f6ffef3254e7",
     "grade": true,
     "grade_id": "cell-f29cd392a1292867",
     "locked": false,
     "points": 1,
     "schema_version": 3,
     "solution": true,
     "task": false
    }
   },
   "outputs": [],
   "source": [
    "def getty_length():\n",
    "    file_ID = open(\"/srv/data/lab6/Gettysburg.txt\")\n",
    "    word_count = 0\n",
    "    getty_words = (str(file_ID.readlines())).split()\n",
    "    for word in getty_words:\n",
    "        word = word.strip()\n",
    "        word_count += 1\n",
    "    print(\"The Gettysburg Address has\", word_count, \"words.\")\n",
    "    file_ID.close()\n",
    "    return"
   ]
  },
  {
   "cell_type": "code",
   "execution_count": 54,
   "metadata": {},
   "outputs": [
    {
     "name": "stdout",
     "output_type": "stream",
     "text": [
      "The Gettysburg Address has 271 words.\n"
     ]
    }
   ],
   "source": [
    "getty_length()"
   ]
  },
  {
   "cell_type": "code",
   "execution_count": 67,
   "metadata": {},
   "outputs": [],
   "source": [
    "def file_word_count():\n",
    "    file_ID = open(str(input(\"Type your file path and this will count the words! \")))\n",
    "    word_count = 0\n",
    "    file_words = (str(file_ID.readlines())).split()\n",
    "    for word in file_words:\n",
    "        word = word.strip()\n",
    "        word_count += 1\n",
    "    print(\"\\n\",\"This file has\", word_count, \"words.\")\n",
    "    file_ID.close()\n",
    "    return"
   ]
  },
  {
   "cell_type": "code",
   "execution_count": 68,
   "metadata": {},
   "outputs": [
    {
     "name": "stdout",
     "output_type": "stream",
     "text": [
      "Type your file path and this will count the words! /srv/data/lab6/ScrabbleWords.txt\n",
      "\n",
      " This file has 172823 words.\n"
     ]
    }
   ],
   "source": [
    "file_word_count()"
   ]
  },
  {
   "cell_type": "code",
   "execution_count": 69,
   "metadata": {},
   "outputs": [
    {
     "name": "stdout",
     "output_type": "stream",
     "text": [
      "Type your file path and this will count the words! /srv/data/lab6/Gettysburg.txt\n",
      "\n",
      " This file has 271 words.\n"
     ]
    }
   ],
   "source": [
    "file_word_count()"
   ]
  },
  {
   "cell_type": "code",
   "execution_count": null,
   "metadata": {},
   "outputs": [],
   "source": []
  }
 ],
 "metadata": {
  "kernelspec": {
   "display_name": "Python 3",
   "language": "python",
   "name": "python3"
  },
  "language_info": {
   "codemirror_mode": {
    "name": "ipython",
    "version": 3
   },
   "file_extension": ".py",
   "mimetype": "text/x-python",
   "name": "python",
   "nbconvert_exporter": "python",
   "pygments_lexer": "ipython3",
   "version": "3.7.7"
  }
 },
 "nbformat": 4,
 "nbformat_minor": 2
}

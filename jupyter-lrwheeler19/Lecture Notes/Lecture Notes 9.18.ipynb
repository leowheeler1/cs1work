{
 "cells": [
  {
   "cell_type": "markdown",
   "metadata": {},
   "source": [
    "# Lecture Notes 9.18\n",
    "\n",
    "#### Leo Wheeler\n",
    "\n",
    "## Objectives\n",
    "\n",
    "1. Discuss the difference between void and fruitful functions\n",
    "2. Discuss the philosophy of Incremental Design\n",
    "\n",
    "### Void vs Fruitful Functions\n",
    "\n",
    "- The return statement in a function is optional\n",
    "- A functino with NO return is called a **Void Function**\n",
    "- A function with a return is called a **Fruitful function**\n"
   ]
  },
  {
   "cell_type": "code",
   "execution_count": 1,
   "metadata": {},
   "outputs": [],
   "source": [
    "def add_two(x,y):\n",
    "    z = x + y\n",
    "    return z"
   ]
  },
  {
   "cell_type": "code",
   "execution_count": 4,
   "metadata": {},
   "outputs": [],
   "source": [
    "def add_two(x,y):\n",
    "    z = x + y\n",
    "    print(z) "
   ]
  },
  {
   "cell_type": "markdown",
   "metadata": {},
   "source": [
    "- Because we have conditional statements, we can have MULTIPLE `return` statements in a single function"
   ]
  },
  {
   "cell_type": "code",
   "execution_count": 6,
   "metadata": {},
   "outputs": [],
   "source": [
    "def is_positive(x):\n",
    "    if x > 0:\n",
    "        return True\n",
    "    else:\n",
    "        return False"
   ]
  },
  {
   "cell_type": "markdown",
   "metadata": {},
   "source": [
    "- This works, but the preferred way is to have a SINGLE point of exit"
   ]
  },
  {
   "cell_type": "code",
   "execution_count": 7,
   "metadata": {},
   "outputs": [],
   "source": [
    "def is_positive(x):\n",
    "    if x > 0:\n",
    "        output = True\n",
    "    else:\n",
    "        output = False\n",
    "    return output"
   ]
  },
  {
   "cell_type": "markdown",
   "metadata": {},
   "source": [
    "- In Python, you can have statements after the `return` in a function\n",
    "- While it works, all code after the `return` is considered DEAD CODE and will never be ran"
   ]
  },
  {
   "cell_type": "code",
   "execution_count": 10,
   "metadata": {},
   "outputs": [],
   "source": [
    "def is_positive(x):\n",
    "    if x > 0:\n",
    "        output = True\n",
    "    else:\n",
    "        output = False\n",
    "        \n",
    "    print(\"BEFORE THE RETURN\")\n",
    "    \n",
    "    return output\n",
    "    \n",
    "    aksjhdgfoiuyaghskdjhfg\n",
    "    print(\"AFTER THE RETURN\")"
   ]
  },
  {
   "cell_type": "code",
   "execution_count": 11,
   "metadata": {},
   "outputs": [
    {
     "name": "stdout",
     "output_type": "stream",
     "text": [
      "BEFORE THE RETURN\n"
     ]
    },
    {
     "data": {
      "text/plain": [
       "True"
      ]
     },
     "execution_count": 11,
     "metadata": {},
     "output_type": "execute_result"
    }
   ],
   "source": [
    "is_positive(6)"
   ]
  },
  {
   "cell_type": "markdown",
   "metadata": {},
   "source": [
    "## Incremental Design\n",
    "\n",
    "- Always start with the simplest thing possible\n",
    "- Slowly add complexity\n",
    "    - At each stage, we remove bugs and confirm that it is working\n",
    "    \n",
    "#### Example\n",
    "\n",
    "- I want a function that computes the distance between two points\n",
    "    - (x1,y1) and (x2, y2)\\\n",
    "    \n",
    "- We should always start with an IPO\n",
    "   \n",
    "INPUTS:\n",
    "\n",
    "    - 4 total inputs\n",
    "        - x1 (float): The first X coordinate\n",
    "        - y1 (float): The fist y coordinate\n",
    "        - x2 (float): The second x coordinate\n",
    "        - y2 (float): The second y coordiante\n",
    "  \n",
    "OUTPUTS:\n",
    "\n",
    "    - 1 output\n",
    "        - dist (float): The distance between the two points\n",
    "        \n",
    "PROCESS:\n",
    "\n",
    "    - This we may have to look up\n",
    "$$ D = \\sqrt{ (x_2-x_1)^2 + (y_2 - y1)^2 } $$"
   ]
  },
  {
   "cell_type": "code",
   "execution_count": 18,
   "metadata": {},
   "outputs": [],
   "source": [
    "def distance(x1,y1,x2,y2):\n",
    "    x_diff = (x2-x1)**2\n",
    "    y_diff = (y2-y1)**2\n",
    "    total = x_diff + y_diff \n",
    "    dist = (total)**(1/2)\n",
    "    return dist"
   ]
  },
  {
   "cell_type": "code",
   "execution_count": 20,
   "metadata": {},
   "outputs": [
    {
     "data": {
      "text/plain": [
       "4.47213595499958"
      ]
     },
     "execution_count": 20,
     "metadata": {},
     "output_type": "execute_result"
    }
   ],
   "source": [
    "distance(4,4,8,6)"
   ]
  },
  {
   "cell_type": "code",
   "execution_count": null,
   "metadata": {},
   "outputs": [],
   "source": []
  }
 ],
 "metadata": {
  "kernelspec": {
   "display_name": "Python 3",
   "language": "python",
   "name": "python3"
  },
  "language_info": {
   "codemirror_mode": {
    "name": "ipython",
    "version": 3
   },
   "file_extension": ".py",
   "mimetype": "text/x-python",
   "name": "python",
   "nbconvert_exporter": "python",
   "pygments_lexer": "ipython3",
   "version": "3.7.7"
  }
 },
 "nbformat": 4,
 "nbformat_minor": 4
}

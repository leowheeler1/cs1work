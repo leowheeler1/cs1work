{
 "cells": [
  {
   "cell_type": "markdown",
   "metadata": {},
   "source": [
    "# 9.16 Lecture Notes\n",
    "\n",
    "Leo Wheeler, September 16th 2020\n",
    "\n",
    "## Objectives\n",
    "\n",
    "1. Recursive Functions\n",
    "2. Discuss lab2\n",
    "\n",
    "## Recrusive Functions\n",
    "\n",
    "- Are defined by the feature that they call themeselves\n",
    "- Recursion can be dangerous\n",
    "    - Can be infinite\n",
    "    - You could potentially run out of system memory"
   ]
  },
  {
   "cell_type": "code",
   "execution_count": 1,
   "metadata": {},
   "outputs": [],
   "source": [
    "def going_down(N):\n",
    "    if N > 0:\n",
    "        print(N)\n",
    "        going_down(N-1)\n",
    "    else:\n",
    "        print(\"This is the bottom\")"
   ]
  },
  {
   "cell_type": "code",
   "execution_count": 2,
   "metadata": {},
   "outputs": [
    {
     "name": "stdout",
     "output_type": "stream",
     "text": [
      "9\n",
      "8\n",
      "7\n",
      "6\n",
      "5\n",
      "4\n",
      "3\n",
      "2\n",
      "1\n",
      "This is the bottom\n"
     ]
    }
   ],
   "source": [
    "going_down(9)"
   ]
  },
  {
   "cell_type": "markdown",
   "metadata": {},
   "source": [
    "### Collatz Conjecture\n",
    "\n",
    "- Also known as the Hailstone sequence\n",
    "\n",
    "1. Start with an arbitrary number N (integer)\n",
    "2. Do one of the following\n",
    "    - If N is even: Cut it in half -> N/2\n",
    "    - If N is odd (NOT EVEN): Multiply by 3 and add one -> 3N+1\n",
    "3. Repeat with new number"
   ]
  },
  {
   "cell_type": "code",
   "execution_count": 4,
   "metadata": {},
   "outputs": [],
   "source": [
    "def collatz(N):\n",
    "    \n",
    "    print(N)\n",
    "    \n",
    "    if N == 1:\n",
    "        return\n",
    "    \n",
    "    if (N % 2) == 0:\n",
    "        collatz(int(N/2))\n",
    "    else:\n",
    "        collatz(3*N+1)"
   ]
  },
  {
   "cell_type": "code",
   "execution_count": 9,
   "metadata": {},
   "outputs": [
    {
     "name": "stdout",
     "output_type": "stream",
     "text": [
      "10\n",
      "5\n",
      "16\n",
      "8\n",
      "4\n",
      "2\n",
      "1\n"
     ]
    }
   ],
   "source": [
    "collatz(10)"
   ]
  },
  {
   "cell_type": "markdown",
   "metadata": {},
   "source": [
    "- The conjecture is that no matter what number you start with, all sequences end in the 4, 2, 1 cycle\n",
    "\n",
    "- `ord()` shows the number value of letters and characters and `chr()` shows the character value of numbers"
   ]
  },
  {
   "cell_type": "code",
   "execution_count": 11,
   "metadata": {},
   "outputs": [
    {
     "data": {
      "text/plain": [
       "97"
      ]
     },
     "execution_count": 11,
     "metadata": {},
     "output_type": "execute_result"
    }
   ],
   "source": [
    "ord(\"a\")"
   ]
  },
  {
   "cell_type": "code",
   "execution_count": 12,
   "metadata": {},
   "outputs": [
    {
     "data": {
      "text/plain": [
       "'a'"
      ]
     },
     "execution_count": 12,
     "metadata": {},
     "output_type": "execute_result"
    }
   ],
   "source": [
    "chr(97)"
   ]
  }
 ],
 "metadata": {
  "kernelspec": {
   "display_name": "Python 3",
   "language": "python",
   "name": "python3"
  },
  "language_info": {
   "codemirror_mode": {
    "name": "ipython",
    "version": 3
   },
   "file_extension": ".py",
   "mimetype": "text/x-python",
   "name": "python",
   "nbconvert_exporter": "python",
   "pygments_lexer": "ipython3",
   "version": "3.7.7"
  }
 },
 "nbformat": 4,
 "nbformat_minor": 4
}

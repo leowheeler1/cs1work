{
 "cells": [
  {
   "cell_type": "markdown",
   "metadata": {},
   "source": [
    "# Lecture 3 notes\n",
    "\n",
    "Lecture notes taken on 9/2/2020\n",
    "\n",
    "Leo Wheeler\n",
    "\n",
    "## Objectives\n",
    "\n",
    "1. Functions\n",
    "2. The IPO framework for software development\n",
    "3. Discuss Lab0\n",
    "\n",
    "## Functions\n",
    "\n",
    "- An independent set of commands (tasks, lines of code) that are executed at the same time by calling a single function to name\n",
    "- Functions CAN take, inputs, but do not have to\n",
    "- Functions CAN return outputs, but do not have to\n",
    "- Functions are identified with a function name and parenthesis\n",
    "- All function commands must be **INDENTED**"
   ]
  },
  {
   "cell_type": "code",
   "execution_count": null,
   "metadata": {},
   "outputs": [],
   "source": [
    "# This is a GENERIC FUNCTION, DO NOT ACTUALLY RUN\n",
    "def function_name(inputs1, inputs2, ...): #<--- This is a function header\n",
    "    # commands1\n",
    "    # commands2\n",
    "    # commands3\n",
    "    return OUTPUT1, OUTPUT2, OUTPUT3, ... #<--- This is optional"
   ]
  },
  {
   "cell_type": "code",
   "execution_count": 1,
   "metadata": {},
   "outputs": [],
   "source": [
    "def meaning(): # No inputs on this function\n",
    "    number = 42\n",
    "    print(\"The answer is: \", number)"
   ]
  },
  {
   "cell_type": "markdown",
   "metadata": {},
   "source": [
    "- Nothing is output to the screen when we DEFINE a function\n",
    "- Python now understands what the function is, but has not ran it yet"
   ]
  },
  {
   "cell_type": "code",
   "execution_count": 2,
   "metadata": {},
   "outputs": [
    {
     "data": {
      "text/plain": [
       "<function __main__.meaning()>"
      ]
     },
     "execution_count": 2,
     "metadata": {},
     "output_type": "execute_result"
    }
   ],
   "source": [
    "meaning"
   ]
  },
  {
   "cell_type": "code",
   "execution_count": 3,
   "metadata": {},
   "outputs": [
    {
     "name": "stdout",
     "output_type": "stream",
     "text": [
      "The answer is:  42\n"
     ]
    }
   ],
   "source": [
    "meaning()"
   ]
  },
  {
   "cell_type": "code",
   "execution_count": 4,
   "metadata": {},
   "outputs": [],
   "source": [
    "def what_is():\n",
    "    print(\"What is the meaning of life?\")\n",
    "    meaning()"
   ]
  },
  {
   "cell_type": "code",
   "execution_count": 5,
   "metadata": {},
   "outputs": [
    {
     "name": "stdout",
     "output_type": "stream",
     "text": [
      "What is the meaning of life?\n",
      "The answer is:  42\n"
     ]
    }
   ],
   "source": [
    "what_is()"
   ]
  },
  {
   "cell_type": "markdown",
   "metadata": {},
   "source": [
    "## Functions that do or do NOT return things"
   ]
  },
  {
   "cell_type": "code",
   "execution_count": 7,
   "metadata": {},
   "outputs": [
    {
     "name": "stdout",
     "output_type": "stream",
     "text": [
      "Hello there!\n"
     ]
    }
   ],
   "source": [
    "saved_variable = print(\"Hello there!\")"
   ]
  },
  {
   "cell_type": "code",
   "execution_count": 8,
   "metadata": {},
   "outputs": [],
   "source": [
    "saved_variable"
   ]
  },
  {
   "cell_type": "code",
   "execution_count": 9,
   "metadata": {},
   "outputs": [
    {
     "data": {
      "text/plain": [
       "NoneType"
      ]
     },
     "execution_count": 9,
     "metadata": {},
     "output_type": "execute_result"
    }
   ],
   "source": [
    "type(saved_variable)"
   ]
  },
  {
   "cell_type": "markdown",
   "metadata": {},
   "source": [
    "- The 'print()' function does **not** return any output\n",
    "- The 'type()' function **does** return output"
   ]
  },
  {
   "cell_type": "code",
   "execution_count": 10,
   "metadata": {},
   "outputs": [],
   "source": [
    "import math"
   ]
  },
  {
   "cell_type": "code",
   "execution_count": null,
   "metadata": {},
   "outputs": [],
   "source": [
    "help(math)"
   ]
  },
  {
   "cell_type": "code",
   "execution_count": 15,
   "metadata": {},
   "outputs": [],
   "source": [
    "my_variable = math.floor(4.5)"
   ]
  },
  {
   "cell_type": "code",
   "execution_count": 16,
   "metadata": {},
   "outputs": [
    {
     "data": {
      "text/plain": [
       "4"
      ]
     },
     "execution_count": 16,
     "metadata": {},
     "output_type": "execute_result"
    }
   ],
   "source": [
    "my_variable"
   ]
  },
  {
   "cell_type": "code",
   "execution_count": 22,
   "metadata": {},
   "outputs": [],
   "source": [
    "def add_two(x,y): #<-- This function REQUIRES two inputs\n",
    "    z = x + y\n",
    "    print( \"The x is:\", x)\n",
    "    print(\"The y is:\",y)\n",
    "    print(\"The z is:\", z)\n",
    "    return z # This output is the new variable z"
   ]
  },
  {
   "cell_type": "code",
   "execution_count": 23,
   "metadata": {},
   "outputs": [
    {
     "name": "stdout",
     "output_type": "stream",
     "text": [
      "The x is: 3\n",
      "The y is: 17\n",
      "The z is: 20\n"
     ]
    }
   ],
   "source": [
    "saved_output = add_two(3,17)"
   ]
  },
  {
   "cell_type": "code",
   "execution_count": 24,
   "metadata": {},
   "outputs": [
    {
     "name": "stdout",
     "output_type": "stream",
     "text": [
      "20\n"
     ]
    }
   ],
   "source": [
    "print(saved_output)"
   ]
  },
  {
   "cell_type": "markdown",
   "metadata": {},
   "source": [
    "## The IPO Framework for Software Development\n",
    "\n",
    "- The IPO framework is just an outline for writing a program\n",
    "- This is best done **BEFORE** writing any code\n",
    "\n",
    "\n",
    "- Inputs\n",
    "- Processing\n",
    "- Outputs\n",
    "\n",
    "EX: How do we convert degrees celcius to Farhenheit?"
   ]
  },
  {
   "cell_type": "markdown",
   "metadata": {},
   "source": [
    "Inputs:\n",
    "- Do we need any inputs? YES\n",
    "degrees_celcius = the temperatuire in degrees celcius\n",
    "\n",
    "Process:\n",
    "- often we need to look this up\n",
    "- brainstorm\n",
    "- pause and think\n",
    "- look it up\n",
    "- degrees_faranheit = (9/5)* degrees_celcius +32\n",
    "\n",
    "Outputs:\n",
    "- do we need outputs? YES! degrees_faranheit"
   ]
  },
  {
   "cell_type": "code",
   "execution_count": 25,
   "metadata": {},
   "outputs": [],
   "source": [
    "def c_to_f_convert(degrees_celcius):\n",
    "    degrees_faranheit = (9/5)*degrees_celcius+32\n",
    "    return degrees_faranheit"
   ]
  },
  {
   "cell_type": "code",
   "execution_count": 26,
   "metadata": {},
   "outputs": [
    {
     "data": {
      "text/plain": [
       "212.0"
      ]
     },
     "execution_count": 26,
     "metadata": {},
     "output_type": "execute_result"
    }
   ],
   "source": [
    "c_to_f_convert(100)"
   ]
  },
  {
   "cell_type": "code",
   "execution_count": null,
   "metadata": {},
   "outputs": [],
   "source": []
  }
 ],
 "metadata": {
  "kernelspec": {
   "display_name": "Python 3",
   "language": "python",
   "name": "python3"
  },
  "language_info": {
   "codemirror_mode": {
    "name": "ipython",
    "version": 3
   },
   "file_extension": ".py",
   "mimetype": "text/x-python",
   "name": "python",
   "nbconvert_exporter": "python",
   "pygments_lexer": "ipython3",
   "version": "3.7.7"
  }
 },
 "nbformat": 4,
 "nbformat_minor": 4
}

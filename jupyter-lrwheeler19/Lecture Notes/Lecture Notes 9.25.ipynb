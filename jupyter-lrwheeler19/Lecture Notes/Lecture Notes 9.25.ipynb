{
 "cells": [
  {
   "cell_type": "markdown",
   "metadata": {},
   "source": [
    "# Lecture 9.25\n",
    "\n",
    "#### Leo Wheeler\n",
    "\n",
    "## Objectives\n",
    "\n",
    "1. Introduce the `break` statement\n",
    "2. Give a quick overview of what we have learned so far.\n",
    "\n",
    "## The `break` statement\n",
    "\n",
    "- There are times when we do not explicitly know the stopping condition\n",
    "- There are other times where it inconvenient to state the stoppping condition\n",
    "- Other times, we might want to make an emergency exit from the loop\n",
    "- The `break` command allows us to exit from a loop early\n",
    "- The `break` command BREAKS US OUT of the loop"
   ]
  },
  {
   "cell_type": "code",
   "execution_count": 1,
   "metadata": {},
   "outputs": [
    {
     "name": "stdout",
     "output_type": "stream",
     "text": [
      "5\n",
      "4\n",
      "3\n",
      "2\n",
      "1\n"
     ]
    }
   ],
   "source": [
    "n = 5\n",
    "while True:\n",
    "    print(n)\n",
    "    n = n - 1\n",
    "    \n",
    "    if n == 0:\n",
    "        break"
   ]
  },
  {
   "cell_type": "code",
   "execution_count": 2,
   "metadata": {},
   "outputs": [
    {
     "data": {
      "text/plain": [
       "0"
      ]
     },
     "execution_count": 2,
     "metadata": {},
     "output_type": "execute_result"
    }
   ],
   "source": [
    "n"
   ]
  },
  {
   "cell_type": "markdown",
   "metadata": {},
   "source": [
    "- While sometimes convenient, if we know the stopping condition, we probably should use it explicitly\n",
    "- Using `break` statements can make debugging code harder\n",
    "- One of the best uses for the `break` statement is with the USER generated input"
   ]
  },
  {
   "cell_type": "code",
   "execution_count": 3,
   "metadata": {},
   "outputs": [
    {
     "name": "stdout",
     "output_type": "stream",
     "text": [
      "Give me some words to type! (type 'exit' to stop):dfad\n",
      "dfad\n",
      "Give me some words to type! (type 'exit' to stop):awsuerhb\n",
      "awsuerhb\n",
      "Give me some words to type! (type 'exit' to stop):exit\n"
     ]
    }
   ],
   "source": [
    "while True:\n",
    "    Line = input(\"Give me some words to type! (type \\'exit\\' to stop):\")\n",
    "    \n",
    "    if Line == \"exit\":\n",
    "        break\n",
    "    else:\n",
    "        print(Line)"
   ]
  },
  {
   "cell_type": "code",
   "execution_count": 4,
   "metadata": {},
   "outputs": [
    {
     "name": "stdout",
     "output_type": "stream",
     "text": [
      "Give me some words to type! (type 'exit' to stop):dsafa\n",
      "dsafa\n",
      "Give me some words to type! (type 'exit' to stop):agueoihnboisad\n",
      "agueoihnboisad\n",
      "Give me some words to type! (type 'exit' to stop):hello dad\n",
      "hello dad\n",
      "Give me some words to type! (type 'exit' to stop):exit\n",
      "exit\n"
     ]
    }
   ],
   "source": [
    "line = \"\"\n",
    "while line != \"exit\":\n",
    "    line = input(\"Give me some words to type! (type \\'exit\\' to stop):\")\n",
    "    print(line)"
   ]
  },
  {
   "cell_type": "code",
   "execution_count": 9,
   "metadata": {},
   "outputs": [],
   "source": [
    "def add_sums():\n",
    "    total_sum = 0\n",
    "    while True:\n",
    "        line = input(\"(type \\'exit\\' to stop) Give me some numbers to add!\")\n",
    "        \n",
    "        if line == \"exit\":\n",
    "            print(\"The final sum was:\", total_sum)\n",
    "            break\n",
    "            \n",
    "        else:\n",
    "            total_sum = total_sum + float(line)\n",
    "            print(\"Current Sum:\", total_sum)"
   ]
  },
  {
   "cell_type": "code",
   "execution_count": 11,
   "metadata": {
    "scrolled": true
   },
   "outputs": [
    {
     "name": "stdout",
     "output_type": "stream",
     "text": [
      "(type 'exit' to stop) Give me some numbers to add!33\n",
      "Current Sum: 33.0\n",
      "(type 'exit' to stop) Give me some numbers to add!33\n",
      "Current Sum: 66.0\n",
      "(type 'exit' to stop) Give me some numbers to add!exit\n",
      "The final sum was: 66.0\n"
     ]
    }
   ],
   "source": [
    "add_sums()"
   ]
  },
  {
   "cell_type": "markdown",
   "metadata": {},
   "source": [
    "## What have we learned so far?\n",
    "\n",
    "1. Variables\n",
    "2. Arithmetic\n",
    "3. The `input` function\n",
    "4. Return output\n",
    "5. Functions\n",
    "6. Booleans expressions\n",
    "7. Conditional Statements\n",
    "8. Iterations/Loops"
   ]
  },
  {
   "cell_type": "code",
   "execution_count": 1,
   "metadata": {},
   "outputs": [],
   "source": [
    "x = 30\n",
    "y = 10\n",
    "z = 20\n",
    "def my_function(x,y):\n",
    "    x = y\n",
    "    w = x - y\n",
    "    t = w + z\n",
    "    print(x)\n",
    "    print(y)\n",
    "    print(z)\n",
    "    print(w)\n",
    "    print(t)\n",
    "    return t"
   ]
  },
  {
   "cell_type": "code",
   "execution_count": 2,
   "metadata": {},
   "outputs": [
    {
     "name": "stdout",
     "output_type": "stream",
     "text": [
      "10\n",
      "10\n",
      "20\n",
      "0\n",
      "20\n"
     ]
    },
    {
     "data": {
      "text/plain": [
       "20"
      ]
     },
     "execution_count": 2,
     "metadata": {},
     "output_type": "execute_result"
    }
   ],
   "source": [
    "my_function(30,10)"
   ]
  },
  {
   "cell_type": "code",
   "execution_count": 3,
   "metadata": {},
   "outputs": [
    {
     "name": "stdout",
     "output_type": "stream",
     "text": [
      "10\n",
      "10\n",
      "20\n",
      "0\n",
      "20\n"
     ]
    }
   ],
   "source": [
    "y = my_function(30,10)"
   ]
  },
  {
   "cell_type": "code",
   "execution_count": null,
   "metadata": {},
   "outputs": [],
   "source": []
  }
 ],
 "metadata": {
  "kernelspec": {
   "display_name": "Python 3",
   "language": "python",
   "name": "python3"
  },
  "language_info": {
   "codemirror_mode": {
    "name": "ipython",
    "version": 3
   },
   "file_extension": ".py",
   "mimetype": "text/x-python",
   "name": "python",
   "nbconvert_exporter": "python",
   "pygments_lexer": "ipython3",
   "version": "3.7.7"
  }
 },
 "nbformat": 4,
 "nbformat_minor": 4
}

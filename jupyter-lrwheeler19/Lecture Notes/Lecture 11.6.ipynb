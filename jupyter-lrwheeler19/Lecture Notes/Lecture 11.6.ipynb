{
 "cells": [
  {
   "cell_type": "markdown",
   "metadata": {},
   "source": [
    "# Lecture Notes 11.6\n",
    "\n",
    "#### Leo Wheeler\n",
    "\n",
    "## Objectives\n",
    "\n",
    "1. Create an \"AI\" for the game hangman"
   ]
  },
  {
   "cell_type": "markdown",
   "metadata": {},
   "source": [
    "## Motivating Thoughts\n",
    "\n",
    "1. I do not want to cheat\n",
    "2. I only want to choose something about my word when I absolutely must\n",
    "3. The computer should choose whatever maximizes the total number of possible words"
   ]
  },
  {
   "cell_type": "code",
   "execution_count": 1,
   "metadata": {},
   "outputs": [],
   "source": [
    "def length_of_words():\n",
    "    lengths = []\n",
    "    file = open(\"/srv/data/ScrabbleWords.txt\")\n",
    "    \n",
    "    for line in file:\n",
    "        line = line.strip()\n",
    "        word_length = len(line)\n",
    "        lengths.append(word_length)\n",
    "        \n",
    "    file.close()\n",
    "    return lengths"
   ]
  },
  {
   "cell_type": "code",
   "execution_count": 7,
   "metadata": {},
   "outputs": [],
   "source": [
    "def words_of_length_N(N):\n",
    "    words = []\n",
    "    file = open(\"/srv/data/ScrabbleWords.txt\")\n",
    "    \n",
    "    for line in file:\n",
    "        line = line.strip()\n",
    "        word_length = len(line)\n",
    "        if word_length == N:\n",
    "            words.append(line)\n",
    "        \n",
    "    file.close()\n",
    "    return words"
   ]
  },
  {
   "cell_type": "code",
   "execution_count": 9,
   "metadata": {
    "scrolled": false
   },
   "outputs": [
    {
     "name": "stdout",
     "output_type": "stream",
     "text": [
      "There are 96 words of length 2\n",
      "There are 972 words of length 3\n",
      "There are 3903 words of length 4\n",
      "There are 8636 words of length 5\n",
      "There are 15232 words of length 6\n",
      "There are 23109 words of length 7\n",
      "There are 28420 words of length 8\n",
      "There are 24873 words of length 9\n",
      "There are 20302 words of length 10\n",
      "There are 15504 words of length 11\n",
      "There are 11358 words of length 12\n",
      "There are 7827 words of length 13\n",
      "There are 5127 words of length 14\n",
      "There are 3192 words of length 15\n",
      "There are 1943 words of length 16\n",
      "There are 1127 words of length 17\n",
      "There are 594 words of length 18\n",
      "There are 329 words of length 19\n",
      "There are 160 words of length 20\n",
      "There are 62 words of length 21\n",
      "There are 30 words of length 22\n",
      "There are 13 words of length 23\n",
      "There are 9 words of length 24\n"
     ]
    }
   ],
   "source": [
    "for i in range(2,25):\n",
    "    print(\"There are\", len(words_of_length_N(i)), \"words of length\", i)"
   ]
  },
  {
   "cell_type": "code",
   "execution_count": 11,
   "metadata": {},
   "outputs": [],
   "source": [
    "eight_words = [words_of_length_N(8)]"
   ]
  },
  {
   "cell_type": "code",
   "execution_count": 10,
   "metadata": {},
   "outputs": [],
   "source": [
    "def create_hangman_pattern(word, guess):\n",
    "    pattern = \"\"\n",
    "    \n",
    "    for letter in word:\n",
    "        if letter == guess:\n",
    "            pattern += guess + \" \"\n",
    "        else:\n",
    "            pattern += \"_ \"\n",
    "            \n",
    "    return pattern"
   ]
  },
  {
   "cell_type": "code",
   "execution_count": 12,
   "metadata": {},
   "outputs": [],
   "source": [
    "def get_hangman_pattern_for_list(wordlist, guess):\n",
    "    list_of_patterns = []\n",
    "    \n",
    "    for word in wordlist:\n",
    "        pattern = create_hangman_pattern(word, guess)\n",
    "        list_of_patterns.append(pattern)\n",
    "        \n",
    "    return list_of_patterns"
   ]
  },
  {
   "cell_type": "code",
   "execution_count": null,
   "metadata": {},
   "outputs": [],
   "source": []
  }
 ],
 "metadata": {
  "kernelspec": {
   "display_name": "Python 3",
   "language": "python",
   "name": "python3"
  },
  "language_info": {
   "codemirror_mode": {
    "name": "ipython",
    "version": 3
   },
   "file_extension": ".py",
   "mimetype": "text/x-python",
   "name": "python",
   "nbconvert_exporter": "python",
   "pygments_lexer": "ipython3",
   "version": "3.7.7"
  }
 },
 "nbformat": 4,
 "nbformat_minor": 4
}

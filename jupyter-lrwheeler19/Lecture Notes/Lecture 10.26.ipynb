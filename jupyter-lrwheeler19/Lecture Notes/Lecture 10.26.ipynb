{
 "cells": [
  {
   "cell_type": "markdown",
   "metadata": {},
   "source": [
    "# Lecture Notes 10.26\n",
    "\n",
    "#### Leo Wheeler\n",
    "\n",
    "## Objectives \n",
    "\n",
    "1. Formatting Strings\n",
    "2. Introduce Dictionaries\n",
    "\n",
    "## Formatting Strings\n",
    "\n",
    "1. \" %s \" % variable\n",
    "    - The oldest way of formatting strings\n",
    "    - Least convenient\n",
    "2. \" {} \" .format(variable)\n",
    "    - Here we use the format method of strings\n",
    "    - A little better than the old way, but a little clunky\n",
    "3. f\" {variable}\"\n",
    "    - The newest and cleanest way to format strings\n",
    "    - Still has similarities with above methods"
   ]
  },
  {
   "cell_type": "markdown",
   "metadata": {},
   "source": [
    "### The old style"
   ]
  },
  {
   "cell_type": "code",
   "execution_count": 1,
   "metadata": {},
   "outputs": [
    {
     "name": "stdout",
     "output_type": "stream",
     "text": [
      "My first name is Leo and my last name is Wheeler\n"
     ]
    }
   ],
   "source": [
    "first_name = \"Leo\"\n",
    "last_name = \"Wheeler\"\n",
    "\n",
    "print(\"My first name is\", first_name, \"and my last name is\", last_name)"
   ]
  },
  {
   "cell_type": "markdown",
   "metadata": {},
   "source": [
    "- This print statement is NOT creating a string\n",
    "- Instead, it is just printing something to the screen"
   ]
  },
  {
   "cell_type": "code",
   "execution_count": 3,
   "metadata": {},
   "outputs": [],
   "source": [
    "saved_string = \"My first name is %s and my last name is %s\" % (first_name, last_name)"
   ]
  },
  {
   "cell_type": "code",
   "execution_count": 4,
   "metadata": {},
   "outputs": [
    {
     "data": {
      "text/plain": [
       "'My first name is Leo and my last name is Wheeler'"
      ]
     },
     "execution_count": 4,
     "metadata": {},
     "output_type": "execute_result"
    }
   ],
   "source": [
    "saved_string"
   ]
  },
  {
   "cell_type": "markdown",
   "metadata": {},
   "source": [
    "- There are MANY different character IDs\n",
    "    - s : string\n",
    "    - f : Floating Point Number\n",
    "    - d : Decimal Integer\n",
    "    - b : Binary Integers\n",
    "    - o : Octal Integers\n",
    "    - x : Hexidecimal Integers\n",
    "    - e : Exponential Integers\n",
    "    - g : General Formatting"
   ]
  },
  {
   "cell_type": "code",
   "execution_count": 5,
   "metadata": {},
   "outputs": [
    {
     "data": {
      "text/plain": [
       "'1.200000'"
      ]
     },
     "execution_count": 5,
     "metadata": {},
     "output_type": "execute_result"
    }
   ],
   "source": [
    "\"%f\" % 1.2"
   ]
  },
  {
   "cell_type": "code",
   "execution_count": 6,
   "metadata": {},
   "outputs": [
    {
     "data": {
      "text/plain": [
       "'1.2'"
      ]
     },
     "execution_count": 6,
     "metadata": {},
     "output_type": "execute_result"
    }
   ],
   "source": [
    "\"%g\" % 1.2"
   ]
  },
  {
   "cell_type": "code",
   "execution_count": 7,
   "metadata": {},
   "outputs": [
    {
     "data": {
      "text/plain": [
       "'1.200000e+00'"
      ]
     },
     "execution_count": 7,
     "metadata": {},
     "output_type": "execute_result"
    }
   ],
   "source": [
    "\"%e\" % 1.2"
   ]
  },
  {
   "cell_type": "markdown",
   "metadata": {},
   "source": [
    "- We can force PADDING \n",
    "    - Adding a number before the character ID will force python to use that number of spaces"
   ]
  },
  {
   "cell_type": "code",
   "execution_count": 8,
   "metadata": {},
   "outputs": [
    {
     "data": {
      "text/plain": [
       "'  1.200000'"
      ]
     },
     "execution_count": 8,
     "metadata": {},
     "output_type": "execute_result"
    }
   ],
   "source": [
    "\"%10f\" % 1.2"
   ]
  },
  {
   "cell_type": "markdown",
   "metadata": {},
   "source": [
    "- We can force a certain PRECISION\n",
    "    - Adding a decimal and number before the character ID will forcce Python to truncate to that number of spaces"
   ]
  },
  {
   "cell_type": "code",
   "execution_count": 9,
   "metadata": {},
   "outputs": [
    {
     "data": {
      "text/plain": [
       "'1.23'"
      ]
     },
     "execution_count": 9,
     "metadata": {},
     "output_type": "execute_result"
    }
   ],
   "source": [
    "\"%.2f\" %1.2345677"
   ]
  },
  {
   "cell_type": "markdown",
   "metadata": {},
   "source": [
    "- We can have padding and precision together\n",
    "    - The padding goes first"
   ]
  },
  {
   "cell_type": "code",
   "execution_count": 10,
   "metadata": {},
   "outputs": [
    {
     "data": {
      "text/plain": [
       "'      0.33'"
      ]
     },
     "execution_count": 10,
     "metadata": {},
     "output_type": "execute_result"
    }
   ],
   "source": [
    "\"%10.2f\" % (1/3)"
   ]
  },
  {
   "cell_type": "code",
   "execution_count": 11,
   "metadata": {},
   "outputs": [
    {
     "data": {
      "text/plain": [
       "'                        Leo Wh'"
      ]
     },
     "execution_count": 11,
     "metadata": {},
     "output_type": "execute_result"
    }
   ],
   "source": [
    "\"%30.6s\" % \"Leo Wheeler\""
   ]
  },
  {
   "cell_type": "markdown",
   "metadata": {},
   "source": [
    "### Using the String Method\n",
    "\n",
    "- Replace the \"%s\" with {}\n",
    "- Put the variables to be placed in the .format(variable)"
   ]
  },
  {
   "cell_type": "code",
   "execution_count": 15,
   "metadata": {},
   "outputs": [
    {
     "data": {
      "text/plain": [
       "'My first name is Leo and my last name is Wheeler'"
      ]
     },
     "execution_count": 15,
     "metadata": {},
     "output_type": "execute_result"
    }
   ],
   "source": [
    "saved_string = \"My first name is {0} and my last name is {1}\".format(first_name, last_name)\n",
    "saved_string"
   ]
  },
  {
   "cell_type": "markdown",
   "metadata": {},
   "source": [
    "- There are some benefits\n",
    "    - We can change the order\n",
    "    - Generally easier to read\n",
    "    - Removes the use of the % for the variables"
   ]
  },
  {
   "cell_type": "code",
   "execution_count": 18,
   "metadata": {},
   "outputs": [
    {
     "data": {
      "text/plain": [
       "'My first name is         Leo          and my last name is Wheeler   '"
      ]
     },
     "execution_count": 18,
     "metadata": {},
     "output_type": "execute_result"
    }
   ],
   "source": [
    " \"My first name is {0:^20s} and my last name is {1:10s}\".format(first_name, last_name)"
   ]
  },
  {
   "cell_type": "markdown",
   "metadata": {},
   "source": [
    "### Using F-Strings"
   ]
  },
  {
   "cell_type": "code",
   "execution_count": 19,
   "metadata": {},
   "outputs": [
    {
     "data": {
      "text/plain": [
       "'My first name is Leo and my last name is Wheeler'"
      ]
     },
     "execution_count": 19,
     "metadata": {},
     "output_type": "execute_result"
    }
   ],
   "source": [
    "first_name = \"Leo\"\n",
    "last_name = \"Wheeler\"\n",
    "\n",
    "f\"My first name is {first_name} and my last name is {last_name}\""
   ]
  },
  {
   "cell_type": "code",
   "execution_count": 23,
   "metadata": {},
   "outputs": [
    {
     "data": {
      "text/plain": [
       "'My approximate value of pi: 3.14'"
      ]
     },
     "execution_count": 23,
     "metadata": {},
     "output_type": "execute_result"
    }
   ],
   "source": [
    "my_num = 3.141592\n",
    "\n",
    "f\"My approximate value of pi: {my_num:.2f}\""
   ]
  },
  {
   "cell_type": "markdown",
   "metadata": {},
   "source": [
    "## An Example"
   ]
  },
  {
   "cell_type": "code",
   "execution_count": 24,
   "metadata": {},
   "outputs": [],
   "source": [
    "names = [\"Michael\", \"Jeff\", \"Leo\", \"Tony\", \"Elizabeth\"]\n",
    "gpas = [3.5, 3.11, 3.1, 3.89, 3.95]"
   ]
  },
  {
   "cell_type": "code",
   "execution_count": 30,
   "metadata": {},
   "outputs": [
    {
     "name": "stdout",
     "output_type": "stream",
     "text": [
      "Name:  Michael  - GPA: 3.50\n",
      "Name:   Jeff    - GPA: 3.11\n",
      "Name:    Leo    - GPA: 3.10\n",
      "Name:   Tony    - GPA: 3.89\n",
      "Name: Elizabeth - GPA: 3.95\n"
     ]
    }
   ],
   "source": [
    "for i in range(5):\n",
    "    print(f\"Name: {names[i]:^9s} - GPA: {gpas[i]:.2f}\")"
   ]
  },
  {
   "cell_type": "markdown",
   "metadata": {},
   "source": [
    "## Dictionaries\n",
    "\n",
    "- A new datatype for us in Python\n",
    "- Similar to lists, Dictionaries are MUTABLE\n",
    "- Unnlike lists, Dictionaries are not indexed with their location\n",
    "    - Values can be mutated (i.e They can be updated)\n",
    "   "
   ]
  },
  {
   "cell_type": "code",
   "execution_count": 31,
   "metadata": {},
   "outputs": [],
   "source": [
    "scores = {\"Michael\":3.5, \"Jeff\":3.11, \"Anna\":4.0, \"Antetokoumpo\":3.89, \"Jennifer\":3.95}"
   ]
  },
  {
   "cell_type": "code",
   "execution_count": 32,
   "metadata": {},
   "outputs": [
    {
     "data": {
      "text/plain": [
       "4.0"
      ]
     },
     "execution_count": 32,
     "metadata": {},
     "output_type": "execute_result"
    }
   ],
   "source": [
    "scores[\"Anna\"]"
   ]
  },
  {
   "cell_type": "code",
   "execution_count": 33,
   "metadata": {},
   "outputs": [
    {
     "data": {
      "text/plain": [
       "{'Michael': 3.5,\n",
       " 'Jeff': 3.11,\n",
       " 'Anna': 4.0,\n",
       " 'Antetokoumpo': 3.89,\n",
       " 'Jennifer': 3.95}"
      ]
     },
     "execution_count": 33,
     "metadata": {},
     "output_type": "execute_result"
    }
   ],
   "source": [
    "scores"
   ]
  },
  {
   "cell_type": "code",
   "execution_count": 34,
   "metadata": {},
   "outputs": [
    {
     "data": {
      "text/plain": [
       "True"
      ]
     },
     "execution_count": 34,
     "metadata": {},
     "output_type": "execute_result"
    }
   ],
   "source": [
    "\"Anna\" in scores"
   ]
  },
  {
   "cell_type": "code",
   "execution_count": 35,
   "metadata": {},
   "outputs": [
    {
     "data": {
      "text/plain": [
       "False"
      ]
     },
     "execution_count": 35,
     "metadata": {},
     "output_type": "execute_result"
    }
   ],
   "source": [
    "\"Fred\" in scores"
   ]
  },
  {
   "cell_type": "code",
   "execution_count": null,
   "metadata": {},
   "outputs": [],
   "source": []
  }
 ],
 "metadata": {
  "kernelspec": {
   "display_name": "Python 3",
   "language": "python",
   "name": "python3"
  },
  "language_info": {
   "codemirror_mode": {
    "name": "ipython",
    "version": 3
   },
   "file_extension": ".py",
   "mimetype": "text/x-python",
   "name": "python",
   "nbconvert_exporter": "python",
   "pygments_lexer": "ipython3",
   "version": "3.7.7"
  }
 },
 "nbformat": 4,
 "nbformat_minor": 4
}

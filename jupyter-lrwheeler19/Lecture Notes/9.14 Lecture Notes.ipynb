{
 "cells": [
  {
   "cell_type": "markdown",
   "metadata": {},
   "source": [
    "# 9.14 Lecture Notes\n",
    "\n",
    "#### Leo Wheeler, September 14th \n",
    "\n",
    "## Objectives\n",
    "\n",
    "1. Discuss and demonstrate the different types of conditional statements."
   ]
  },
  {
   "cell_type": "markdown",
   "metadata": {},
   "source": [
    "## Conditional Statements\n",
    "\n",
    "- Boolean statements (and logical operators) allow us to ask the computer True or False questions\n",
    "- Conditional statements allow us to act upon the answer of a boolean question\n",
    "- The main operatoy here is the `if` statement"
   ]
  },
  {
   "cell_type": "code",
   "execution_count": null,
   "metadata": {},
   "outputs": [],
   "source": [
    "if (BOOLEAN EXPRESSION IS TRUE):\n",
    "    #DO THESE COMMANDS\n",
    "    COMMAND1\n",
    "    COMMAND2\n",
    "    COMMAND3\n",
    "    ...\n",
    "    return"
   ]
  },
  {
   "cell_type": "code",
   "execution_count": 1,
   "metadata": {},
   "outputs": [],
   "source": [
    "x = 10"
   ]
  },
  {
   "cell_type": "code",
   "execution_count": 2,
   "metadata": {},
   "outputs": [
    {
     "name": "stdout",
     "output_type": "stream",
     "text": [
      "X is big!\n"
     ]
    }
   ],
   "source": [
    "if (x > 0):\n",
    "    print(\"X is big!\")"
   ]
  },
  {
   "cell_type": "code",
   "execution_count": 4,
   "metadata": {},
   "outputs": [
    {
     "name": "stdout",
     "output_type": "stream",
     "text": [
      "This will print either way\n"
     ]
    }
   ],
   "source": [
    "if (x < 0):\n",
    "    print(\"X is small!\")\n",
    "print(\"This will print either way\")"
   ]
  },
  {
   "cell_type": "code",
   "execution_count": 5,
   "metadata": {},
   "outputs": [
    {
     "name": "stdout",
     "output_type": "stream",
     "text": [
      "This should always run!\n"
     ]
    }
   ],
   "source": [
    "if True:\n",
    "    print(\"This should always run!\")"
   ]
  },
  {
   "cell_type": "code",
   "execution_count": 6,
   "metadata": {},
   "outputs": [],
   "source": [
    "if False:\n",
    "    print(\"This will NEVER run\")"
   ]
  },
  {
   "cell_type": "code",
   "execution_count": 10,
   "metadata": {},
   "outputs": [],
   "source": [
    "def going_golfing(weather):\n",
    "    if weather == \"rain\":\n",
    "        print(\"No golf for me. :(\")\n",
    "    if weather == \"sunny\":\n",
    "        print(\"golf time :)\")"
   ]
  },
  {
   "cell_type": "code",
   "execution_count": 9,
   "metadata": {},
   "outputs": [
    {
     "name": "stdout",
     "output_type": "stream",
     "text": [
      "No golf for me. :(\n"
     ]
    }
   ],
   "source": [
    "going_golfing(\"rain\")"
   ]
  },
  {
   "cell_type": "code",
   "execution_count": 11,
   "metadata": {},
   "outputs": [
    {
     "name": "stdout",
     "output_type": "stream",
     "text": [
      "golf time :)\n"
     ]
    }
   ],
   "source": [
    "going_golfing(\"sunny\")"
   ]
  },
  {
   "cell_type": "markdown",
   "metadata": {},
   "source": [
    "## Alternative Execution\n",
    "\n",
    "- Conditional statements only execute code when a boolean expression is true\n",
    "- We can also run code when the expression is false by includion an `else` statement"
   ]
  },
  {
   "cell_type": "code",
   "execution_count": null,
   "metadata": {},
   "outputs": [],
   "source": [
    "if (BOOLEAN EXPRESSION IS TRUE):\n",
    "    # WRITE COMMANDS FOR TRUE OUTPUT\n",
    "    COMMAND1\n",
    "    COMMAND2\n",
    "    ...\n",
    "else:\n",
    "    # THESE COMMANDS RUN ON FALSE OUTPUT\n",
    "    COMMAND3\n",
    "    COMMAND4\n",
    "    ..."
   ]
  },
  {
   "cell_type": "code",
   "execution_count": 13,
   "metadata": {},
   "outputs": [],
   "source": [
    "x = -5"
   ]
  },
  {
   "cell_type": "code",
   "execution_count": 14,
   "metadata": {},
   "outputs": [
    {
     "name": "stdout",
     "output_type": "stream",
     "text": [
      "X is small!\n"
     ]
    }
   ],
   "source": [
    "if (x>0):\n",
    "    print(\"X is big!\")\n",
    "else:\n",
    "    print(\"X is small!\")"
   ]
  },
  {
   "cell_type": "code",
   "execution_count": 18,
   "metadata": {},
   "outputs": [],
   "source": [
    "def going_golfing(weather):\n",
    "    if weather == \"rain\":\n",
    "        print(\"No golf for me. :(\")\n",
    "    else:\n",
    "        print(\"Let's tee up! :)\")"
   ]
  },
  {
   "cell_type": "code",
   "execution_count": 19,
   "metadata": {},
   "outputs": [
    {
     "name": "stdout",
     "output_type": "stream",
     "text": [
      "No golf for me. :(\n"
     ]
    }
   ],
   "source": [
    "going_golfing(\"rain\")"
   ]
  },
  {
   "cell_type": "code",
   "execution_count": 20,
   "metadata": {},
   "outputs": [
    {
     "name": "stdout",
     "output_type": "stream",
     "text": [
      "Let's tee up! :)\n"
     ]
    }
   ],
   "source": [
    "going_golfing(\"sunny\")"
   ]
  },
  {
   "cell_type": "code",
   "execution_count": 21,
   "metadata": {},
   "outputs": [],
   "source": [
    "def worked_overtime(hours):\n",
    "    if hours > 40:\n",
    "        print(\"You qualify for overtime.\")\n",
    "    else:\n",
    "        print(\"You do not qualify for overtime.\")"
   ]
  },
  {
   "cell_type": "code",
   "execution_count": 22,
   "metadata": {},
   "outputs": [
    {
     "name": "stdout",
     "output_type": "stream",
     "text": [
      "You do not qualify for overtime.\n"
     ]
    }
   ],
   "source": [
    "worked_overtime(35)"
   ]
  },
  {
   "cell_type": "code",
   "execution_count": 23,
   "metadata": {},
   "outputs": [
    {
     "name": "stdout",
     "output_type": "stream",
     "text": [
      "You qualify for overtime.\n"
     ]
    }
   ],
   "source": [
    "worked_overtime(45)"
   ]
  },
  {
   "cell_type": "markdown",
   "metadata": {},
   "source": [
    "## Chained Conditional Statements"
   ]
  },
  {
   "cell_type": "markdown",
   "metadata": {},
   "source": [
    "- Oftentimes we will want to ask (and react to) multiple questions\n",
    "- We can do this in a number of ways\n",
    "\n",
    "1. Repeated `if` statements"
   ]
  },
  {
   "cell_type": "code",
   "execution_count": 24,
   "metadata": {},
   "outputs": [],
   "source": [
    "x = 10"
   ]
  },
  {
   "cell_type": "code",
   "execution_count": 25,
   "metadata": {},
   "outputs": [
    {
     "name": "stdout",
     "output_type": "stream",
     "text": [
      "x is bigger than 0\n",
      "x is bigger than 5\n"
     ]
    }
   ],
   "source": [
    "if x > 0:\n",
    "    print(\"x is bigger than 0\")\n",
    "\n",
    "if x > 5:\n",
    "    print(\"x is bigger than 5\")\n",
    "    \n",
    "if x > 10:\n",
    "    print(\"x is bigger than 10\")"
   ]
  },
  {
   "cell_type": "markdown",
   "metadata": {},
   "source": [
    "- These `if` statements are completely independent of each other and do not interact\n",
    "\n",
    "\n",
    "2. Nest `if` statements together"
   ]
  },
  {
   "cell_type": "code",
   "execution_count": 36,
   "metadata": {},
   "outputs": [],
   "source": [
    "x = 6"
   ]
  },
  {
   "cell_type": "code",
   "execution_count": 37,
   "metadata": {},
   "outputs": [
    {
     "name": "stdout",
     "output_type": "stream",
     "text": [
      "x is bigger than 0\n",
      "x is bigger than 5\n"
     ]
    }
   ],
   "source": [
    "if x > 0:\n",
    "    print(\"x is bigger than 0\")\n",
    "    \n",
    "    if x > 5:\n",
    "        print(\"x is bigger than 5\")\n",
    "        \n",
    "    else:\n",
    "        print(\"x is between 0 and 5\")\n",
    "        \n",
    "else:\n",
    "    print(\"x is less than 0\")"
   ]
  },
  {
   "cell_type": "code",
   "execution_count": 38,
   "metadata": {},
   "outputs": [
    {
     "name": "stdout",
     "output_type": "stream",
     "text": [
      "x is bigger than 5\n"
     ]
    }
   ],
   "source": [
    "if x>10:\n",
    "    print(\"x is bigger than 10\")\n",
    "else:\n",
    "    if x>5:\n",
    "        print(\"x is bigger than 5\")\n",
    "    else:\n",
    "        if x>0:\n",
    "            print(\"x is bigger than 0\")"
   ]
  },
  {
   "cell_type": "markdown",
   "metadata": {},
   "source": [
    "- The above statement is so common that Python (and most other programming languages) have a shortcut for this: `elif` short for else if"
   ]
  },
  {
   "cell_type": "code",
   "execution_count": 43,
   "metadata": {},
   "outputs": [],
   "source": [
    "x = -5"
   ]
  },
  {
   "cell_type": "code",
   "execution_count": 44,
   "metadata": {},
   "outputs": [
    {
     "name": "stdout",
     "output_type": "stream",
     "text": [
      "x is either 0 or negative\n"
     ]
    }
   ],
   "source": [
    "if x>10:\n",
    "    print(\"x is bigger than 10\")\n",
    "elif x>5:\n",
    "    print(\"x is bigger than 5\")\n",
    "elif x>0:\n",
    "    print(\"x is bigger than 0\")\n",
    "else: # <--- This is ALWAYS optional\n",
    "    print(\"x is either 0 or negative\")"
   ]
  },
  {
   "cell_type": "code",
   "execution_count": 45,
   "metadata": {},
   "outputs": [],
   "source": [
    "def going_golfing(weather):\n",
    "    if weather == \"rain\":\n",
    "        print(\"No golf for me.\")\n",
    "    elif weather == \"hot\":\n",
    "        print(\"Too warm for golfing.\")\n",
    "    elif weather == \"foggy\":\n",
    "        print(\"Don't lose your ball\")\n",
    "    else:\n",
    "        print(\"Let's tee up!\")"
   ]
  },
  {
   "cell_type": "code",
   "execution_count": 47,
   "metadata": {},
   "outputs": [
    {
     "name": "stdout",
     "output_type": "stream",
     "text": [
      "Too warm for golfing.\n"
     ]
    }
   ],
   "source": [
    "going_golfing(\"hot\")"
   ]
  },
  {
   "cell_type": "code",
   "execution_count": 51,
   "metadata": {},
   "outputs": [],
   "source": [
    "def compute_grades(score):\n",
    "    if score > 90:\n",
    "        print(\"A\")\n",
    "    elif score > 80:\n",
    "        print(\"B\")\n",
    "    elif score > 70:\n",
    "        print(\"C\")\n",
    "    else:\n",
    "        print(score)"
   ]
  },
  {
   "cell_type": "code",
   "execution_count": 52,
   "metadata": {},
   "outputs": [
    {
     "name": "stdout",
     "output_type": "stream",
     "text": [
      "C\n"
     ]
    }
   ],
   "source": [
    "compute_grades(75)"
   ]
  },
  {
   "cell_type": "code",
   "execution_count": 53,
   "metadata": {
    "scrolled": true
   },
   "outputs": [
    {
     "name": "stdout",
     "output_type": "stream",
     "text": [
      "B\n"
     ]
    }
   ],
   "source": [
    "compute_grades(87)"
   ]
  },
  {
   "cell_type": "code",
   "execution_count": 54,
   "metadata": {},
   "outputs": [
    {
     "name": "stdout",
     "output_type": "stream",
     "text": [
      "A\n"
     ]
    }
   ],
   "source": [
    "compute_grades(99)"
   ]
  },
  {
   "cell_type": "markdown",
   "metadata": {},
   "source": [
    "# Something different"
   ]
  },
  {
   "cell_type": "code",
   "execution_count": 55,
   "metadata": {},
   "outputs": [],
   "source": [
    "def going_down(N):\n",
    "    if N > 0:\n",
    "        print(\"N is:\", N)\n",
    "        going_down(N-1)\n",
    "    else:\n",
    "        print(\"You've reached the end!\")"
   ]
  },
  {
   "cell_type": "code",
   "execution_count": 56,
   "metadata": {},
   "outputs": [
    {
     "name": "stdout",
     "output_type": "stream",
     "text": [
      "N is: 10\n",
      "N is: 9\n",
      "N is: 8\n",
      "N is: 7\n",
      "N is: 6\n",
      "N is: 5\n",
      "N is: 4\n",
      "N is: 3\n",
      "N is: 2\n",
      "N is: 1\n",
      "You've reached the end!\n"
     ]
    }
   ],
   "source": [
    "going_down(10)"
   ]
  },
  {
   "cell_type": "markdown",
   "metadata": {},
   "source": [
    "- This is called **Recursion**"
   ]
  },
  {
   "cell_type": "markdown",
   "metadata": {},
   "source": [
    "$$ f_{N+1} = f_{N} + f_{N-1} $$"
   ]
  },
  {
   "cell_type": "markdown",
   "metadata": {},
   "source": [
    "$$ 1,1,2,3,5,8,13... $$"
   ]
  },
  {
   "cell_type": "code",
   "execution_count": null,
   "metadata": {},
   "outputs": [],
   "source": []
  }
 ],
 "metadata": {
  "kernelspec": {
   "display_name": "Python 3",
   "language": "python",
   "name": "python3"
  },
  "language_info": {
   "codemirror_mode": {
    "name": "ipython",
    "version": 3
   },
   "file_extension": ".py",
   "mimetype": "text/x-python",
   "name": "python",
   "nbconvert_exporter": "python",
   "pygments_lexer": "ipython3",
   "version": "3.7.7"
  }
 },
 "nbformat": 4,
 "nbformat_minor": 4
}

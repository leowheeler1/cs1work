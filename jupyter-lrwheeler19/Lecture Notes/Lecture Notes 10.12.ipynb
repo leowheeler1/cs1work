{
 "cells": [
  {
   "cell_type": "markdown",
   "metadata": {},
   "source": [
    "# Lecture 10.12\n",
    "\n",
    "#### Leo Wheeler\n",
    "\n",
    "## Objectives\n",
    "\n",
    "1. Discuss the Linux Filesystem\n",
    "2. Introduce the OS module in Python\n",
    "3. Show examples for reading files\n",
    "\n",
    "## Linux Filesystem\n",
    "\n",
    "- Every file on a computer has a unique address\n",
    "- In Windows this file address can look like:\n",
    "    - C:\\Documents\\homework\\assignment3.docx\n",
    "- Folders are more generally known as Directories\n",
    "- In Linux, this file address can look like:\n",
    "    - /home/mstobb/Documents/homework/assignment3.docx\n",
    "    - / <--- The Root\n",
    "\n",
    "- All programs (including Python) are \"ran\" from some location!\n",
    "- That location is called the **Current Working Directory** (cwd)\n",
    "- When you open a Jupyter Notebook, the CWD is *that* directory\n",
    "\n",
    "- There are two ways to describe an address (pathnames)\n",
    "    - ABSOLUTE pathnames\n",
    "    - RELATIVE pathnames\n",
    "    - These both work just fine!\n",
    "    - Howeverm absolute pathnames are more stable"
   ]
  },
  {
   "cell_type": "markdown",
   "metadata": {},
   "source": [
    "## The os module"
   ]
  },
  {
   "cell_type": "code",
   "execution_count": 1,
   "metadata": {},
   "outputs": [],
   "source": [
    "import os"
   ]
  },
  {
   "cell_type": "markdown",
   "metadata": {},
   "source": [
    "- os Stand for Operation System"
   ]
  },
  {
   "cell_type": "code",
   "execution_count": 3,
   "metadata": {},
   "outputs": [
    {
     "data": {
      "text/plain": [
       "'/home/jupyter-lrwheeler19/Lecture Notes'"
      ]
     },
     "execution_count": 3,
     "metadata": {},
     "output_type": "execute_result"
    }
   ],
   "source": [
    "os.getcwd()"
   ]
  },
  {
   "cell_type": "code",
   "execution_count": 4,
   "metadata": {},
   "outputs": [
    {
     "data": {
      "text/plain": [
       "['9.16 Lecture Notes.ipynb',\n",
       " 'Lecture Notes 10.12.ipynb',\n",
       " 'Lecture 10.9.ipynb',\n",
       " 'Lecture Notes 9.21.ipynb',\n",
       " 'Lecture 9.4 .ipynb',\n",
       " 'Lecture 8.31 Notes.ipynb',\n",
       " 'Lecture Notes 10.2.ipynb',\n",
       " 'Lecture Notes 10.5.ipynb',\n",
       " '9.14 Lecture Notes.ipynb',\n",
       " '.ipynb_checkpoints',\n",
       " 'Lecture Notes 9.18.ipynb',\n",
       " '8.28 Notes.ipynb',\n",
       " '9.9 Lecture Notes.ipynb',\n",
       " 'Lecture Notes 9.25.ipynb',\n",
       " 'Lecture 9.1 Notes.ipynb',\n",
       " 'Lecture 10.7.ipynb',\n",
       " 'Lecture notes 9.23.ipynb',\n",
       " '9.30 Notes.ipynb']"
      ]
     },
     "execution_count": 4,
     "metadata": {},
     "output_type": "execute_result"
    }
   ],
   "source": [
    "os.listdir()"
   ]
  },
  {
   "cell_type": "code",
   "execution_count": 5,
   "metadata": {},
   "outputs": [
    {
     "data": {
      "text/plain": [
       "['Lab3',\n",
       " '.local',\n",
       " '.python_history',\n",
       " 'Lab6',\n",
       " 'Homework1',\n",
       " 'Lab1',\n",
       " 'Lab5',\n",
       " 'Lab0',\n",
       " '.ipynb_checkpoints',\n",
       " 'Lab4',\n",
       " 'Homework2',\n",
       " '.ipython',\n",
       " '.bashrc',\n",
       " 'Lab2',\n",
       " '.jupyter',\n",
       " '.bash_logout',\n",
       " '.profile',\n",
       " 'Lecture Notes',\n",
       " 'practice',\n",
       " '.cache']"
      ]
     },
     "execution_count": 5,
     "metadata": {},
     "output_type": "execute_result"
    }
   ],
   "source": [
    "os.listdir(\"..\")"
   ]
  },
  {
   "cell_type": "code",
   "execution_count": 6,
   "metadata": {},
   "outputs": [
    {
     "data": {
      "text/plain": [
       "['home',\n",
       " 'snap',\n",
       " 'initrd.img',\n",
       " 'mnt',\n",
       " 'tmp',\n",
       " 'vmlinuz',\n",
       " 'usr',\n",
       " 'dev',\n",
       " 'initrd.img.old',\n",
       " 'lib64',\n",
       " 'media',\n",
       " 'proc',\n",
       " 'srv',\n",
       " 'opt',\n",
       " 'lib',\n",
       " 'run',\n",
       " 'lost+found',\n",
       " 'boot',\n",
       " 'bin',\n",
       " 'etc',\n",
       " 'root',\n",
       " 'vmlinuz.old',\n",
       " 'sys',\n",
       " 'sbin',\n",
       " 'var']"
      ]
     },
     "execution_count": 6,
     "metadata": {},
     "output_type": "execute_result"
    }
   ],
   "source": [
    "os.listdir(\"/\")"
   ]
  },
  {
   "cell_type": "code",
   "execution_count": 8,
   "metadata": {},
   "outputs": [
    {
     "data": {
      "text/plain": [
       "True"
      ]
     },
     "execution_count": 8,
     "metadata": {},
     "output_type": "execute_result"
    }
   ],
   "source": [
    "os.path.exists(\"Lecture Notes 10.12.ipynb\")"
   ]
  },
  {
   "cell_type": "code",
   "execution_count": 9,
   "metadata": {},
   "outputs": [
    {
     "data": {
      "text/plain": [
       "False"
      ]
     },
     "execution_count": 9,
     "metadata": {},
     "output_type": "execute_result"
    }
   ],
   "source": [
    "os.path.exists(\"Lecture Notes 10.12_new.ipynb\")"
   ]
  },
  {
   "cell_type": "markdown",
   "metadata": {},
   "source": [
    "## Reading Files\n",
    "\n",
    "- Before we can read a file, we must OPEN it\n",
    "- The general syntax for opening a file is:\n",
    "\n",
    "```python \n",
    "file_ID = open(\"filename as a string\", \"r\")```\n",
    "\n",
    "- file_ID : This is a variable, it POINTS to the folder contents\n",
    "    - IT ACTUALLY CONTAINS NOTHING\n",
    "    \n",
    "- The filename either contains the absolute or relative pathname to the file\n",
    "\n",
    "- The mode tells Python how to open the file:\n",
    "    - \"r\" : Opens the file for READING (no writing allowed, default)\n",
    "    - \"w\" : Opens the file for WRITING (deletes file if it already existed)\n",
    "    - \"a\" : Opens the file for APPENDING (lets us add to a file)"
   ]
  },
  {
   "cell_type": "code",
   "execution_count": 10,
   "metadata": {},
   "outputs": [],
   "source": [
    "fid = open(\"/srv/data/lecture_data/when_you_are_old.txt\")"
   ]
  },
  {
   "cell_type": "code",
   "execution_count": 11,
   "metadata": {},
   "outputs": [
    {
     "data": {
      "text/plain": [
       "<_io.TextIOWrapper name='/srv/data/lecture_data/when_you_are_old.txt' mode='r' encoding='UTF-8'>"
      ]
     },
     "execution_count": 11,
     "metadata": {},
     "output_type": "execute_result"
    }
   ],
   "source": [
    "fid"
   ]
  },
  {
   "cell_type": "code",
   "execution_count": 13,
   "metadata": {},
   "outputs": [
    {
     "name": "stdout",
     "output_type": "stream",
     "text": [
      "<_io.TextIOWrapper name='/srv/data/lecture_data/when_you_are_old.txt' mode='r' encoding='UTF-8'>\n"
     ]
    }
   ],
   "source": [
    "print(fid)"
   ]
  },
  {
   "cell_type": "code",
   "execution_count": 14,
   "metadata": {},
   "outputs": [],
   "source": [
    "my_file_contents = fid.read()"
   ]
  },
  {
   "cell_type": "markdown",
   "metadata": {},
   "source": [
    "- The .read() allows us to make a variable that contains the text in our file"
   ]
  },
  {
   "cell_type": "code",
   "execution_count": 15,
   "metadata": {},
   "outputs": [
    {
     "name": "stdout",
     "output_type": "stream",
     "text": [
      "When you are old and grey and full of sleep,\n",
      "And nodding by the fire, take down this book,\n",
      "And slowly read, and dream of the soft look\n",
      "Your eyes had once, and of their shadows deep;\n",
      "\n",
      "How many loved your moments of glad grace,\n",
      "And loved your beauty with love false or true,\n",
      "But one man loved the pilgrim soul in you,\n",
      "And loved the sorrows of your changing face;\n",
      "\n",
      "And bending down beside the glowing bars,\n",
      "Murmur, a little sadly, how Love fled\n",
      "And paced upon the mountains overhead\n",
      "And hid his face amid a crowd of stars.\n",
      "\n",
      "W. B. Yeats - 1865-1939\n",
      "\n"
     ]
    }
   ],
   "source": [
    "print(my_file_contents)"
   ]
  },
  {
   "cell_type": "code",
   "execution_count": 16,
   "metadata": {},
   "outputs": [
    {
     "data": {
      "text/plain": [
       "''"
      ]
     },
     "execution_count": 16,
     "metadata": {},
     "output_type": "execute_result"
    }
   ],
   "source": [
    "fid.read()"
   ]
  },
  {
   "cell_type": "code",
   "execution_count": 18,
   "metadata": {},
   "outputs": [
    {
     "data": {
      "text/plain": [
       "'When you are old and grey and full of sleep,\\nAnd nodding by the fire, take down this book,\\nAnd slowly read, and dream of the soft look\\nYour eyes had once, and of their shadows deep;\\n\\nHow many loved your moments of glad grace,\\nAnd loved your beauty with love false or true,\\nBut one man loved the pilgrim soul in you,\\nAnd loved the sorrows of your changing face;\\n\\nAnd bending down beside the glowing bars,\\nMurmur, a little sadly, how Love fled\\nAnd paced upon the mountains overhead\\nAnd hid his face amid a crowd of stars.\\n\\nW. B. Yeats - 1865-1939\\n'"
      ]
     },
     "execution_count": 18,
     "metadata": {},
     "output_type": "execute_result"
    }
   ],
   "source": [
    "fid.seek(0)\n",
    "fid.read()"
   ]
  },
  {
   "cell_type": "markdown",
   "metadata": {},
   "source": [
    "- Python reads files in ONE direction\n",
    "- We can force Python back to the beginning using the `seek` method\n",
    "\n",
    "\n",
    "- We opened the file to read it\n",
    "- We have to manually close the file after\n",
    "- We can close the file by using the `close` method"
   ]
  },
  {
   "cell_type": "code",
   "execution_count": 19,
   "metadata": {},
   "outputs": [],
   "source": [
    "fid.close()"
   ]
  },
  {
   "cell_type": "code",
   "execution_count": null,
   "metadata": {},
   "outputs": [],
   "source": []
  }
 ],
 "metadata": {
  "kernelspec": {
   "display_name": "Python 3",
   "language": "python",
   "name": "python3"
  },
  "language_info": {
   "codemirror_mode": {
    "name": "ipython",
    "version": 3
   },
   "file_extension": ".py",
   "mimetype": "text/x-python",
   "name": "python",
   "nbconvert_exporter": "python",
   "pygments_lexer": "ipython3",
   "version": "3.7.7"
  }
 },
 "nbformat": 4,
 "nbformat_minor": 4
}

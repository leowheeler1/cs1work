{
 "cells": [
  {
   "cell_type": "markdown",
   "metadata": {},
   "source": [
    "# Lecture Notes 10.23\n",
    "\n",
    "#### Leo Wheeler\n",
    "\n",
    "## Objectives\n",
    "\n",
    "1. Discuss how to plot data read in from a file\n",
    "2. Play with Turtle Graphics\n",
    "\n",
    "## Plotting data from a file"
   ]
  },
  {
   "cell_type": "code",
   "execution_count": 1,
   "metadata": {},
   "outputs": [],
   "source": [
    "fid = open(\"/srv/data/lab7/2016_pres_election.csv\")\n",
    "header = fid.readline().strip() # Reads the first line only and strip new lines"
   ]
  },
  {
   "cell_type": "code",
   "execution_count": 2,
   "metadata": {},
   "outputs": [
    {
     "data": {
      "text/plain": [
       "str"
      ]
     },
     "execution_count": 2,
     "metadata": {},
     "output_type": "execute_result"
    }
   ],
   "source": [
    "type(header)"
   ]
  },
  {
   "cell_type": "code",
   "execution_count": 3,
   "metadata": {},
   "outputs": [
    {
     "data": {
      "text/plain": [
       "'State,Clinton,Trump,Other'"
      ]
     },
     "execution_count": 3,
     "metadata": {},
     "output_type": "execute_result"
    }
   ],
   "source": [
    "header"
   ]
  },
  {
   "cell_type": "code",
   "execution_count": 4,
   "metadata": {},
   "outputs": [],
   "source": [
    "# Initialize some empty lists\n",
    "sl = []\n",
    "cl = []\n",
    "tl = []\n",
    "ol = []\n",
    "\n",
    "for line in fid:\n",
    "    line = line.strip()\n",
    "    data = line.split(\",\")\n",
    "    sl.append(data[0])\n",
    "    cl.append(int(data[1]))\n",
    "    tl.append(int(data[2]))\n",
    "    ol.append(int(data[3]))"
   ]
  },
  {
   "cell_type": "markdown",
   "metadata": {},
   "source": [
    "## Turtle Graphics"
   ]
  },
  {
   "cell_type": "code",
   "execution_count": 6,
   "metadata": {},
   "outputs": [],
   "source": [
    "from ipyturtle import Turtle"
   ]
  },
  {
   "cell_type": "code",
   "execution_count": 7,
   "metadata": {},
   "outputs": [
    {
     "data": {
      "application/vnd.jupyter.widget-view+json": {
       "model_id": "323271d40fae4b85860a5a8682c292fa",
       "version_major": 2,
       "version_minor": 0
      },
      "text/plain": [
       "Turtle()"
      ]
     },
     "metadata": {},
     "output_type": "display_data"
    }
   ],
   "source": [
    "h = 300\n",
    "w = 300\n",
    "T = Turtle(fixed = True, height = h, width = w)\n",
    "T"
   ]
  },
  {
   "cell_type": "code",
   "execution_count": 150,
   "metadata": {},
   "outputs": [],
   "source": [
    "def make_star():\n",
    "    T.reset()\n",
    "    T.penup()\n",
    "    T.forward(100)\n",
    "    T.left(180)\n",
    "    T.left(36/2)\n",
    "    T.pendown()\n",
    "    T.forward(45)\n",
    "    T.left()"
   ]
  },
  {
   "cell_type": "code",
   "execution_count": 151,
   "metadata": {},
   "outputs": [],
   "source": [
    "make_star()"
   ]
  },
  {
   "cell_type": "code",
   "execution_count": null,
   "metadata": {},
   "outputs": [],
   "source": []
  }
 ],
 "metadata": {
  "kernelspec": {
   "display_name": "Python 3",
   "language": "python",
   "name": "python3"
  },
  "language_info": {
   "codemirror_mode": {
    "name": "ipython",
    "version": 3
   },
   "file_extension": ".py",
   "mimetype": "text/x-python",
   "name": "python",
   "nbconvert_exporter": "python",
   "pygments_lexer": "ipython3",
   "version": "3.7.7"
  }
 },
 "nbformat": 4,
 "nbformat_minor": 4
}

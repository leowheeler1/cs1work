{
 "cells": [
  {
   "cell_type": "markdown",
   "metadata": {},
   "source": [
    "# 9.9 Lecture Notes\n",
    "\n",
    "Leo Wheeler\n",
    "\n",
    "## Objectives\n",
    "\n",
    "1. Practice the IPO framework using the problems from Lab1.\n",
    "2. Discuss the importance of functions.\n",
    "\n",
    "## IPO practice\n",
    "\n",
    "### 0\n",
    "\n",
    "Create a general function that can compute the total number of calories based on fat, cabs, protein and fiber.\n",
    "\n",
    "- Inputs\n",
    "    - `fat_grams`  : number of grams of fat\n",
    "    - `carb_grams` : number of grams of carbs\n",
    "    - `pro_grams`  : number of grams of protein\n",
    "    - `fib_grams`  : number of grams of fiber\n",
    "    "
   ]
  },
  {
   "cell_type": "code",
   "execution_count": null,
   "metadata": {},
   "outputs": [],
   "source": [
    "def count_cals(fat_grams, carb_grams, pro_grams, fib_grams):\n",
    "    # write the function"
   ]
  },
  {
   "cell_type": "markdown",
   "metadata": {},
   "source": [
    "- Outputs \n",
    "    - `total_cals` : total number of calories"
   ]
  },
  {
   "cell_type": "code",
   "execution_count": null,
   "metadata": {},
   "outputs": [],
   "source": [
    "def count_cals(fat_grams, carb_grams, pro_grams, fib_grams):\n",
    "    # write the function\n",
    "    return total_cals"
   ]
  },
  {
   "cell_type": "markdown",
   "metadata": {},
   "source": [
    "- Process\n",
    "    - Convert each gram type to calories\n",
    "        - 1 `fat_grams` = 9 calories\n",
    "        - 1 `carb_grams` = 4 calories\n",
    "        - 1 `pro_grams` = 4 calories\n",
    "        - 1 `fib_grams` = -4 calories\n",
    "    - Total the calories by adding them up\n",
    "        - assigned to the variable `total_cals`\n",
    "    - Return `total_cals`\n",
    "    "
   ]
  },
  {
   "cell_type": "markdown",
   "metadata": {},
   "source": [
    "### 1\n",
    "\n",
    "Create a general function that determines the cost of gas per year based on the mileage, cost of gas and annual miles\n",
    "\n",
    "- Inputs\n",
    "    - `mpg` = miles per gallon for current vehicle\n",
    "    - `gas_cost` = cost of gas per gallon\n",
    "    - `annual_miles` = miles driven annually (for this problem its 12000)"
   ]
  },
  {
   "cell_type": "code",
   "execution_count": null,
   "metadata": {},
   "outputs": [],
   "source": [
    "def annual_gas_cost(mpg, gas_cost, annual_miles = 12000):\n",
    "    # write process"
   ]
  },
  {
   "cell_type": "markdown",
   "metadata": {},
   "source": [
    "- Outputs\n",
    "    - `total_gas_cost` = the total cost of gas used in a year"
   ]
  },
  {
   "cell_type": "code",
   "execution_count": null,
   "metadata": {},
   "outputs": [],
   "source": [
    "def annual_gas_cost(mpg, gas_cost, annual_miles = 12000):\n",
    "    # Do process here\n",
    "    return total_gas_cost"
   ]
  },
  {
   "cell_type": "markdown",
   "metadata": {},
   "source": [
    "- Process\n",
    "    - Determine the total number of GALLONS of gas used in a year\n",
    "        - annual_miles / mpg -> The totall gallons used\n",
    "        - $ \\frac{miles}{1} \\div \\frac{miles}{gallons} = \\frac{miles}{1} \\cdot \\frac{gallons}{miles} = gallons $\n",
    "    - Determine total cost\n",
    "        - total_gallons * gas_cost -> total_gas_cost\n",
    "            - save as a variable\n",
    "    - Return total_gas_cost"
   ]
  },
  {
   "cell_type": "markdown",
   "metadata": {},
   "source": [
    "### 2\n",
    "\n",
    "Your function should take an amount of money and display the change with the least amount of coins needed to make that money\n",
    "\n",
    "- Inputs\n",
    "    - `money` = amount of money we need to make change for\n",
    "- Outputs\n",
    "    - no returns needed\n",
    "    - there will be lots of `print` statements"
   ]
  },
  {
   "cell_type": "code",
   "execution_count": null,
   "metadata": {},
   "outputs": [],
   "source": [
    "def make_change(money):\n",
    "    # this is where process goes\n",
    "    return "
   ]
  },
  {
   "cell_type": "markdown",
   "metadata": {},
   "source": [
    "- Process\n",
    "    - For each denomination, determine the whol enumber possible\n",
    "        - use // and % to find whole number and remainder for each value\n",
    "        - Print the result"
   ]
  },
  {
   "cell_type": "code",
   "execution_count": null,
   "metadata": {},
   "outputs": [],
   "source": []
  }
 ],
 "metadata": {
  "kernelspec": {
   "display_name": "Python 3",
   "language": "python",
   "name": "python3"
  },
  "language_info": {
   "codemirror_mode": {
    "name": "ipython",
    "version": 3
   },
   "file_extension": ".py",
   "mimetype": "text/x-python",
   "name": "python",
   "nbconvert_exporter": "python",
   "pygments_lexer": "ipython3",
   "version": "3.7.7"
  }
 },
 "nbformat": 4,
 "nbformat_minor": 4
}

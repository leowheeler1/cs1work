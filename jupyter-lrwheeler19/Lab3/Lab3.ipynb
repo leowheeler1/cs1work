{
 "cells": [
  {
   "cell_type": "markdown",
   "metadata": {},
   "source": [
    "### CS 125 Assignment\n",
    "\n",
    "Before you turn this assignment in, make sure everything runs as expected. First, **restart the kernel** (in the menubar, select Kernel$\\rightarrow$Restart) and then **run all cells** (in the menubar, select Cell$\\rightarrow$Run All).\n",
    "\n",
    "Make sure you fill in any place that says `YOUR CODE HERE` or \"YOUR ANSWER HERE\", as well as your name and collaborators below:"
   ]
  },
  {
   "cell_type": "code",
   "execution_count": 1,
   "metadata": {},
   "outputs": [],
   "source": [
    "NAME = \"Leo Wheeler\"\n",
    "COLLABORATORS = \"\""
   ]
  },
  {
   "cell_type": "markdown",
   "metadata": {},
   "source": [
    "---\n",
    "---"
   ]
  },
  {
   "cell_type": "markdown",
   "metadata": {
    "deletable": false,
    "editable": false,
    "nbgrader": {
     "cell_type": "markdown",
     "checksum": "7ddf530936ff24294983bc7eec8b3345",
     "grade": false,
     "grade_id": "cell-09df908998df981d",
     "locked": true,
     "schema_version": 3,
     "solution": false,
     "task": false
    }
   },
   "source": [
    "# Lab 3\n",
    "\n",
    "Objectives:\n",
    "\n",
    "- Develop code that executes conditionally\n",
    "- Recognize Selection patterns:\n",
    "    - Alternate Value/Action\n",
    "    - Cascading If/Classification\n",
    "- Experiment with functions"
   ]
  },
  {
   "cell_type": "markdown",
   "metadata": {
    "deletable": false,
    "editable": false,
    "nbgrader": {
     "cell_type": "markdown",
     "checksum": "64924cfb1a467583152f47c117c1ed3d",
     "grade": false,
     "grade_id": "cell-c2b01da6da409bb8",
     "locked": true,
     "schema_version": 3,
     "solution": false,
     "task": false
    }
   },
   "source": [
    "---\n",
    "## Created by:\n",
    "- Michael Stobb\n",
    "- With collaborators: \n",
    "    - None\n",
    "\n",
    "Remember that you are **encouraged** to collaborate on lab activities – just be sure to: \n",
    "1. Document your collaborators and sources.\n",
    "2. Don’t electronically share the code.\n",
    "3. Understand what you submit. \n",
    "\n",
    "\n",
    "---"
   ]
  },
  {
   "cell_type": "markdown",
   "metadata": {
    "deletable": false,
    "editable": false,
    "nbgrader": {
     "cell_type": "markdown",
     "checksum": "df5bdc4537b0432a925ea69d7489f484",
     "grade": false,
     "grade_id": "cell-8d7f90d2c6ebae78",
     "locked": true,
     "schema_version": 3,
     "solution": false,
     "task": false
    }
   },
   "source": [
    "## Some Important Ideas\n",
    "\n",
    "An if statement allows code to be executed - or not - based on the result of a boolean expression. When the condition evaluates to True, then the statements of the indented body are executed. When the condition is False, then the body is skipped. An `else` clause provides an alternative action that can be executed when the condition is False, as demonstrated below (**you don't need to run these**):"
   ]
  },
  {
   "cell_type": "code",
   "execution_count": 2,
   "metadata": {
    "deletable": false,
    "editable": false,
    "nbgrader": {
     "cell_type": "code",
     "checksum": "0d5cbd1f663f5b51910629c028a32c0a",
     "grade": false,
     "grade_id": "cell-1848a9c73ea4442d",
     "locked": true,
     "schema_version": 3,
     "solution": false,
     "task": false
    }
   },
   "outputs": [
    {
     "ename": "NameError",
     "evalue": "name 'COND' is not defined",
     "output_type": "error",
     "traceback": [
      "\u001b[0;31m---------------------------------------------------------------------------\u001b[0m",
      "\u001b[0;31mNameError\u001b[0m                                 Traceback (most recent call last)",
      "\u001b[0;32m<ipython-input-2-de653bbc03c5>\u001b[0m in \u001b[0;36m<module>\u001b[0;34m\u001b[0m\n\u001b[0;32m----> 1\u001b[0;31m \u001b[0;32mif\u001b[0m \u001b[0mCOND\u001b[0m\u001b[0;34m:\u001b[0m\u001b[0;34m\u001b[0m\u001b[0;34m\u001b[0m\u001b[0m\n\u001b[0m\u001b[1;32m      2\u001b[0m     \u001b[0mcommand1\u001b[0m\u001b[0;34m\u001b[0m\u001b[0;34m\u001b[0m\u001b[0m\n\u001b[1;32m      3\u001b[0m     \u001b[0mcommand2\u001b[0m\u001b[0;34m\u001b[0m\u001b[0;34m\u001b[0m\u001b[0m\n\u001b[1;32m      4\u001b[0m \u001b[0;32melse\u001b[0m\u001b[0;34m:\u001b[0m\u001b[0;34m\u001b[0m\u001b[0;34m\u001b[0m\u001b[0m\n\u001b[1;32m      5\u001b[0m     \u001b[0mcommand1\u001b[0m\u001b[0;34m\u001b[0m\u001b[0;34m\u001b[0m\u001b[0m\n",
      "\u001b[0;31mNameError\u001b[0m: name 'COND' is not defined"
     ]
    }
   ],
   "source": [
    "if COND:\n",
    "    command1\n",
    "    command2\n",
    "else:\n",
    "    command1\n",
    "    command2"
   ]
  },
  {
   "cell_type": "markdown",
   "metadata": {
    "deletable": false,
    "editable": false,
    "nbgrader": {
     "cell_type": "markdown",
     "checksum": "cf0e45347d6315fc2d26469bae1e21c9",
     "grade": false,
     "grade_id": "cell-1646452f93ee6a3e",
     "locked": true,
     "schema_version": 3,
     "solution": false,
     "task": false
    }
   },
   "source": [
    "Here's two examples conditional statements (**you don't need to run these**):"
   ]
  },
  {
   "cell_type": "code",
   "execution_count": null,
   "metadata": {
    "deletable": false,
    "editable": false,
    "nbgrader": {
     "cell_type": "code",
     "checksum": "8f5698b19b38f7c667879b956814c489",
     "grade": false,
     "grade_id": "cell-b88381c9daa67fb8",
     "locked": true,
     "schema_version": 3,
     "solution": false,
     "task": false
    }
   },
   "outputs": [],
   "source": [
    "# Example 1\n",
    "if (num != 0):\n",
    "    avg = (amt/num)\n",
    "    \n",
    "    \n",
    "# Example 2\n",
    "if (num % 2 == 0):\n",
    "    num_type = \"Even\"\n",
    "else:\n",
    "    num_type = \"Odd\""
   ]
  },
  {
   "cell_type": "markdown",
   "metadata": {
    "deletable": false,
    "editable": false,
    "nbgrader": {
     "cell_type": "markdown",
     "checksum": "05b52137eb1d6a66ca8748c2de945e45",
     "grade": false,
     "grade_id": "cell-139b41de91299782",
     "locked": true,
     "schema_version": 3,
     "solution": false,
     "task": false
    }
   },
   "source": [
    "## Example Program\n",
    "\n",
    "Below are some functions to calculate grades.  The test function compares the expected output from the grade function to the actual output. Unfortunately, the grade function contains a logic error (similar to one that we saw in class), so our tests all report `False`. \n",
    "\n",
    "You should:\n",
    "1. Fix the logic error in the grade function. (This should make your actual and expected outputs match)\n",
    "2. Add at least three additional test cases to the test function."
   ]
  },
  {
   "cell_type": "code",
   "execution_count": null,
   "metadata": {},
   "outputs": [],
   "source": [
    "def grade(score):\n",
    "    if score >= 90:\n",
    "        letterGrade = \"A\"\n",
    "    elif 80 <= score:\n",
    "        letterGrade = \"B\"\n",
    "    elif 70 <= score:\n",
    "        letterGrade = \"C\"\n",
    "    elif 60 <= score:\n",
    "        letterGrade = \"D\"\n",
    "    else:\n",
    "        letterGrade = \"F\"\n",
    "    return letterGrade"
   ]
  },
  {
   "cell_type": "code",
   "execution_count": null,
   "metadata": {},
   "outputs": [],
   "source": [
    "assert grade(90) == \"A\"\n",
    "assert grade(84) == \"B\"\n",
    "assert grade(72) == \"C\"\n",
    "assert grade(43) == \"F\""
   ]
  },
  {
   "cell_type": "code",
   "execution_count": null,
   "metadata": {},
   "outputs": [],
   "source": []
  },
  {
   "cell_type": "markdown",
   "metadata": {
    "deletable": false,
    "editable": false,
    "nbgrader": {
     "cell_type": "markdown",
     "checksum": "5b39af15f78ca5a68144121a05a45e3a",
     "grade": false,
     "grade_id": "cell-a8e6e003e363257d",
     "locked": true,
     "schema_version": 3,
     "solution": false,
     "task": false
    }
   },
   "source": [
    "---\n",
    "# Lab Assignment"
   ]
  },
  {
   "cell_type": "markdown",
   "metadata": {
    "deletable": false,
    "editable": false,
    "nbgrader": {
     "cell_type": "markdown",
     "checksum": "b317f4e4705183fdc2f563bbd2d1915f",
     "grade": false,
     "grade_id": "cell-72e74734f3bb313c",
     "locked": true,
     "schema_version": 3,
     "solution": false,
     "task": false
    }
   },
   "source": [
    "### Problem 0\n",
    "\n",
    "Acme Inc. assigns shipping charges at \\\\$1.25 per pound, or a flat rate of \\\\$2 for all orders less than 3 lbs. Prompt the user to enter the weight of their shipment using a main function – then pass that value to a function which computes the appropriate shipping charges. **You should make 2 functions to answer this question:** one that asks for the weight and prints the answer, and a seperate function which computes the charges.\n",
    "\n",
    "Use your program to answer the following test cases:\n",
    "\n",
    "\n",
    "| Input           | Output |\n",
    "|-----------------|--------|\n",
    "| Weight = 1lb    |        |\n",
    "| Weight = 1.5lbs |        |\n",
    "| Weight = 3lbs   |        |\n",
    "| Weight = 10lbs  |        |"
   ]
  },
  {
   "cell_type": "code",
   "execution_count": 1,
   "metadata": {},
   "outputs": [],
   "source": [
    "def compute_shipping_cost(weight):\n",
    "    if weight < 3:\n",
    "        price = 2.00\n",
    "    else:\n",
    "        price = (1.25*weight)\n",
    "    return price"
   ]
  },
  {
   "cell_type": "code",
   "execution_count": 2,
   "metadata": {},
   "outputs": [
    {
     "data": {
      "text/plain": [
       "7.875"
      ]
     },
     "execution_count": 2,
     "metadata": {},
     "output_type": "execute_result"
    }
   ],
   "source": [
    "compute_shipping_cost(6.3)"
   ]
  },
  {
   "cell_type": "code",
   "execution_count": 3,
   "metadata": {},
   "outputs": [
    {
     "data": {
      "text/plain": [
       "5.0"
      ]
     },
     "execution_count": 3,
     "metadata": {},
     "output_type": "execute_result"
    }
   ],
   "source": [
    "compute_shipping_cost(4)"
   ]
  },
  {
   "cell_type": "code",
   "execution_count": 4,
   "metadata": {
    "deletable": false,
    "editable": false,
    "nbgrader": {
     "cell_type": "code",
     "checksum": "abfbdef9046cb9d4f5e38b55e408aea1",
     "grade": true,
     "grade_id": "cell-770faf4103a799ea",
     "locked": true,
     "points": 1,
     "schema_version": 3,
     "solution": false,
     "task": false
    }
   },
   "outputs": [],
   "source": [
    "assert compute_shipping_cost(1) == 2.00\n",
    "assert compute_shipping_cost(2.5) == 2.00\n",
    "assert compute_shipping_cost(5) == 6.25"
   ]
  },
  {
   "cell_type": "code",
   "execution_count": 5,
   "metadata": {},
   "outputs": [],
   "source": [
    "def determine_customer_cost():\n",
    "    consumerPrice = compute_shipping_cost(int(input(\"Enter the weight of the package:\")))\n",
    "    print(\"Cost of shipping is: $\", consumerPrice)\n",
    "    return"
   ]
  },
  {
   "cell_type": "code",
   "execution_count": 6,
   "metadata": {},
   "outputs": [
    {
     "name": "stdout",
     "output_type": "stream",
     "text": [
      "Enter the weight of the package:7\n",
      "Cost of shipping is: $ 8.75\n"
     ]
    }
   ],
   "source": [
    "determine_customer_cost()"
   ]
  },
  {
   "cell_type": "code",
   "execution_count": 10,
   "metadata": {},
   "outputs": [
    {
     "name": "stdout",
     "output_type": "stream",
     "text": [
      "Enter the weight of the package:185\n",
      "Cost of shipping is: $ 231.25\n"
     ]
    }
   ],
   "source": [
    "determine_customer_cost()"
   ]
  },
  {
   "cell_type": "markdown",
   "metadata": {
    "deletable": false,
    "editable": false,
    "nbgrader": {
     "cell_type": "markdown",
     "checksum": "b674951151d2635dcbcfc4e1054da8a0",
     "grade": false,
     "grade_id": "cell-337603836423517d",
     "locked": true,
     "schema_version": 3,
     "solution": false,
     "task": false
    }
   },
   "source": [
    "### Problem 1\n",
    "A certain profesor's class has four exams that each count for 25% of your final grade. However, if a student can show a 10% improvement on the final (fourth) exam over the average of their first three exams, the professor will count the final exam score as 100% of the final grade. For example, if a student averaged 75% on the first three exams, but earned 83% on the final exam; the final grade would be an 83%. Calculate a student‟s grade based on their exam scores.  **This should be answered with a single function**\n",
    "\n",
    "Consider the following sample test cases. It probably makes sense to compute these by hand and then test them with your function.\n",
    "\n",
    "| Input                                      | Output |\n",
    "|--------------------------------------------|--------|\n",
    "| Exam1: 75; Exam2: 75; Exam3: 75; Exam4: 75 |        |\n",
    "| Exam1: 75; Exam2: 75; Exam3: 75; Exam4: 83 |        |\n",
    "| Exam1: 75; Exam2: 75; Exam3: 75; Exam4: 82 |        |\n",
    "| Exam1: 75; Exam2: 85; Exam3: 80; Exam4: 88 |        |\n",
    "| Exam1: 75; Exam2: 75; Exam3: 85; Exam4: 85 |        |"
   ]
  },
  {
   "cell_type": "code",
   "execution_count": null,
   "metadata": {},
   "outputs": [],
   "source": [
    "def calculate_final_grade(exam1, exam2, exam3, exam4):\n",
    "    if ((exam1+exam2+exam3)/3 <= (exam4 - 1/10)):\n",
    "        final_score = exam4\n",
    "    else:\n",
    "        final_score = int((exam1+exam2+exam3+exam4)/4)\n",
    "    \n",
    "    return final_score"
   ]
  },
  {
   "cell_type": "code",
   "execution_count": null,
   "metadata": {},
   "outputs": [],
   "source": [
    "calculate_final_grade(60,70,78, 94)"
   ]
  },
  {
   "cell_type": "code",
   "execution_count": null,
   "metadata": {},
   "outputs": [],
   "source": []
  },
  {
   "cell_type": "code",
   "execution_count": null,
   "metadata": {},
   "outputs": [],
   "source": []
  },
  {
   "cell_type": "code",
   "execution_count": null,
   "metadata": {},
   "outputs": [],
   "source": []
  },
  {
   "cell_type": "code",
   "execution_count": null,
   "metadata": {
    "deletable": false,
    "editable": false,
    "nbgrader": {
     "cell_type": "code",
     "checksum": "acb9602da900cb87d3725b444ecfb178",
     "grade": true,
     "grade_id": "cell-a88f161667b4ed33",
     "locked": true,
     "points": 1,
     "schema_version": 3,
     "solution": false,
     "task": false
    }
   },
   "outputs": [],
   "source": [
    "assert calculate_final_grade(75,75,75,75) == 75.0\n",
    "assert calculate_final_grade(75,75,75,83) == 83.0"
   ]
  },
  {
   "cell_type": "markdown",
   "metadata": {
    "deletable": false,
    "editable": false,
    "nbgrader": {
     "cell_type": "markdown",
     "checksum": "17309459878b16e96165756966cccb4d",
     "grade": false,
     "grade_id": "cell-80f50e6a90d4e409",
     "locked": true,
     "schema_version": 3,
     "solution": false,
     "task": false
    }
   },
   "source": [
    "### Problem 2\n",
    "The wavelength of visible light ranges from 380 to 750 nanometers(nm).  While the spectrum is continuous, we often think of light as being characterized by 6 distinct colors :\n",
    "\n",
    "| Color | Wavelength |\n",
    "|-------|------------|\n",
    "|violet |380-450 nm|\n",
    "|blue |450-495 nm|\n",
    "|green |495-570 nm|\n",
    "|yellow |570-590 nm|\n",
    "|orange |590-620 nm|\n",
    "|red |620-750 nm|\n",
    "\n",
    "**Write a single function** that accepts the wavelength and returns the appropriate color (as a string). If an \"invalid\" wavelength is provided, the function should return: `outside visible spectrum`.  Let the edge cases (450nm, 495nm, etc.), be part of the lower color, so 450nm is violet, and 495nm is blue, etc."
   ]
  },
  {
   "cell_type": "code",
   "execution_count": 1,
   "metadata": {},
   "outputs": [],
   "source": [
    "def determine_color(wavelength):\n",
    "    w = wavelength\n",
    "    if w < 380:\n",
    "        w = \"outside visible spectrum\"\n",
    "    elif w >= 380 and w <= 450:\n",
    "        w = \"violet\"\n",
    "    elif w >450 and w<=495:\n",
    "        w = \"blue\"\n",
    "    elif w > 495 and w <= 570:\n",
    "        w = \"green\"\n",
    "    elif w > 570 and w <= 590:\n",
    "        w = \"yellow\"\n",
    "    elif w > 590 and w <= 620:\n",
    "        w = \"orange\"\n",
    "    elif w > 620 and w <= 750:\n",
    "        w = \"red\"\n",
    "    elif w > 750:\n",
    "        w = \"outside visible spectrum\"\n",
    "    \n",
    "    return w"
   ]
  },
  {
   "cell_type": "code",
   "execution_count": 2,
   "metadata": {},
   "outputs": [
    {
     "data": {
      "text/plain": [
       "'violet'"
      ]
     },
     "execution_count": 2,
     "metadata": {},
     "output_type": "execute_result"
    }
   ],
   "source": [
    "determine_color(390)"
   ]
  },
  {
   "cell_type": "code",
   "execution_count": 3,
   "metadata": {},
   "outputs": [
    {
     "data": {
      "text/plain": [
       "'outside visible spectrum'"
      ]
     },
     "execution_count": 3,
     "metadata": {},
     "output_type": "execute_result"
    }
   ],
   "source": [
    "determine_color(3)"
   ]
  },
  {
   "cell_type": "code",
   "execution_count": 4,
   "metadata": {},
   "outputs": [
    {
     "data": {
      "text/plain": [
       "'red'"
      ]
     },
     "execution_count": 4,
     "metadata": {},
     "output_type": "execute_result"
    }
   ],
   "source": [
    "determine_color(630)"
   ]
  },
  {
   "cell_type": "code",
   "execution_count": null,
   "metadata": {
    "deletable": false,
    "editable": false,
    "nbgrader": {
     "cell_type": "code",
     "checksum": "7909c7d329df10846905d48848a0dd5a",
     "grade": true,
     "grade_id": "cell-eef112086379de4a",
     "locked": true,
     "points": 1,
     "schema_version": 3,
     "solution": false,
     "task": false
    }
   },
   "outputs": [],
   "source": [
    "assert determine_color(390) == \"violet\"\n",
    "assert determine_color(595) == \"orange\"\n",
    "assert determine_color(570) == \"green\"\n",
    "assert determine_color(800) == \"outside visible spectrum\""
   ]
  },
  {
   "cell_type": "markdown",
   "metadata": {
    "deletable": false,
    "editable": false,
    "nbgrader": {
     "cell_type": "markdown",
     "checksum": "161dba3261f53d6bfd031caae68c8740",
     "grade": false,
     "grade_id": "cell-fd13bbac982f1fa1",
     "locked": true,
     "schema_version": 3,
     "solution": false,
     "task": false
    }
   },
   "source": [
    "### Problem 3\n",
    "Given the lengths of three legs of a potential triangle, write a function to classify the type of triangle that results:\n",
    "\n",
    "- Equilateral (all sides are the same length),\n",
    "- Isosceles (exactly two sides have the same length),\n",
    "- Scalene (all sides are different lengths) or\n",
    "- Invalid (the sum of the two smaller sides are not longer than the longest side. See hint below 1 )\n",
    "\n",
    "\n",
    "Note: your program should accept the legs of the triangle **in any order**. For example:\n",
    "\n",
    "```python\n",
    "triangle_classify(3,4,4)```\n",
    "```python\n",
    "Isoceles```\n",
    "\n",
    "\n",
    "\n",
    "```python\n",
    "triangle_classify(4,3,4)```\n",
    "```python\n",
    "Isoceles```\n",
    "\n",
    "Be sure to test function and demonstrate that your code works (i.e. the expected output matches the actual output for a variety of cases.\n",
    "\n",
    "**BONUS:** After you get the program working, try to add some code to also report when the triangle is acute, right, or obtuse."
   ]
  },
  {
   "cell_type": "code",
   "execution_count": 9,
   "metadata": {},
   "outputs": [],
   "source": [
    "def triangle_classify(side1, side2, side3):\n",
    "    x = int(side1)\n",
    "    y = int(side2)\n",
    "    z = int(side3)\n",
    "    if (x == y) and (y == z):\n",
    "        tri_type = \"Equilateral\"\n",
    "    elif ((x == y) and z < y) or ((x == z) and y < z) or ((y == z) and x < y):\n",
    "        tri_type = \"Isoceles\"\n",
    "    elif ((x + y) < z) or ((y + z) < x) or ((x + z) < y):\n",
    "        tri_type = \"Invalid\"\n",
    "    else:\n",
    "        tri_type = \"Scalene\"\n",
    "    \n",
    "    return tri_type"
   ]
  },
  {
   "cell_type": "code",
   "execution_count": 10,
   "metadata": {},
   "outputs": [
    {
     "data": {
      "text/plain": [
       "'Scalene'"
      ]
     },
     "execution_count": 10,
     "metadata": {},
     "output_type": "execute_result"
    }
   ],
   "source": [
    "triangle_classify(6,6,8)"
   ]
  },
  {
   "cell_type": "code",
   "execution_count": 11,
   "metadata": {},
   "outputs": [
    {
     "data": {
      "text/plain": [
       "'Equilateral'"
      ]
     },
     "execution_count": 11,
     "metadata": {},
     "output_type": "execute_result"
    }
   ],
   "source": [
    "triangle_classify(12,12,12)"
   ]
  },
  {
   "cell_type": "code",
   "execution_count": 12,
   "metadata": {},
   "outputs": [
    {
     "data": {
      "text/plain": [
       "'Invalid'"
      ]
     },
     "execution_count": 12,
     "metadata": {},
     "output_type": "execute_result"
    }
   ],
   "source": [
    "triangle_classify(13,13,135)"
   ]
  },
  {
   "cell_type": "code",
   "execution_count": 13,
   "metadata": {
    "deletable": false,
    "editable": false,
    "nbgrader": {
     "cell_type": "code",
     "checksum": "e5ef6d66b293156735c6d5943d671945",
     "grade": true,
     "grade_id": "cell-ce4c8cfd85bbcf07",
     "locked": true,
     "points": 1,
     "schema_version": 3,
     "solution": false,
     "task": false
    }
   },
   "outputs": [],
   "source": [
    "assert triangle_classify(3,4,4) == \"Isoceles\"\n",
    "assert triangle_classify(4,3,4) == \"Isoceles\"\n",
    "assert triangle_classify(4,4,3) == \"Isoceles\"\n",
    "assert triangle_classify(3,3,3) == \"Equilateral\"\n",
    "assert triangle_classify(3,4,5) == \"Scalene\"\n",
    "assert triangle_classify(2,2,6) == \"Invalid\""
   ]
  },
  {
   "cell_type": "code",
   "execution_count": null,
   "metadata": {},
   "outputs": [],
   "source": []
  }
 ],
 "metadata": {
  "kernelspec": {
   "display_name": "Python 3",
   "language": "python",
   "name": "python3"
  },
  "language_info": {
   "codemirror_mode": {
    "name": "ipython",
    "version": 3
   },
   "file_extension": ".py",
   "mimetype": "text/x-python",
   "name": "python",
   "nbconvert_exporter": "python",
   "pygments_lexer": "ipython3",
   "version": "3.7.7"
  }
 },
 "nbformat": 4,
 "nbformat_minor": 2
}

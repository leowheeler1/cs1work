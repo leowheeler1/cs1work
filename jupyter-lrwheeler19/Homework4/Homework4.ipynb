{
 "cells": [
  {
   "cell_type": "markdown",
   "metadata": {},
   "source": [
    "### CS 125 Assignment\n",
    "\n",
    "Before you turn this assignment in, make sure everything runs as expected. First, **restart the kernel** (in the menubar, select Kernel$\\rightarrow$Restart) and then **run all cells** (in the menubar, select Cell$\\rightarrow$Run All).\n",
    "\n",
    "Make sure you fill in any place that says `YOUR CODE HERE` or \"YOUR ANSWER HERE\", as well as your name and collaborators below:"
   ]
  },
  {
   "cell_type": "code",
   "execution_count": 1,
   "metadata": {},
   "outputs": [],
   "source": [
    "NAME = \"Leo Wheeler\"\n",
    "COLLABORATORS = \"\""
   ]
  },
  {
   "cell_type": "markdown",
   "metadata": {},
   "source": [
    "---\n",
    "---"
   ]
  },
  {
   "cell_type": "markdown",
   "metadata": {
    "deletable": false,
    "editable": false,
    "nbgrader": {
     "cell_type": "markdown",
     "checksum": "97ecca4594a792a566398e9a90f50840",
     "grade": false,
     "grade_id": "cell-581a0c284337a37a",
     "locked": true,
     "schema_version": 3,
     "solution": false,
     "task": false
    }
   },
   "source": [
    "# Homework4: Making Art with Python\n",
    "---\n",
    "Computers have long been used to create art.  They are a daily tool for designers, graphic artists, and architects.  This homework assignment will give you the oppurtunity to create some fun visuals using Python.\n",
    "\n",
    "\"Turtle\" graphics was first created in the 1960's to help teach people programming skills.  It was considered a fun way to get people using variables, conditional statements, loops, and functions.  All the essentials of programming!  The tradition of Turtle graphics continues to this day, albeit in different forms.  The langauges used have changed quite a bit, but the basic set of instructions used to create cool visuals has remained the same.\n",
    "\n",
    "We can access Turtle graphics in the jupyter notebook by importing the following:"
   ]
  },
  {
   "cell_type": "code",
   "execution_count": 2,
   "metadata": {
    "deletable": false,
    "editable": false,
    "nbgrader": {
     "cell_type": "code",
     "checksum": "113798f01e635e8f518138821fde4fd5",
     "grade": false,
     "grade_id": "cell-64e10b471e1feac2",
     "locked": true,
     "schema_version": 3,
     "solution": false,
     "task": false
    }
   },
   "outputs": [],
   "source": [
    "from ipyturtle import Turtle\n",
    "import math"
   ]
  },
  {
   "cell_type": "markdown",
   "metadata": {
    "deletable": false,
    "editable": false,
    "nbgrader": {
     "cell_type": "markdown",
     "checksum": "00cb28d638306aea630def00d8702a43",
     "grade": false,
     "grade_id": "cell-abda37e2bd58801f",
     "locked": true,
     "schema_version": 3,
     "solution": false,
     "task": false
    }
   },
   "source": [
    "To make your graphics a little easier, I have written a few small functions.  This first function just makes a new Turtle and turtle graph with a set size. You can either give it new dimensions or use the default 300x300 image.   "
   ]
  },
  {
   "cell_type": "code",
   "execution_count": 33,
   "metadata": {
    "deletable": false,
    "editable": false,
    "nbgrader": {
     "cell_type": "code",
     "checksum": "d8b9716d99e2115241a2c3b4c8a96719",
     "grade": false,
     "grade_id": "cell-78af4be1cd9c63b3",
     "locked": true,
     "schema_version": 3,
     "solution": false,
     "task": false
    }
   },
   "outputs": [],
   "source": [
    "def make_turtle(h=300, w=300):\n",
    "    T = Turtle(fixed=False, height=h, width=w)\n",
    "    return T"
   ]
  },
  {
   "cell_type": "markdown",
   "metadata": {
    "deletable": false,
    "editable": false,
    "nbgrader": {
     "cell_type": "markdown",
     "checksum": "635a9ad719202f321bed306e3a3630c4",
     "grade": false,
     "grade_id": "cell-bc6025c6654e0c3b",
     "locked": true,
     "schema_version": 3,
     "solution": false,
     "task": false
    }
   },
   "source": [
    "The functions below allow you to set the position (the actual placement of the turtle) and the heading (the direction it is pointing in) directly.  Make sure you know how they work before proceeding."
   ]
  },
  {
   "cell_type": "code",
   "execution_count": 3,
   "metadata": {
    "deletable": false,
    "editable": false,
    "nbgrader": {
     "cell_type": "code",
     "checksum": "c38f752a735b1dcf17aa4727af98f354",
     "grade": false,
     "grade_id": "cell-998962a3b3a3d75a",
     "locked": true,
     "schema_version": 3,
     "solution": false,
     "task": false
    }
   },
   "outputs": [],
   "source": [
    "# The x and y are in units of pixels\n",
    "def set_position(T,x,y):\n",
    "    T._turtle_location_x = x\n",
    "    T._turtle_location_y = y\n",
    "\n",
    "# The angle is in degrees, 0 = East, 90 = North, 180 = West, 270 = South, 360 = East\n",
    "def set_heading(T,angle):\n",
    "    T._turtle_heading = angle\n",
    "    T._turtle_heading_x = math.cos(math.radians(T._turtle_heading))\n",
    "    T._turtle_heading_y = math.sin(math.radians(T._turtle_heading))"
   ]
  },
  {
   "cell_type": "markdown",
   "metadata": {
    "deletable": false,
    "editable": false,
    "nbgrader": {
     "cell_type": "markdown",
     "checksum": "0031d86a4d22a73a18fbeaaef6dc7b64",
     "grade": false,
     "grade_id": "cell-dd3dedda3f60a700",
     "locked": true,
     "schema_version": 3,
     "solution": false,
     "task": false
    }
   },
   "source": [
    "Now we can make a turtle:"
   ]
  },
  {
   "cell_type": "code",
   "execution_count": 34,
   "metadata": {
    "deletable": false,
    "editable": false,
    "nbgrader": {
     "cell_type": "code",
     "checksum": "2149ab015d9cca38ed8374131da23955",
     "grade": false,
     "grade_id": "cell-d36036b1e564e7bc",
     "locked": true,
     "schema_version": 3,
     "solution": false,
     "task": false
    }
   },
   "outputs": [
    {
     "data": {
      "application/vnd.jupyter.widget-view+json": {
       "model_id": "fae4ebe77bb846329a514102882ae9a4",
       "version_major": 2,
       "version_minor": 0
      },
      "text/plain": [
       "Turtle()"
      ]
     },
     "metadata": {},
     "output_type": "display_data"
    }
   ],
   "source": [
    "A = make_turtle()\n",
    "A"
   ]
  },
  {
   "cell_type": "code",
   "execution_count": 35,
   "metadata": {
    "deletable": false,
    "editable": false,
    "nbgrader": {
     "cell_type": "code",
     "checksum": "0020af7729797262b19e81038be1388f",
     "grade": false,
     "grade_id": "cell-04ea61d11169cefe",
     "locked": true,
     "schema_version": 3,
     "solution": false,
     "task": false
    }
   },
   "outputs": [],
   "source": [
    "A.forward(100)\n",
    "A.left(90)\n",
    "A.forward(100)"
   ]
  },
  {
   "cell_type": "markdown",
   "metadata": {
    "deletable": false,
    "editable": false,
    "nbgrader": {
     "cell_type": "markdown",
     "checksum": "d56c840d66429f333f4546a0cf8722c4",
     "grade": false,
     "grade_id": "cell-c18611ad42e79ec4",
     "locked": true,
     "schema_version": 3,
     "solution": false,
     "task": false
    }
   },
   "source": [
    "The turtle itself has a small but complete set of methods that allow us to interact with it.  Make sure you are familiar with them before moving on.  The **complete list** of valid Turtle methods are:\n",
    "\n",
    "- **forward**: go forward some number of pixels\n",
    "- **back**: go backward some number of pixels\n",
    "- **left**: turn left some number of degrees\n",
    "- **right**: turn right some number of degrees\n",
    "- **penup**: pick up the pen and leave no marks when moving\n",
    "- **pendown**: put down the pen and start to leave marks when moving\n",
    "- **pencolor**: set the pencolor\n",
    "- **heading**: return the current heading of the turtle in degrees\n",
    "- **hideturtle**: remove the actual turtle from the graphic\n",
    "- **showturtle**: put the actual turtle in the graphic\n",
    "- **isdown**: True/False if the pen is down\n",
    "- **isvisible**: True/False if the turtle is visible\n",
    "- **reset**: clear the screen and reset the turtle to 0,0\n",
    "\n",
    "These are accessed by using dot notation with the turtle.\n",
    "\n",
    "---\n",
    "\n",
    "## Assignment\n",
    "\n",
    "Write a main program that will result in a \"pretty\" picture being drawn.  This is vague on purpose.  However, the picture does have the following *constraints*:\n",
    "\n",
    "1. It must be fully your own.  No copying someone elses.\n",
    "2. You must use at least 3 different colors.\n",
    "3. Your function must use at least 3 smaller useful functions that you write.  Examples might include a function that creates circles, squares, or flowers.\n",
    "4. Your final figure should be at least 500x500 pixels, but no more than 800x800.\n",
    "5. No low effort pictures please.  An example of such might be three single straight lines.\n",
    "\n",
    "After successfully completing a figure that meets the above criteria, feel free (but not obligated) to make something wholly your own.\n",
    "\n",
    "---\n",
    "\n",
    "## Student Work Starts Here:\n",
    "\n",
    "---"
   ]
  },
  {
   "cell_type": "markdown",
   "metadata": {},
   "source": [
    "# IPO\n",
    "\n",
    "Input:\n",
    "- None\n",
    "\n",
    "Process:\n",
    "- drawing will be \n",
    "\n",
    "Output:\n",
    "- The final product, a beautiful drawing"
   ]
  },
  {
   "cell_type": "code",
   "execution_count": 2,
   "metadata": {},
   "outputs": [],
   "source": [
    "from ipyturtle import Turtle"
   ]
  },
  {
   "cell_type": "code",
   "execution_count": 3,
   "metadata": {},
   "outputs": [],
   "source": [
    "def make_turtle():\n",
    "    T = Turtle(fixed=False, height=800, width=800)\n",
    "    return T"
   ]
  },
  {
   "cell_type": "code",
   "execution_count": 68,
   "metadata": {},
   "outputs": [],
   "source": [
    "def cool_shape():\n",
    "    T = make_turtle()\n",
    "    T\n",
    "    T.penup()\n",
    "    T.right(45)\n",
    "    T.forward(90) \n",
    "    T.right(135)\n",
    "    T.pencolor('cornflowerblue')\n",
    "    T.pendown()\n",
    "\n",
    "\n",
    "    x = 0\n",
    "    while x < 120:\n",
    "        for i in range(6):    \n",
    "            T.forward(200)     \n",
    "            T.right(61)\n",
    "        T.right(11.1111) \n",
    "        x = x+1\n",
    "    return T"
   ]
  },
  {
   "cell_type": "code",
   "execution_count": 69,
   "metadata": {},
   "outputs": [
    {
     "data": {
      "application/vnd.jupyter.widget-view+json": {
       "model_id": "a5699dc447de473da95d60d92379440e",
       "version_major": 2,
       "version_minor": 0
      },
      "text/plain": [
       "Turtle()"
      ]
     },
     "metadata": {},
     "output_type": "display_data"
    }
   ],
   "source": [
    "cool_shape()"
   ]
  },
  {
   "cell_type": "code",
   "execution_count": 4,
   "metadata": {
    "scrolled": false
   },
   "outputs": [
    {
     "data": {
      "application/vnd.jupyter.widget-view+json": {
       "model_id": "61e7d0456e2a47be8b3afcdd526f4c58",
       "version_major": 2,
       "version_minor": 0
      },
      "text/plain": [
       "Turtle()"
      ]
     },
     "metadata": {},
     "output_type": "display_data"
    }
   ],
   "source": [
    "T = make_turtle()\n",
    "T"
   ]
  },
  {
   "cell_type": "code",
   "execution_count": 5,
   "metadata": {},
   "outputs": [],
   "source": [
    "T.penup()\n",
    "T.right(45)\n",
    "T.forward(90) \n",
    "T.right(135)\n",
    "T.pencolor('black')\n",
    "T.pendown()\n",
    "\n",
    "\n",
    "x = 0\n",
    "while x < 120:\n",
    "    for i in range(6):    \n",
    "        T.forward(200)     \n",
    "        T.right(61)\n",
    "    T.right(11.1111) \n",
    "    x = x+1 "
   ]
  },
  {
   "cell_type": "code",
   "execution_count": 6,
   "metadata": {},
   "outputs": [],
   "source": [
    "T.penup()\n",
    "T.right(45)\n",
    "T.forward(90) \n",
    "T.right(135)\n",
    "T.pencolor('gold')\n",
    "T.pendown()\n",
    "\n",
    "\n",
    "x = 0\n",
    "while x < 120:\n",
    "    for i in range(6):    \n",
    "        T.forward(200)     \n",
    "        T.right(61)\n",
    "    T.right(11.1111) \n",
    "    x = x+1 "
   ]
  },
  {
   "cell_type": "code",
   "execution_count": 7,
   "metadata": {},
   "outputs": [],
   "source": [
    "T.penup()\n",
    "T.right(45)\n",
    "T.forward(90) \n",
    "T.right(135)\n",
    "T.pencolor('cornflowerblue')\n",
    "T.pendown()\n",
    "\n",
    "\n",
    "x = 0\n",
    "while x < 120:\n",
    "    for i in range(6):    \n",
    "        T.forward(200)     \n",
    "        T.right(61)\n",
    "    T.right(11.1111) \n",
    "    x = x+1 "
   ]
  },
  {
   "cell_type": "code",
   "execution_count": 8,
   "metadata": {},
   "outputs": [],
   "source": [
    "T.penup()\n",
    "T.right(45)\n",
    "T.forward(90) \n",
    "T.right(135)\n",
    "T.pencolor('maroon')\n",
    "T.pendown()\n",
    "\n",
    "\n",
    "x = 0\n",
    "while x < 120:\n",
    "    for i in range(6):    \n",
    "        T.forward(200)     \n",
    "        T.right(61)\n",
    "    T.right(11.1111) \n",
    "    x = x+1 "
   ]
  },
  {
   "cell_type": "code",
   "execution_count": null,
   "metadata": {},
   "outputs": [],
   "source": [
    "T.penup()\n",
    "T.right(45)\n",
    "T.forward(90) \n",
    "T.right(135)\n",
    "T.pencolor('white')\n",
    "T.pendown()\n",
    "\n",
    "\n",
    "x = 0\n",
    "while x < 120:\n",
    "    for i in range(6):    \n",
    "        T.forward(200)     \n",
    "        T.right(61)\n",
    "    T.right(11.1111) \n",
    "    x = x+1 "
   ]
  },
  {
   "cell_type": "markdown",
   "metadata": {
    "deletable": false,
    "editable": false,
    "nbgrader": {
     "cell_type": "markdown",
     "checksum": "c9c7a6d508cf5fc10ed27b49d24eb70b",
     "grade": false,
     "grade_id": "cell-8b726d358ca81f27",
     "locked": true,
     "points": 4,
     "schema_version": 3,
     "solution": false,
     "task": true
    }
   },
   "source": [
    "## Instructor Feedback Goes Below"
   ]
  }
 ],
 "metadata": {
  "kernelspec": {
   "display_name": "Python 3",
   "language": "python",
   "name": "python3"
  },
  "language_info": {
   "codemirror_mode": {
    "name": "ipython",
    "version": 3
   },
   "file_extension": ".py",
   "mimetype": "text/x-python",
   "name": "python",
   "nbconvert_exporter": "python",
   "pygments_lexer": "ipython3",
   "version": "3.7.7"
  }
 },
 "nbformat": 4,
 "nbformat_minor": 4
}

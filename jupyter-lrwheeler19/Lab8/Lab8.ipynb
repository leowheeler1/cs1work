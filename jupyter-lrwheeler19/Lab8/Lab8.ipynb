{
 "cells": [
  {
   "cell_type": "markdown",
   "metadata": {},
   "source": [
    "### CS 125 Assignment\n",
    "\n",
    "Before you turn this assignment in, make sure everything runs as expected. First, **restart the kernel** (in the menubar, select Kernel$\\rightarrow$Restart) and then **run all cells** (in the menubar, select Cell$\\rightarrow$Run All).\n",
    "\n",
    "Make sure you fill in any place that says `YOUR CODE HERE` or \"YOUR ANSWER HERE\", as well as your name and collaborators below:"
   ]
  },
  {
   "cell_type": "code",
   "execution_count": 1,
   "metadata": {},
   "outputs": [],
   "source": [
    "NAME = \"Leo Wheeler\"\n",
    "COLLABORATORS = \"\""
   ]
  },
  {
   "cell_type": "markdown",
   "metadata": {},
   "source": [
    "---\n",
    "---"
   ]
  },
  {
   "cell_type": "markdown",
   "metadata": {
    "deletable": false,
    "editable": false,
    "nbgrader": {
     "cell_type": "markdown",
     "checksum": "835238100805e9c1eb5e7e133f6ce0e1",
     "grade": false,
     "grade_id": "cell-e96c53b63084abd9",
     "locked": true,
     "schema_version": 3,
     "solution": false,
     "task": false
    }
   },
   "source": [
    "# Lab 8\n",
    "\n",
    "Objectives:\n",
    "\n",
    "- Gain additional experience with File IO (Input/Output)\n",
    "- Practice filtering data\n",
    "- String Manipulation with data files\n",
    "- Creating and using Python Dictionaries\n",
    "\n",
    "\n",
    "\n",
    "---\n",
    "\n",
    "\n",
    "## Created by:\n",
    "- Michael Stobb\n",
    "- With collaborators: \n",
    "    - None\n",
    "- Lab8\n",
    "\n",
    "Remember that you are **encouraged** to collaborate on lab activities – just be sure to: \n",
    "1. Document your collaborators and sources.\n",
    "2. Don’t electronically share the code.\n",
    "3. Understand what you submit. \n",
    "\n",
    "\n",
    "---"
   ]
  },
  {
   "cell_type": "markdown",
   "metadata": {
    "deletable": false,
    "editable": false,
    "nbgrader": {
     "cell_type": "markdown",
     "checksum": "47f3ac22c1b4ce2f17f73c134ab2ebf5",
     "grade": false,
     "grade_id": "cell-e3be4b0e55595d81",
     "locked": true,
     "schema_version": 3,
     "solution": false,
     "task": false
    }
   },
   "source": [
    "## Getting Started\n",
    "\n",
    "The following readings should be done **before** starting the lab assignment.  Be sure you fully understand what each line is doing and what it means before moving on.  If something doesn't make sense, you should:\n",
    "1. Try different things (write some code, see what happens)\n",
    "2. Ask a friend\n",
    "3. Go to office hours"
   ]
  },
  {
   "cell_type": "markdown",
   "metadata": {
    "deletable": false,
    "editable": false,
    "nbgrader": {
     "cell_type": "markdown",
     "checksum": "0fa9bdf8f9f0eb9993d4b10ad5ec5e47",
     "grade": false,
     "grade_id": "cell-9d79029d035584f0",
     "locked": true,
     "schema_version": 3,
     "solution": false,
     "task": false
    }
   },
   "source": [
    "### Dictionaries\n",
    "\n",
    "With Lists, we associate a value with a location in the collection. We use a numeric index to lookup a value. Dictionaries are another valuable structure that is used to associate data. We use a **key** to lookup a value instead of an index. The critical difference is that indexes are always numeric (specifically integers) – but a key can be *any immutable* type.\n",
    "\n",
    "Recall from class that dictionaries are represented in python using {}. To create an empty dictionary you can type:"
   ]
  },
  {
   "cell_type": "code",
   "execution_count": 6,
   "metadata": {
    "deletable": false,
    "editable": false,
    "nbgrader": {
     "cell_type": "code",
     "checksum": "274688fb64a6e414b3d73bab42a3f36c",
     "grade": false,
     "grade_id": "cell-eb3470b768d69159",
     "locked": true,
     "schema_version": 3,
     "solution": false,
     "task": false
    }
   },
   "outputs": [],
   "source": [
    "d = {}"
   ]
  },
  {
   "cell_type": "markdown",
   "metadata": {
    "deletable": false,
    "editable": false,
    "nbgrader": {
     "cell_type": "markdown",
     "checksum": "420b7a3c3788a0e59ef4f34904f1db2b",
     "grade": false,
     "grade_id": "cell-036c4b0cb5870230",
     "locked": true,
     "schema_version": 3,
     "solution": false,
     "task": false
    }
   },
   "source": [
    "To create a dictionary with some entries – can literally enter key:value pairs."
   ]
  },
  {
   "cell_type": "code",
   "execution_count": 2,
   "metadata": {
    "deletable": false,
    "editable": false,
    "nbgrader": {
     "cell_type": "code",
     "checksum": "e965f719849c146d0c5d9361882731e5",
     "grade": false,
     "grade_id": "cell-cbb16f6a4fc0d77e",
     "locked": true,
     "schema_version": 3,
     "solution": false,
     "task": false
    }
   },
   "outputs": [],
   "source": [
    "d2 = {\"a\": 1,\"b\":2}"
   ]
  },
  {
   "cell_type": "markdown",
   "metadata": {
    "deletable": false,
    "editable": false,
    "nbgrader": {
     "cell_type": "markdown",
     "checksum": "b3f28af4172c9f9b5be02db55b85fcbe",
     "grade": false,
     "grade_id": "cell-85198c4fc2e50bf2",
     "locked": true,
     "schema_version": 3,
     "solution": false,
     "task": false
    }
   },
   "source": [
    "In this case, the keys for d2 are \"a\" and \"b\"; the values are 1 and 2.\n",
    "Try this:"
   ]
  },
  {
   "cell_type": "code",
   "execution_count": 2,
   "metadata": {
    "deletable": false,
    "editable": false,
    "nbgrader": {
     "cell_type": "code",
     "checksum": "4fd5229d8f1bf1546621117376b018d2",
     "grade": false,
     "grade_id": "cell-ec0cb0508e9d3982",
     "locked": true,
     "schema_version": 3,
     "solution": false,
     "task": false
    }
   },
   "outputs": [
    {
     "data": {
      "text/plain": [
       "dict_keys(['a', 'b'])"
      ]
     },
     "execution_count": 2,
     "metadata": {},
     "output_type": "execute_result"
    }
   ],
   "source": [
    "d2.keys()"
   ]
  },
  {
   "cell_type": "markdown",
   "metadata": {
    "deletable": false,
    "editable": false,
    "nbgrader": {
     "cell_type": "markdown",
     "checksum": "6e4a44f816a449f3774752e04e21be69",
     "grade": false,
     "grade_id": "cell-96d5013326aad400",
     "locked": true,
     "schema_version": 3,
     "solution": false,
     "task": false
    }
   },
   "source": [
    "Notice that it gives you something back, but it isn‘t clear how to use this. For example, try:"
   ]
  },
  {
   "cell_type": "code",
   "execution_count": 3,
   "metadata": {
    "deletable": false,
    "editable": false,
    "nbgrader": {
     "cell_type": "code",
     "checksum": "cff6020f55fe4499acb6bfcfc88f113a",
     "grade": false,
     "grade_id": "cell-0348d53bd22a471c",
     "locked": true,
     "schema_version": 3,
     "solution": false,
     "task": false
    }
   },
   "outputs": [
    {
     "ename": "TypeError",
     "evalue": "'dict_keys' object is not subscriptable",
     "output_type": "error",
     "traceback": [
      "\u001b[0;31m---------------------------------------------------------------------------\u001b[0m",
      "\u001b[0;31mTypeError\u001b[0m                                 Traceback (most recent call last)",
      "\u001b[0;32m<ipython-input-3-348b666c44b2>\u001b[0m in \u001b[0;36m<module>\u001b[0;34m\u001b[0m\n\u001b[1;32m      1\u001b[0m \u001b[0mk\u001b[0m \u001b[0;34m=\u001b[0m \u001b[0md2\u001b[0m\u001b[0;34m.\u001b[0m\u001b[0mkeys\u001b[0m\u001b[0;34m(\u001b[0m\u001b[0;34m)\u001b[0m\u001b[0;34m\u001b[0m\u001b[0;34m\u001b[0m\u001b[0m\n\u001b[0;32m----> 2\u001b[0;31m \u001b[0mk\u001b[0m\u001b[0;34m[\u001b[0m\u001b[0;36m0\u001b[0m\u001b[0;34m]\u001b[0m\u001b[0;34m\u001b[0m\u001b[0;34m\u001b[0m\u001b[0m\n\u001b[0m",
      "\u001b[0;31mTypeError\u001b[0m: 'dict_keys' object is not subscriptable"
     ]
    }
   ],
   "source": [
    "k = d2.keys()\n",
    "k[0]"
   ]
  },
  {
   "cell_type": "markdown",
   "metadata": {
    "deletable": false,
    "editable": false,
    "nbgrader": {
     "cell_type": "markdown",
     "checksum": "126dce4e310959cefdc9fee3f4b46495",
     "grade": false,
     "grade_id": "cell-29c939a73756356b",
     "locked": true,
     "schema_version": 3,
     "solution": false,
     "task": false
    }
   },
   "source": [
    "What happens?\n",
    "It turns out that dict_keys is not like other collections. However, it can easily be converted into a list by\n",
    "simply casting it."
   ]
  },
  {
   "cell_type": "code",
   "execution_count": 4,
   "metadata": {
    "deletable": false,
    "editable": false,
    "nbgrader": {
     "cell_type": "code",
     "checksum": "10e256decaf3c70e94b4f7750db39788",
     "grade": false,
     "grade_id": "cell-d761958fc5792aef",
     "locked": true,
     "schema_version": 3,
     "solution": false,
     "task": false
    }
   },
   "outputs": [
    {
     "data": {
      "text/plain": [
       "'a'"
      ]
     },
     "execution_count": 4,
     "metadata": {},
     "output_type": "execute_result"
    }
   ],
   "source": [
    "k = list(d2.keys())\n",
    "k[0]"
   ]
  },
  {
   "cell_type": "markdown",
   "metadata": {
    "deletable": false,
    "editable": false,
    "nbgrader": {
     "cell_type": "markdown",
     "checksum": "64e7e21118b73dcc288d40ebdc58a4fd",
     "grade": false,
     "grade_id": "cell-8147734e698320d8",
     "locked": true,
     "schema_version": 3,
     "solution": false,
     "task": false
    }
   },
   "source": [
    "What do you get for each of the following:"
   ]
  },
  {
   "cell_type": "code",
   "execution_count": 3,
   "metadata": {},
   "outputs": [],
   "source": [
    "v = d2.values()\n",
    "i = d2.items()"
   ]
  },
  {
   "cell_type": "code",
   "execution_count": 4,
   "metadata": {},
   "outputs": [
    {
     "data": {
      "text/plain": [
       "dict_values([1, 2])"
      ]
     },
     "execution_count": 4,
     "metadata": {},
     "output_type": "execute_result"
    }
   ],
   "source": [
    "v"
   ]
  },
  {
   "cell_type": "code",
   "execution_count": 5,
   "metadata": {},
   "outputs": [
    {
     "data": {
      "text/plain": [
       "dict_items([('a', 1), ('b', 2)])"
      ]
     },
     "execution_count": 5,
     "metadata": {},
     "output_type": "execute_result"
    }
   ],
   "source": [
    "i"
   ]
  },
  {
   "cell_type": "markdown",
   "metadata": {
    "deletable": false,
    "editable": false,
    "nbgrader": {
     "cell_type": "markdown",
     "checksum": "2d696ecc323bfe972e33852adf0fa0ad",
     "grade": false,
     "grade_id": "cell-aaaa0c2763675cd8",
     "locked": true,
     "schema_version": 3,
     "solution": false,
     "task": false
    }
   },
   "source": [
    "How would you convert these return values into something that you can use?\n",
    "As with lists, dictionaries are mutable. You can change the value associated with a key by directly\n",
    "assigning it."
   ]
  },
  {
   "cell_type": "code",
   "execution_count": 7,
   "metadata": {},
   "outputs": [
    {
     "data": {
      "text/plain": [
       "{'b': 5}"
      ]
     },
     "execution_count": 7,
     "metadata": {},
     "output_type": "execute_result"
    }
   ],
   "source": [
    "d[\"b\"] = 5\n",
    "d"
   ]
  },
  {
   "cell_type": "markdown",
   "metadata": {},
   "source": [
    "Unlike lists, you can directly add entries to the dictionary by simply assigning a value to a key."
   ]
  },
  {
   "cell_type": "code",
   "execution_count": 8,
   "metadata": {},
   "outputs": [
    {
     "data": {
      "text/plain": [
       "{'b': 5, 'c': 3}"
      ]
     },
     "execution_count": 8,
     "metadata": {},
     "output_type": "execute_result"
    }
   ],
   "source": [
    "d[\"c\"] = 3\n",
    "d"
   ]
  },
  {
   "cell_type": "markdown",
   "metadata": {
    "deletable": false,
    "editable": false,
    "nbgrader": {
     "cell_type": "markdown",
     "checksum": "a949d493f4bbcba4068d5703a7228434",
     "grade": false,
     "grade_id": "cell-4e22611843b2d907",
     "locked": true,
     "schema_version": 3,
     "solution": false,
     "task": false
    }
   },
   "source": [
    "You can also create a dictionary by merging together two lists:"
   ]
  },
  {
   "cell_type": "code",
   "execution_count": 9,
   "metadata": {},
   "outputs": [],
   "source": [
    "L1 = [\"one\",\"two\",\"three\"]\n",
    "L2 = [\"uno\",\"dos\",\"tres\"]\n",
    "L3 = []\n",
    "for i in range(len(L1)):\n",
    "    L3.append((L1[i], L2[i]))"
   ]
  },
  {
   "cell_type": "markdown",
   "metadata": {
    "deletable": false,
    "editable": false,
    "nbgrader": {
     "cell_type": "markdown",
     "checksum": "083ac3b4bd7e71d64b396a560d4360a3",
     "grade": false,
     "grade_id": "cell-bd63922e8c9938b3",
     "locked": true,
     "schema_version": 3,
     "solution": false,
     "task": false
    }
   },
   "source": [
    "Look at what is in L3 and make sure you understand...."
   ]
  },
  {
   "cell_type": "code",
   "execution_count": 10,
   "metadata": {},
   "outputs": [
    {
     "data": {
      "text/plain": [
       "[('one', 'uno'), ('two', 'dos'), ('three', 'tres')]"
      ]
     },
     "execution_count": 10,
     "metadata": {},
     "output_type": "execute_result"
    }
   ],
   "source": [
    "L3 "
   ]
  },
  {
   "cell_type": "code",
   "execution_count": 11,
   "metadata": {},
   "outputs": [
    {
     "data": {
      "text/plain": [
       "'dos'"
      ]
     },
     "execution_count": 11,
     "metadata": {},
     "output_type": "execute_result"
    }
   ],
   "source": [
    "d = dict(L3)\n",
    "d[\"two\"]"
   ]
  },
  {
   "cell_type": "markdown",
   "metadata": {
    "deletable": false,
    "editable": false,
    "nbgrader": {
     "cell_type": "markdown",
     "checksum": "4aa6d9b156ad6e793db599ec092ffce5",
     "grade": false,
     "grade_id": "cell-4fd1cbfa080cdb03",
     "locked": true,
     "schema_version": 3,
     "solution": false,
     "task": false
    }
   },
   "source": [
    "Of course Python can make this simpler with a built in function– zip:"
   ]
  },
  {
   "cell_type": "code",
   "execution_count": 12,
   "metadata": {},
   "outputs": [],
   "source": [
    "dz = dict(zip(L1,L2))"
   ]
  },
  {
   "cell_type": "code",
   "execution_count": 13,
   "metadata": {},
   "outputs": [
    {
     "data": {
      "text/plain": [
       "{'one': 'uno', 'two': 'dos', 'three': 'tres'}"
      ]
     },
     "execution_count": 13,
     "metadata": {},
     "output_type": "execute_result"
    }
   ],
   "source": [
    "dz"
   ]
  },
  {
   "attachments": {
    "e_to_m.png": {
     "image/png": "[encoded data removed]"
    }
   },
   "cell_type": "markdown",
   "metadata": {
    "deletable": false,
    "editable": false,
    "nbgrader": {
     "cell_type": "markdown",
     "checksum": "8d524dc4e9c9a84576ff1bab5358ea52",
     "grade": false,
     "grade_id": "cell-ffc6f5aeba493eba",
     "locked": true,
     "schema_version": 3,
     "solution": false,
     "task": false
    }
   },
   "source": [
    "# Assignment\n",
    "\n",
    "Morse code was developed around 1837 by Samuel Morse for use with the newly invented Telegraph machine.  This code converts letters and numbers into a series of audible *dashes* and *dots*.  These dashes and dots are commonly written out using the `-` as the dash and the `.` as the dot, such that the letter `L` is represented as `.-..`.  While invented long ago, Morse code is still in active use today.  \n",
    "\n",
    "Your job is to ultimately write two functions: One for converting enlish to Morse code, and another for converting Morse code back into english letters.  The file \"/srv/data/lab8/morse.txt\" contains the encoded letters in alphabetical order (A-Z).  Each line of the file is a **single letter**, so that the first line correspondes to \"A\" and the last line corresponds to \"Z\".\n",
    "\n",
    "#### Problem 0\n",
    "\n",
    "Using the morse.txt file, create two dictionaries:\n",
    "   - `e_to_m`: English letters are the key, and Morse code is the value.\n",
    "   - `m_to_e`: Morse code is the key, and english letters are the value.\n",
    "   - Recall: \n",
    "        - The ascii capital letters start at 65 and end at 90\n",
    "        - chr(65) = \"A\"\n",
    "        \n",
    "One of my dictionaries looks like\n",
    "\n",
    "![e_to_m.png](attachment:e_to_m.png)"
   ]
  },
  {
   "cell_type": "code",
   "execution_count": 92,
   "metadata": {
    "deletable": false,
    "nbgrader": {
     "cell_type": "code",
     "checksum": "edc88def2f331267d89a5b3a331ec6c9",
     "grade": true,
     "grade_id": "cell-e4123d533a214d2a",
     "locked": false,
     "points": 1,
     "schema_version": 3,
     "solution": true,
     "task": false
    }
   },
   "outputs": [],
   "source": [
    "def making_dictionaries():\n",
    "    open_file = open(\"/srv/data/lab8/morse.txt\")\n",
    "    morse_chart = open_file.readlines()\n",
    "    e_to_m = {}\n",
    "    m_to_e = {}\n",
    "    x = 65\n",
    "    for line in morse_chart:\n",
    "        line = line.strip(\"\\n\")\n",
    "        m_to_e[line] = chr(x)\n",
    "        e_to_m[chr(x)] = line\n",
    "        x += 1\n",
    "    open_file.close()\n",
    "    return e_to_m, m_to_e"
   ]
  },
  {
   "cell_type": "code",
   "execution_count": 93,
   "metadata": {
    "collapsed": true
   },
   "outputs": [
    {
     "data": {
      "text/plain": [
       "({'A': '.-',\n",
       "  'B': '-...',\n",
       "  'C': '-.-.',\n",
       "  'D': '-..',\n",
       "  'E': '.',\n",
       "  'F': '..-.',\n",
       "  'G': '--.',\n",
       "  'H': '....',\n",
       "  'I': '..',\n",
       "  'J': '.---',\n",
       "  'K': '-.-',\n",
       "  'L': '.-..',\n",
       "  'M': '--',\n",
       "  'N': '-.',\n",
       "  'O': '---',\n",
       "  'P': '.--.',\n",
       "  'Q': '--.-',\n",
       "  'R': '.-.',\n",
       "  'S': '...',\n",
       "  'T': '-',\n",
       "  'U': '..-',\n",
       "  'V': '...-',\n",
       "  'W': '.--',\n",
       "  'X': '-..-',\n",
       "  'Y': '-.--',\n",
       "  'Z': '--..'},\n",
       " {'.-': 'A',\n",
       "  '-...': 'B',\n",
       "  '-.-.': 'C',\n",
       "  '-..': 'D',\n",
       "  '.': 'E',\n",
       "  '..-.': 'F',\n",
       "  '--.': 'G',\n",
       "  '....': 'H',\n",
       "  '..': 'I',\n",
       "  '.---': 'J',\n",
       "  '-.-': 'K',\n",
       "  '.-..': 'L',\n",
       "  '--': 'M',\n",
       "  '-.': 'N',\n",
       "  '---': 'O',\n",
       "  '.--.': 'P',\n",
       "  '--.-': 'Q',\n",
       "  '.-.': 'R',\n",
       "  '...': 'S',\n",
       "  '-': 'T',\n",
       "  '..-': 'U',\n",
       "  '...-': 'V',\n",
       "  '.--': 'W',\n",
       "  '-..-': 'X',\n",
       "  '-.--': 'Y',\n",
       "  '--..': 'Z'})"
      ]
     },
     "execution_count": 93,
     "metadata": {},
     "output_type": "execute_result"
    }
   ],
   "source": [
    "making_dictionaries()"
   ]
  },
  {
   "attachments": {
    "e_to_m_output.png": {
     "image/png": "[encoded data removed]"
    }
   },
   "cell_type": "markdown",
   "metadata": {
    "deletable": false,
    "editable": false,
    "nbgrader": {
     "cell_type": "markdown",
     "checksum": "26949cc4bae3d9919ccb57e6214ac56a",
     "grade": false,
     "grade_id": "cell-fedb87916f1b2ddb",
     "locked": true,
     "schema_version": 3,
     "solution": false,
     "task": false
    }
   },
   "source": [
    "#### Problem 1\n",
    "Write a function which takes as input a string and prints out the corresponding code.  \n",
    "- After each Morse code letter, print a single blank space.\n",
    "- After each word, print a newline.\n",
    "- Ignore numbers or symbols that are not in the dictionary.\n",
    "\n",
    "My function looks like the following:\n",
    "![e_to_m_output.png](attachment:e_to_m_output.png)"
   ]
  },
  {
   "cell_type": "code",
   "execution_count": 72,
   "metadata": {
    "deletable": false,
    "nbgrader": {
     "cell_type": "code",
     "checksum": "22dd123c02531e04bae00730c2c0eead",
     "grade": true,
     "grade_id": "cell-657941d12c415bb8",
     "locked": false,
     "points": 1,
     "schema_version": 3,
     "solution": true,
     "task": false
    }
   },
   "outputs": [],
   "source": [
    "def convert_to_m(english):\n",
    "    e_to_m, m_to_e = making_dictionaries()\n",
    "    english = [c for c in english.upper()]\n",
    "    morse = \"\"\n",
    "    for i in english:\n",
    "        if i in e_to_m.keys():\n",
    "            morse += e_to_m[i] + \" \"\n",
    "        elif i == \" \":\n",
    "            morse += \"\\n\"\n",
    "        else:\n",
    "            continue\n",
    "    print(morse)\n",
    "    return morse"
   ]
  },
  {
   "cell_type": "code",
   "execution_count": 73,
   "metadata": {},
   "outputs": [
    {
     "name": "stdout",
     "output_type": "stream",
     "text": [
      ".... . .-.. .-.. --- \n",
      ".--. .-. --- ..-. . ... ... --- .-. \n",
      "... - --- -... -... \n"
     ]
    },
    {
     "data": {
      "text/plain": [
       "'.... . .-.. .-.. --- \\n.--. .-. --- ..-. . ... ... --- .-. \\n... - --- -... -... '"
      ]
     },
     "execution_count": 73,
     "metadata": {},
     "output_type": "execute_result"
    }
   ],
   "source": [
    "convert_to_m(\"hello professor stobb\")"
   ]
  },
  {
   "cell_type": "code",
   "execution_count": null,
   "metadata": {},
   "outputs": [],
   "source": []
  },
  {
   "attachments": {
    "m_to_e.png": {
     "image/png": "[encoded data removed]"
    }
   },
   "cell_type": "markdown",
   "metadata": {
    "deletable": false,
    "editable": false,
    "nbgrader": {
     "cell_type": "markdown",
     "checksum": "d25ed65c0b4d5b6ef03dd98e020f5864",
     "grade": false,
     "grade_id": "cell-76700ea405f57bcc",
     "locked": true,
     "schema_version": 3,
     "solution": false,
     "task": false
    }
   },
   "source": [
    "#### Problem 2\n",
    "Write a function which takes as input a string **or Morse code** and prints out the corresponding English letters.  You should still assume that\n",
    "- After each Morse code letter, there is single blank space.\n",
    "- After each word, there is a newline.\n",
    "- There should be no other numbers or punctuation.\n",
    "\n",
    "If done correctly, this function should almost perfectly undo the previous function written in (1).\n",
    "\n",
    "My function looks like the following:\n",
    "![m_to_e.png](attachment:m_to_e.png)"
   ]
  },
  {
   "cell_type": "code",
   "execution_count": 98,
   "metadata": {
    "deletable": false,
    "nbgrader": {
     "cell_type": "code",
     "checksum": "abaff06de3a8d3ed75860bae605f5ece",
     "grade": true,
     "grade_id": "cell-1104ab3faa9467b2",
     "locked": false,
     "points": 1,
     "schema_version": 3,
     "solution": true,
     "task": false
    }
   },
   "outputs": [],
   "source": [
    "def convert_to_e(morse):\n",
    "    e_to_m, m_to_e = making_dictionaries()\n",
    "    morse = morse.replace(\"\\n\", \"\\n \").split(\" \")\n",
    "    english = \"\"\n",
    "    for i in morse:\n",
    "        if i == \"\":\n",
    "            continue\n",
    "        elif i in m_to_e.keys():\n",
    "            english += m_to_e[i]\n",
    "        elif i == \"\\n\":\n",
    "            english += \" \"\n",
    "        else:\n",
    "            english += \"?\"\n",
    "    print(english)\n",
    "    return english"
   ]
  },
  {
   "cell_type": "code",
   "execution_count": 99,
   "metadata": {
    "scrolled": true
   },
   "outputs": [
    {
     "name": "stdout",
     "output_type": "stream",
     "text": [
      "SOS\n"
     ]
    },
    {
     "data": {
      "text/plain": [
       "'SOS'"
      ]
     },
     "execution_count": 99,
     "metadata": {},
     "output_type": "execute_result"
    }
   ],
   "source": [
    "convert_to_e(\"... --- ...\")"
   ]
  },
  {
   "cell_type": "code",
   "execution_count": null,
   "metadata": {},
   "outputs": [],
   "source": []
  },
  {
   "cell_type": "markdown",
   "metadata": {
    "deletable": false,
    "editable": false,
    "nbgrader": {
     "cell_type": "markdown",
     "checksum": "293da6a836097cda80d697513f159b87",
     "grade": false,
     "grade_id": "cell-6d26fd7bfc4e13a4",
     "locked": true,
     "schema_version": 3,
     "solution": false,
     "task": false
    }
   },
   "source": [
    "#### Problem 3\n",
    "Using your function from Problem 2, translate the file in \"/srv/data/lab8/hidden_message.txt\"."
   ]
  },
  {
   "cell_type": "code",
   "execution_count": 100,
   "metadata": {
    "deletable": false,
    "nbgrader": {
     "cell_type": "code",
     "checksum": "407bda2ab9b49107a51581bc64ea9e6b",
     "grade": true,
     "grade_id": "cell-f0c748a0730cdc63",
     "locked": false,
     "points": 1,
     "schema_version": 3,
     "solution": true,
     "task": false
    }
   },
   "outputs": [
    {
     "name": "stdout",
     "output_type": "stream",
     "text": [
      "PROBABLY MY FAVORITE POET IS JOHN KEATS  HIS TRAGIC LIFE COUPLED WITH HIS POETIC GENIUS LEAVE ME AWED  IF YOU HAVE NEVER READ HIS WORK YOU SHOULD  ALSO IF YOU HAVE NOT YET STARTED YOUR HOMEWORK  NOW WOULD BE A GOOD TIME\n"
     ]
    },
    {
     "data": {
      "text/plain": [
       "'PROBABLY MY FAVORITE POET IS JOHN KEATS  HIS TRAGIC LIFE COUPLED WITH HIS POETIC GENIUS LEAVE ME AWED  IF YOU HAVE NEVER READ HIS WORK YOU SHOULD  ALSO IF YOU HAVE NOT YET STARTED YOUR HOMEWORK  NOW WOULD BE A GOOD TIME'"
      ]
     },
     "execution_count": 100,
     "metadata": {},
     "output_type": "execute_result"
    }
   ],
   "source": [
    "open_file = open(\"/srv/data/lab8/hidden_message.txt\")\n",
    "hidden_message = open_file.read()\n",
    "convert_to_e(hidden_message)"
   ]
  },
  {
   "cell_type": "code",
   "execution_count": null,
   "metadata": {},
   "outputs": [],
   "source": []
  },
  {
   "cell_type": "code",
   "execution_count": null,
   "metadata": {},
   "outputs": [],
   "source": []
  }
 ],
 "metadata": {
  "kernelspec": {
   "display_name": "Python 3",
   "language": "python",
   "name": "python3"
  },
  "language_info": {
   "codemirror_mode": {
    "name": "ipython",
    "version": 3
   },
   "file_extension": ".py",
   "mimetype": "text/x-python",
   "name": "python",
   "nbconvert_exporter": "python",
   "pygments_lexer": "ipython3",
   "version": "3.7.7"
  }
 },
 "nbformat": 4,
 "nbformat_minor": 2
}

{
 "cells": [
  {
   "cell_type": "markdown",
   "metadata": {},
   "source": [
    "### CS 125 Assignment\n",
    "\n",
    "Before you turn this assignment in, make sure everything runs as expected. First, **restart the kernel** (in the menubar, select Kernel$\\rightarrow$Restart) and then **run all cells** (in the menubar, select Cell$\\rightarrow$Run All).\n",
    "\n",
    "Make sure you fill in any place that says `YOUR CODE HERE` or \"YOUR ANSWER HERE\", as well as your name and collaborators below:"
   ]
  },
  {
   "cell_type": "code",
   "execution_count": 1,
   "metadata": {},
   "outputs": [],
   "source": [
    "NAME = \"Leo Wheeler\"\n",
    "COLLABORATORS = \"\""
   ]
  },
  {
   "cell_type": "markdown",
   "metadata": {},
   "source": [
    "---\n",
    "---"
   ]
  },
  {
   "cell_type": "code",
   "execution_count": null,
   "metadata": {},
   "outputs": [],
   "source": []
  },
  {
   "cell_type": "markdown",
   "metadata": {
    "deletable": false,
    "editable": false,
    "nbgrader": {
     "cell_type": "markdown",
     "checksum": "4535bb3e0de2b5f0e203dde3c30a872d",
     "grade": false,
     "grade_id": "cell-c11901725ad10485",
     "locked": true,
     "schema_version": 3,
     "solution": false,
     "task": false
    }
   },
   "source": [
    "# Lab 1\n",
    "\n",
    "Objectives:\n",
    "\n",
    "- Continue working with Python\n",
    "- Create programs that use variables\n",
    "- Better understand data types\n",
    "- Develop the Input-Processing-Output (IPO) framework"
   ]
  },
  {
   "cell_type": "markdown",
   "metadata": {
    "deletable": false,
    "editable": false,
    "nbgrader": {
     "cell_type": "markdown",
     "checksum": "205936f5052a0626be52e2d558a80873",
     "grade": false,
     "grade_id": "cell-e78a10c787b5c18e",
     "locked": true,
     "schema_version": 3,
     "solution": false,
     "task": false
    }
   },
   "source": [
    "---\n",
    "## Created by:\n",
    "- Michael Stobb\n",
    "- With collaborators: \n",
    "    - None\n",
    "- Lab1\n",
    "\n",
    "Remember that you are **encouraged** to collaborate on lab activities with your peers virtually – just be sure to: \n",
    "1. Document your collaborators and sources.\n",
    "2. Don’t electronically share the code.\n",
    "3. Understand what you submit. \n",
    "\n",
    "\n",
    "---"
   ]
  },
  {
   "cell_type": "markdown",
   "metadata": {
    "deletable": false,
    "editable": false,
    "nbgrader": {
     "cell_type": "markdown",
     "checksum": "c5291e4ff702878993cc720f37713ae5",
     "grade": false,
     "grade_id": "cell-4e1bd25b0c369075",
     "locked": true,
     "schema_version": 3,
     "solution": false,
     "task": false
    }
   },
   "source": [
    "## (0) Small Experiments\n",
    "As we saw in the last lab (and in class), experimentation is a very powerful way to quickly test out Python expressions to gain insight about how they function. Try out some of these expressions to make sure that you understand their behavior. If something unexpected happens, try to modify the expression to make sense of it before moving on. \n",
    "\n",
    "There is nothing to turn in for this section, but you want to be sure that have a clear understanding of each of these.\n",
    "\n",
    "1. \n",
    "```python\n",
    "print(2+4)\n",
    "```\n",
    "\n",
    "2. ```python\n",
    "print(“2+4”)\n",
    "```\n",
    "\n",
    "3. ```python\n",
    "print(“2” + “4”)\n",
    "```\n",
    "\n",
    "4. ```python\n",
    "print (“2+4 = ”, 2+4 )\n",
    "```\n",
    "\n",
    "5. ```python\n",
    "print (“2+4 = “ + 2 + 4)\n",
    "```"
   ]
  },
  {
   "cell_type": "code",
   "execution_count": 1,
   "metadata": {},
   "outputs": [
    {
     "name": "stdout",
     "output_type": "stream",
     "text": [
      "6\n"
     ]
    }
   ],
   "source": [
    "print(2+4)"
   ]
  },
  {
   "cell_type": "code",
   "execution_count": 2,
   "metadata": {},
   "outputs": [
    {
     "ename": "SyntaxError",
     "evalue": "invalid character in identifier (<ipython-input-2-b8d7be56d5dd>, line 1)",
     "output_type": "error",
     "traceback": [
      "\u001b[0;36m  File \u001b[0;32m\"<ipython-input-2-b8d7be56d5dd>\"\u001b[0;36m, line \u001b[0;32m1\u001b[0m\n\u001b[0;31m    print(“2+4”)\u001b[0m\n\u001b[0m           ^\u001b[0m\n\u001b[0;31mSyntaxError\u001b[0m\u001b[0;31m:\u001b[0m invalid character in identifier\n"
     ]
    }
   ],
   "source": [
    "print(“2+4”)"
   ]
  },
  {
   "cell_type": "code",
   "execution_count": 5,
   "metadata": {},
   "outputs": [
    {
     "ename": "SyntaxError",
     "evalue": "invalid character in identifier (<ipython-input-5-2f83ef24d63d>, line 1)",
     "output_type": "error",
     "traceback": [
      "\u001b[0;36m  File \u001b[0;32m\"<ipython-input-5-2f83ef24d63d>\"\u001b[0;36m, line \u001b[0;32m1\u001b[0m\n\u001b[0;31m    print(“2\", +, \"4”)\u001b[0m\n\u001b[0m           ^\u001b[0m\n\u001b[0;31mSyntaxError\u001b[0m\u001b[0;31m:\u001b[0m invalid character in identifier\n"
     ]
    }
   ],
   "source": [
    "print(“2\", +, \"4”)"
   ]
  },
  {
   "cell_type": "markdown",
   "metadata": {
    "deletable": false,
    "editable": false,
    "nbgrader": {
     "cell_type": "markdown",
     "checksum": "ededa4b2b72dad7cdf42e200ea9f9405",
     "grade": false,
     "grade_id": "cell-bb0632fdda0f57f0",
     "locked": true,
     "schema_version": 3,
     "solution": false,
     "task": false
    }
   },
   "source": [
    "`str()` is a function.  Can you determine what it does?\n",
    "\n",
    "Try the following:\n",
    "- ```python\n",
    "str(2)```\n",
    "- ```python\n",
    "print(\"2+4 = \" + str(2+4))```"
   ]
  },
  {
   "cell_type": "code",
   "execution_count": 6,
   "metadata": {},
   "outputs": [
    {
     "data": {
      "text/plain": [
       "'2'"
      ]
     },
     "execution_count": 6,
     "metadata": {},
     "output_type": "execute_result"
    }
   ],
   "source": [
    "str(2)"
   ]
  },
  {
   "cell_type": "code",
   "execution_count": 7,
   "metadata": {},
   "outputs": [
    {
     "name": "stdout",
     "output_type": "stream",
     "text": [
      "2+4=6\n"
     ]
    }
   ],
   "source": [
    "print(\"2+4=\" + str(2+4))"
   ]
  },
  {
   "cell_type": "markdown",
   "metadata": {
    "deletable": false,
    "editable": false,
    "nbgrader": {
     "cell_type": "markdown",
     "checksum": "484547115877e7d569b9b887d5efc9cb",
     "grade": false,
     "grade_id": "cell-8793d374fb13d2b4",
     "locked": true,
     "schema_version": 3,
     "solution": false,
     "task": false
    }
   },
   "source": [
    "Try these out:\n",
    "- ```python\n",
    "num1 = 5```\n",
    "- ```python\n",
    "5 = num1```\n",
    "- ```python\n",
    "name = Charlie```\n",
    "- ```python\n",
    "name = “Charlie”```\n",
    "\n",
    "What works and what does not?"
   ]
  },
  {
   "cell_type": "code",
   "execution_count": 1,
   "metadata": {},
   "outputs": [],
   "source": [
    "num1 = 5"
   ]
  },
  {
   "cell_type": "code",
   "execution_count": 2,
   "metadata": {},
   "outputs": [
    {
     "ename": "SyntaxError",
     "evalue": "can't assign to literal (<ipython-input-2-b648d4eaecb7>, line 1)",
     "output_type": "error",
     "traceback": [
      "\u001b[0;36m  File \u001b[0;32m\"<ipython-input-2-b648d4eaecb7>\"\u001b[0;36m, line \u001b[0;32m1\u001b[0m\n\u001b[0;31m    5 = num1\u001b[0m\n\u001b[0m            ^\u001b[0m\n\u001b[0;31mSyntaxError\u001b[0m\u001b[0;31m:\u001b[0m can't assign to literal\n"
     ]
    }
   ],
   "source": [
    "5 = num1"
   ]
  },
  {
   "cell_type": "code",
   "execution_count": 3,
   "metadata": {},
   "outputs": [
    {
     "ename": "NameError",
     "evalue": "name 'Charlie' is not defined",
     "output_type": "error",
     "traceback": [
      "\u001b[0;31m---------------------------------------------------------------------------\u001b[0m",
      "\u001b[0;31mNameError\u001b[0m                                 Traceback (most recent call last)",
      "\u001b[0;32m<ipython-input-3-477a628e0b92>\u001b[0m in \u001b[0;36m<module>\u001b[0;34m\u001b[0m\n\u001b[0;32m----> 1\u001b[0;31m \u001b[0mname\u001b[0m \u001b[0;34m=\u001b[0m \u001b[0mCharlie\u001b[0m\u001b[0;34m\u001b[0m\u001b[0;34m\u001b[0m\u001b[0m\n\u001b[0m",
      "\u001b[0;31mNameError\u001b[0m: name 'Charlie' is not defined"
     ]
    }
   ],
   "source": [
    "name = Charlie"
   ]
  },
  {
   "cell_type": "code",
   "execution_count": 4,
   "metadata": {},
   "outputs": [],
   "source": [
    "name = \"Charlie\""
   ]
  },
  {
   "cell_type": "markdown",
   "metadata": {
    "deletable": false,
    "editable": false,
    "nbgrader": {
     "cell_type": "markdown",
     "checksum": "e8b2cece106d346e897ac3eff1949c3b",
     "grade": false,
     "grade_id": "cell-2e46921b7e99b773",
     "locked": true,
     "schema_version": 3,
     "solution": false,
     "task": false
    }
   },
   "source": [
    "Try the following:\n",
    "- ```python\n",
    "name = input(\"Enter your name: \")```\n",
    "\n",
    "What does it do?  Can you use it in other ways?"
   ]
  },
  {
   "cell_type": "code",
   "execution_count": 5,
   "metadata": {},
   "outputs": [
    {
     "name": "stdout",
     "output_type": "stream",
     "text": [
      "Enter your name:Leo Wheeler\n"
     ]
    }
   ],
   "source": [
    "name = input(\"Enter your name:\")"
   ]
  },
  {
   "cell_type": "code",
   "execution_count": 8,
   "metadata": {},
   "outputs": [
    {
     "data": {
      "text/plain": [
       "'Leo Wheeler'"
      ]
     },
     "execution_count": 8,
     "metadata": {},
     "output_type": "execute_result"
    }
   ],
   "source": [
    "name"
   ]
  },
  {
   "cell_type": "markdown",
   "metadata": {
    "deletable": false,
    "editable": false,
    "nbgrader": {
     "cell_type": "markdown",
     "checksum": "bfe59d3f6f4b29a585127caad7861e4a",
     "grade": false,
     "grade_id": "cell-dce4563adb3b5fe9",
     "locked": true,
     "schema_version": 3,
     "solution": false,
     "task": false
    }
   },
   "source": [
    "Try the following.  Describe what they do in words (use markdown cells).\n",
    "\n",
    "- ```python\n",
    "num = input(“How many :”)```\n",
    "- ```python\n",
    "num```\n",
    "- ```python\n",
    "num + 5```\n",
    "- ```python\n",
    "int(num) + 5```\n",
    "- ```python\n",
    "float(num) + 5```\n",
    "- ```python\n",
    "print```\n",
    "- ```python\n",
    "print = 5```\n",
    "- ```python\n",
    "print```\n",
    "- ```python\n",
    "print(\"Hello World\")```"
   ]
  },
  {
   "cell_type": "code",
   "execution_count": 6,
   "metadata": {},
   "outputs": [
    {
     "name": "stdout",
     "output_type": "stream",
     "text": [
      "How many :5\n"
     ]
    }
   ],
   "source": [
    "num = input(\"How many :\")"
   ]
  },
  {
   "cell_type": "code",
   "execution_count": 7,
   "metadata": {},
   "outputs": [
    {
     "data": {
      "text/plain": [
       "'5'"
      ]
     },
     "execution_count": 7,
     "metadata": {},
     "output_type": "execute_result"
    }
   ],
   "source": [
    "num"
   ]
  },
  {
   "cell_type": "code",
   "execution_count": 10,
   "metadata": {},
   "outputs": [
    {
     "data": {
      "text/plain": [
       "10"
      ]
     },
     "execution_count": 10,
     "metadata": {},
     "output_type": "execute_result"
    }
   ],
   "source": [
    "int(num)+5"
   ]
  },
  {
   "cell_type": "code",
   "execution_count": 11,
   "metadata": {},
   "outputs": [
    {
     "data": {
      "text/plain": [
       "10.0"
      ]
     },
     "execution_count": 11,
     "metadata": {},
     "output_type": "execute_result"
    }
   ],
   "source": [
    "float(num)+5"
   ]
  },
  {
   "cell_type": "code",
   "execution_count": 12,
   "metadata": {},
   "outputs": [
    {
     "data": {
      "text/plain": [
       "<function print>"
      ]
     },
     "execution_count": 12,
     "metadata": {},
     "output_type": "execute_result"
    }
   ],
   "source": [
    "print"
   ]
  },
  {
   "cell_type": "code",
   "execution_count": 13,
   "metadata": {},
   "outputs": [],
   "source": [
    "print = 5"
   ]
  },
  {
   "cell_type": "code",
   "execution_count": 14,
   "metadata": {},
   "outputs": [
    {
     "data": {
      "text/plain": [
       "5"
      ]
     },
     "execution_count": 14,
     "metadata": {},
     "output_type": "execute_result"
    }
   ],
   "source": [
    "print"
   ]
  },
  {
   "cell_type": "code",
   "execution_count": 15,
   "metadata": {},
   "outputs": [
    {
     "ename": "TypeError",
     "evalue": "'int' object is not callable",
     "output_type": "error",
     "traceback": [
      "\u001b[0;31m---------------------------------------------------------------------------\u001b[0m",
      "\u001b[0;31mTypeError\u001b[0m                                 Traceback (most recent call last)",
      "\u001b[0;32m<ipython-input-15-fb1c7aebe012>\u001b[0m in \u001b[0;36m<module>\u001b[0;34m\u001b[0m\n\u001b[0;32m----> 1\u001b[0;31m \u001b[0mprint\u001b[0m\u001b[0;34m(\u001b[0m\u001b[0;34m\"Hello World\"\u001b[0m\u001b[0;34m)\u001b[0m\u001b[0;34m\u001b[0m\u001b[0;34m\u001b[0m\u001b[0m\n\u001b[0m",
      "\u001b[0;31mTypeError\u001b[0m: 'int' object is not callable"
     ]
    }
   ],
   "source": [
    "print(\"Hello World\")"
   ]
  },
  {
   "cell_type": "markdown",
   "metadata": {
    "deletable": false,
    "editable": false,
    "nbgrader": {
     "cell_type": "markdown",
     "checksum": "97a1cadd0fd72a24b150d2c848747c06",
     "grade": false,
     "grade_id": "cell-9a336d6fa3004931",
     "locked": true,
     "schema_version": 3,
     "solution": false,
     "task": false
    }
   },
   "source": [
    "The last one is broken.  Why does `print` break?"
   ]
  },
  {
   "cell_type": "markdown",
   "metadata": {},
   "source": [
    "Print is assigned to 5 as a variable"
   ]
  },
  {
   "cell_type": "code",
   "execution_count": null,
   "metadata": {},
   "outputs": [],
   "source": []
  },
  {
   "cell_type": "markdown",
   "metadata": {
    "deletable": false,
    "editable": false,
    "nbgrader": {
     "cell_type": "markdown",
     "checksum": "a7c05e5310acb0d08b9492374f52da1d",
     "grade": false,
     "grade_id": "cell-85a8acbea9b8630e",
     "locked": true,
     "schema_version": 3,
     "solution": false,
     "task": false
    }
   },
   "source": [
    "To fix `print` and unassign it from a number, type the following: \n",
    "```python\n",
    "del print```\n",
    "This will delete the individual variable.  To clear all variables, reset the Kernel above (Kernel > Restart)."
   ]
  },
  {
   "cell_type": "code",
   "execution_count": 16,
   "metadata": {},
   "outputs": [],
   "source": [
    "del print"
   ]
  },
  {
   "cell_type": "markdown",
   "metadata": {
    "deletable": false,
    "editable": false,
    "nbgrader": {
     "cell_type": "markdown",
     "checksum": "9d63e08a577565d61d9befd838b4b4c6",
     "grade": false,
     "grade_id": "cell-a2a9499557622d3a",
     "locked": true,
     "schema_version": 3,
     "solution": false,
     "task": false
    }
   },
   "source": [
    "---\n",
    "## (1) Example Program\n",
    "The cells below generalizes the program from last week’s lab to include user input. Study the code to make sure you understand what is happening."
   ]
  },
  {
   "cell_type": "code",
   "execution_count": null,
   "metadata": {
    "deletable": false,
    "editable": false,
    "nbgrader": {
     "cell_type": "code",
     "checksum": "6ac4a77d368a8e95db15b7244e4b4aed",
     "grade": false,
     "grade_id": "cell-840290a01f6dea7d",
     "locked": true,
     "schema_version": 3,
     "solution": false,
     "task": false
    }
   },
   "outputs": [],
   "source": [
    "def inch2cm(inch):\n",
    "    cm = inch * 2.54\n",
    "    return cm\n",
    "\n",
    "def main():\n",
    "    numInch = int(input(\"How many inches:  \"))\n",
    "    numCm = inch2cm(numInch) \n",
    "    print(numInch, \"inches is\", numCm, \"cm\")"
   ]
  },
  {
   "cell_type": "markdown",
   "metadata": {
    "deletable": false,
    "editable": false,
    "nbgrader": {
     "cell_type": "markdown",
     "checksum": "e6440d21dde4c2d5d28e3e4fd43a9aca",
     "grade": false,
     "grade_id": "cell-cdc3ed40fca1d187",
     "locked": true,
     "schema_version": 3,
     "solution": false,
     "task": false
    }
   },
   "source": [
    "Try running this code below (both functions) a few times to convince yourself that it works the way you think it does and that it is correct.\n",
    "\n",
    "Hint: Something _is_ wrong.\n",
    "\n",
    "What is it and how can you fix it?\n",
    "Make sure you share your findings with your TA or Instructor."
   ]
  },
  {
   "cell_type": "code",
   "execution_count": 2,
   "metadata": {},
   "outputs": [],
   "source": [
    "def main():\n",
    "    numInch = int(input(\"How many inches:  \"))\n",
    "    numCm = inch2cm(numInch) \n",
    "    print(numInch, \"inches is\", numCm, \"cm\")\n",
    "    return numInch"
   ]
  },
  {
   "cell_type": "code",
   "execution_count": 4,
   "metadata": {},
   "outputs": [],
   "source": [
    "def inch2cm(inch):\n",
    "    cm = inch * 2.54\n",
    "    return cm"
   ]
  },
  {
   "cell_type": "code",
   "execution_count": 5,
   "metadata": {},
   "outputs": [
    {
     "name": "stdout",
     "output_type": "stream",
     "text": [
      "How many inches:  4\n",
      "4 inches is 10.16 cm\n"
     ]
    },
    {
     "data": {
      "text/plain": [
       "4"
      ]
     },
     "execution_count": 5,
     "metadata": {},
     "output_type": "execute_result"
    }
   ],
   "source": [
    "main()"
   ]
  },
  {
   "cell_type": "code",
   "execution_count": null,
   "metadata": {},
   "outputs": [],
   "source": []
  },
  {
   "cell_type": "markdown",
   "metadata": {},
   "source": [
    "### The function was not returning the `input()` function and not allowing the input box to pop up and run the conversion"
   ]
  },
  {
   "cell_type": "markdown",
   "metadata": {
    "deletable": false,
    "editable": false,
    "nbgrader": {
     "cell_type": "markdown",
     "checksum": "fe5d2174eb474d81c92e1856b8557aac",
     "grade": false,
     "grade_id": "cell-621bb5087075f033",
     "locked": true,
     "schema_version": 3,
     "solution": false,
     "task": false
    }
   },
   "source": [
    "---\n",
    "# Lab Assignment\n",
    "\n",
    "Each of the following problem statements can be solved using a program that implements the IPO framework. For each of the following create a new Python function (or multiple) to answer the question.  Make new cells as neccessary to test things."
   ]
  },
  {
   "cell_type": "markdown",
   "metadata": {
    "deletable": false,
    "editable": false,
    "nbgrader": {
     "cell_type": "markdown",
     "checksum": "7d4f31fd42fa617c4de1bf704856617e",
     "grade": false,
     "grade_id": "cell-ca6052723f9bce4b",
     "locked": true,
     "schema_version": 3,
     "solution": false,
     "task": false
    }
   },
   "source": [
    "### Problem 0\n",
    "\n",
    "After a holiday that included too many indulgences, Michael has decided that it is time to start counting Calories in hopes of shedding a few pounds. But how does one know how many Calories are in the food we eat?! One method is to take the food, dehydrate it and then burn it. We can measure how much heat energy it gives off as a way to understand the **Calorie Content**. A simpler, and safer, way to estimate Calories involves an analysis of how many grams of carbohydrates, fat, protein and fiber are contained the food. Each gram of carbohydrates and protein will yield 4 Calories, while each gram of fat contributes 9 Calories. Fiber is your friend – each gram of fiber reduces the Calorie count by 4. Create a series of functions that helps with this problem. Write an IPO before starting.\n",
    "\n",
    "Your program should:\n",
    "- Include a main function that prompts the user to enter values for the name of a food, and the quantity of carbs, protein, fat and fiber (in grams).\n",
    "- Create a general function that can compute the total number of Calories based on fat, carbohydrates, protein and fiber.\n",
    "- Display a message that includes the name of the food and the results of your calculation."
   ]
  },
  {
   "cell_type": "markdown",
   "metadata": {
    "deletable": false,
    "editable": false,
    "nbgrader": {
     "cell_type": "markdown",
     "checksum": "3f28249c31d289980938b224199043b6",
     "grade": false,
     "grade_id": "cell-1040aa15d7fda9b1",
     "locked": true,
     "points": 1,
     "schema_version": 3,
     "solution": false,
     "task": true
    }
   },
   "source": [
    "#### Write an IPO for Problem 0 below"
   ]
  },
  {
   "cell_type": "markdown",
   "metadata": {},
   "source": [
    "**Inputs:**\n",
    "- `fat_grams`  : number of grams of fat\n",
    "- `carb_grams` : number of grams of carbs\n",
    "- `pro_grams`  : number of grams of protein\n",
    "- `fib_grams`  : number of grams of fiber\n",
    "\n",
    "**Processing:**\n",
    " - Convert each gram type to calories\n",
    "        - 1 `fat_grams` = 9 calories\n",
    "        - 1 `carb_grams` = 4 calories\n",
    "        - 1 `pro_grams` = 4 calories\n",
    "        - 1 `fib_grams` = -4 calories\n",
    " - Total the calories by adding them up\n",
    "        - assigned to the variable `total_cals`\n",
    " - Return `total_cals`\n",
    "\n",
    "**Outputs:**\n",
    "\n",
    "- `total_cals` : total number of calories"
   ]
  },
  {
   "cell_type": "markdown",
   "metadata": {
    "deletable": false,
    "editable": false,
    "nbgrader": {
     "cell_type": "markdown",
     "checksum": "5f29d09cb1a6f17e3cd3be01eecc778a",
     "grade": false,
     "grade_id": "cell-a4155aca508e98c3",
     "locked": true,
     "schema_version": 3,
     "solution": false,
     "task": false
    }
   },
   "source": [
    "#### Write your program for Problem 0 below:"
   ]
  },
  {
   "cell_type": "code",
   "execution_count": 2,
   "metadata": {
    "deletable": false,
    "nbgrader": {
     "cell_type": "code",
     "checksum": "350a5f6fbebb5ffd5162713aee15241f",
     "grade": true,
     "grade_id": "cell-836e7e6b608e5abb",
     "locked": false,
     "points": 1,
     "schema_version": 3,
     "solution": true,
     "task": false
    }
   },
   "outputs": [],
   "source": [
    "def gram_to_cal():\n",
    "    food = input(\"Name of Food:\")\n",
    "    print(\"Number of grams of:\")\n",
    "    fat_grams = input(\"Fat:\")\n",
    "    carb_grams = input(\"Carbohydrates:\")\n",
    "    pro_grams = input(\"Protein:\")\n",
    "    fib_grams = input(\"Fiber:\")\n",
    "    total_cals = int(fat_grams)*9 + int(carb_grams)*4 + int(pro_grams)*4 + int(fib_grams)*-4\n",
    "    return print(\"The total number of calories for\", food,\" is:\", int(total_cals))\n",
    "    "
   ]
  },
  {
   "cell_type": "code",
   "execution_count": 3,
   "metadata": {},
   "outputs": [
    {
     "name": "stdout",
     "output_type": "stream",
     "text": [
      "Name of Food:Pizza\n",
      "Number of grams of:\n",
      "Fat:20\n",
      "Carbohydrates:50\n",
      "Protein:53\n",
      "Fiber:54\n",
      "The total number of calories for Pizza  is: 376\n"
     ]
    }
   ],
   "source": [
    "gram_to_cal()"
   ]
  },
  {
   "cell_type": "markdown",
   "metadata": {
    "deletable": false,
    "editable": false,
    "nbgrader": {
     "cell_type": "markdown",
     "checksum": "b86caa665df915679ed431fb70b8201f",
     "grade": false,
     "grade_id": "cell-cf6515d42bb99dcd",
     "locked": true,
     "schema_version": 3,
     "solution": false,
     "task": false
    }
   },
   "source": [
    "---\n",
    "### Problem 1\n",
    "You have your eye on the new hybrid car, which is advertised to get 51 mpg. Your current car only gets 28 mpg. Considering the national average price of gas, you could save a lot of money! Assume that you drive 12,000 miles per year; how much can you save in annual gas expenses? Create another series of functions that helps you answer this question.  Write an IPO for your problem BEFORE starting.\n",
    "- In your main function, prompt the user to enter values for their current mileage, the advertised mileage and the cost of gas. You can assume 12,000 miles per year (you don’t need to ask)\n",
    "- Create a general function that can determine the cost of gas per year based on the mileage, cost of gas and annual miles.\n",
    "- Display the annual cost of gas for the current car, the hybrid car and the savings."
   ]
  },
  {
   "cell_type": "markdown",
   "metadata": {},
   "source": [
    "### IPO\n",
    "\n",
    "- Inputs\n",
    "    - `mpg` = miles per gallon for current vehicle\n",
    "    - `gas_cost` = cost of gas per gallon\n",
    "    - `annual_miles` = miles driven annually (for this problem its 12000)\n",
    "- Process\n",
    "    - Determine the total number of GALLONS of gas used in a year\n",
    "        - annual_miles / mpg -> The totall gallons used\n",
    "        - $ \\frac{miles}{1} \\div \\frac{miles}{gallons} = \\frac{miles}{1} \\cdot \\frac{gallons}{miles} = gallons $\n",
    "    - Determine total cost\n",
    "        - total_gallons * gas_cost -> total_gas_cost\n",
    "            - save as a variable\n",
    "    - Return total_gas_cost\n",
    "- Outputs\n",
    "    - `total_gas_cost` = the total cost of gas used in a year"
   ]
  },
  {
   "cell_type": "code",
   "execution_count": 16,
   "metadata": {
    "deletable": false,
    "nbgrader": {
     "cell_type": "code",
     "checksum": "eef3d31e35896a473542a1003be01d9f",
     "grade": true,
     "grade_id": "cell-74ec756fffa0e275",
     "locked": false,
     "points": 1,
     "schema_version": 3,
     "solution": true,
     "task": false
    }
   },
   "outputs": [],
   "source": [
    "def gas_spendings():\n",
    "    car = input(\"Current Car or New Hybrid:\")\n",
    "    mpg = int(input(\"Miles per Gallon:\"))\n",
    "    gas_cost = float(input(\"Cost of gas per gallon:\"))\n",
    "    annual_miles = 12000\n",
    "    total_gallons = int(annual_miles/mpg)\n",
    "    total_gas_cost = int(total_gallons*gas_cost)\n",
    "    return print(\"The total cost of gas for\", car, \"per year is:\", total_gas_cost, \"Dollars.\")"
   ]
  },
  {
   "cell_type": "code",
   "execution_count": 14,
   "metadata": {},
   "outputs": [],
   "source": [
    "def gas_savings():\n",
    "    x = int(input(\"Total cost for gas for the current car:\"))\n",
    "    y = int(input(\"Total cost for gas for the new hybrid:\"))\n",
    "    z = x - y\n",
    "    return print(\"Savings per year on gas is:\", z, \"dollars.\")"
   ]
  },
  {
   "cell_type": "code",
   "execution_count": 17,
   "metadata": {},
   "outputs": [
    {
     "name": "stdout",
     "output_type": "stream",
     "text": [
      "Current Car or New Hybrid:Current Car\n",
      "Miles per Gallon:28\n",
      "Cost of gas per gallon:2.00\n",
      "The total cost of gas for Current Car per year is: 856 Dollars.\n"
     ]
    }
   ],
   "source": [
    "gas_spendings()"
   ]
  },
  {
   "cell_type": "code",
   "execution_count": 18,
   "metadata": {
    "scrolled": true
   },
   "outputs": [
    {
     "name": "stdout",
     "output_type": "stream",
     "text": [
      "Current Car or New Hybrid:New Hybrid\n",
      "Miles per Gallon:51\n",
      "Cost of gas per gallon:2.00\n",
      "The total cost of gas for New Hybrid per year is: 470 Dollars.\n"
     ]
    }
   ],
   "source": [
    "gas_spendings()"
   ]
  },
  {
   "cell_type": "code",
   "execution_count": 15,
   "metadata": {},
   "outputs": [
    {
     "name": "stdout",
     "output_type": "stream",
     "text": [
      "Total cost for gas for the current car:856\n",
      "Total cost for gas for the new hybrid:470\n",
      "Savings per year on gas is: 386 dollars.\n"
     ]
    }
   ],
   "source": [
    "gas_savings()"
   ]
  },
  {
   "attachments": {
    "makeChange_example.png": {
     "image/png": "[encoded data removed]"
    }
   },
   "cell_type": "markdown",
   "metadata": {
    "deletable": false,
    "editable": false,
    "nbgrader": {
     "cell_type": "markdown",
     "checksum": "0c76cc5efc3b383009fdb8d26bbecce8",
     "grade": false,
     "grade_id": "cell-80d911ce3df91d81",
     "locked": true,
     "schema_version": 3,
     "solution": false,
     "task": false
    }
   },
   "source": [
    "### Problem 2\n",
    "Suppose that you wanted to program an automatic change dispenser for coins. Assume that you are working with the current set of U.S. coins: dollar ($1), quarter (25₵), dime (10₵), nickel (5₵) and penny(1₵). Your function should take an amount of money and display the figure in terms of the fewest number of coins needed to make that money.\n",
    "\n",
    "For example, when your program runs, it might look like:\n",
    "![makeChange_example.png](attachment:makeChange_example.png)\n",
    "\n",
    "**Before you start coding:** Make sure you figure out how you are going to solve this problem.  Write an IPO that details your process.\n",
    "\n",
    "Maybe discuss it with a fellow class member.\n",
    "Hint – think about the `%` operator and how that might be helpful."
   ]
  },
  {
   "cell_type": "markdown",
   "metadata": {
    "deletable": false,
    "nbgrader": {
     "cell_type": "code",
     "checksum": "acfb0470f146ccb9972491c70882b2a2",
     "grade": true,
     "grade_id": "cell-7aa5a6ea226b09f3",
     "locked": false,
     "points": 1,
     "schema_version": 3,
     "solution": true,
     "task": false
    }
   },
   "source": [
    "- Inputs\n",
    "    - `money` = amount of money we need to make change for\n",
    "- Process\n",
    "    - For each denomination, determine the whol enumber possible\n",
    "        - use // and % to find whole number and remainder for each value\n",
    "        - Print the result\n",
    "- Outputs\n",
    "    - no returns needed\n",
    "    - there will be lots of `print` statements"
   ]
  },
  {
   "cell_type": "code",
   "execution_count": 76,
   "metadata": {},
   "outputs": [],
   "source": [
    "def make_change(x):\n",
    "    x = int(round(x*100))\n",
    "    do = int(x/100)\n",
    "    q = int((x % 100) // 25)\n",
    "    di = int((x % 25) // 10)\n",
    "    n = int(((x + q*5) % 10) // 5)\n",
    "    p = round((x % 5) // 1)\n",
    "    print(\"$\", x/100, \" is:\")\n",
    "    print(do, \" Dollars\")\n",
    "    print(q, \" Quarters\")\n",
    "    print(di, \" Dimes\")\n",
    "    print(n, \" Nickels\")\n",
    "    print(p, \" Pennies\")\n",
    "    return"
   ]
  },
  {
   "cell_type": "code",
   "execution_count": 34,
   "metadata": {},
   "outputs": [],
   "source": [
    "def make_change_new(x):\n",
    "    orig_x = float(x)\n",
    "    do = int(x)\n",
    "    x -= do\n",
    "    q = int(x * 4)\n",
    "    x -= q / 4\n",
    "    di = int(x * 10)\n",
    "    x -= di / 10\n",
    "    n = int(x * 20)\n",
    "    x -= n / 20\n",
    "    p = round(x * 100)\n",
    "    x -= p / 100\n",
    "    print(\"$\",orig_x, \" is:\")\n",
    "    print(do, \" Dollars\")\n",
    "    print(q, \" Quarters\")\n",
    "    print(di, \" Dimes\")\n",
    "    print(n, \" Nickels\")\n",
    "    print(p, \" Pennies\")\n",
    "    return"
   ]
  },
  {
   "cell_type": "code",
   "execution_count": 35,
   "metadata": {},
   "outputs": [
    {
     "name": "stdout",
     "output_type": "stream",
     "text": [
      "$ 5.63  is:\n",
      "5  Dollars\n",
      "2  Quarters\n",
      "1  Dimes\n",
      "0  Nickels\n",
      "3  Pennies\n"
     ]
    }
   ],
   "source": [
    "make_change_new(5.63)"
   ]
  },
  {
   "cell_type": "code",
   "execution_count": 71,
   "metadata": {},
   "outputs": [
    {
     "name": "stdout",
     "output_type": "stream",
     "text": [
      "$ 2.47  is:\n",
      "2  Dollars\n",
      "1  Quarters\n",
      "2  Dimes\n",
      "0  Nickels\n",
      "2  Pennies\n"
     ]
    }
   ],
   "source": [
    "make_change(2.47)"
   ]
  }
 ],
 "metadata": {
  "kernelspec": {
   "display_name": "Python 3",
   "language": "python",
   "name": "python3"
  },
  "language_info": {
   "codemirror_mode": {
    "name": "ipython",
    "version": 3
   },
   "file_extension": ".py",
   "mimetype": "text/x-python",
   "name": "python",
   "nbconvert_exporter": "python",
   "pygments_lexer": "ipython3",
   "version": "3.7.7"
  }
 },
 "nbformat": 4,
 "nbformat_minor": 2
}

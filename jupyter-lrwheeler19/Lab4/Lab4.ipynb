{
 "cells": [
  {
   "cell_type": "markdown",
   "metadata": {},
   "source": [
    "### CS 125 Assignment\n",
    "\n",
    "Before you turn this assignment in, make sure everything runs as expected. First, **restart the kernel** (in the menubar, select Kernel$\\rightarrow$Restart) and then **run all cells** (in the menubar, select Cell$\\rightarrow$Run All).\n",
    "\n",
    "Make sure you fill in any place that says `YOUR CODE HERE` or \"YOUR ANSWER HERE\", as well as your name and collaborators below:"
   ]
  },
  {
   "cell_type": "code",
   "execution_count": 1,
   "metadata": {},
   "outputs": [],
   "source": [
    "NAME = \"Leo Wheeler\"\n",
    "COLLABORATORS = \"\""
   ]
  },
  {
   "cell_type": "markdown",
   "metadata": {},
   "source": [
    "---\n",
    "---"
   ]
  },
  {
   "cell_type": "markdown",
   "metadata": {
    "deletable": false,
    "editable": false,
    "nbgrader": {
     "cell_type": "markdown",
     "checksum": "637c3c6eaa14b2f7bc2dcdbef65b721a",
     "grade": false,
     "grade_id": "cell-e10a63c94e41bd34",
     "locked": true,
     "schema_version": 3,
     "solution": false,
     "task": false
    }
   },
   "source": [
    "# Lab 4\n",
    "\n",
    "Objectives:\n",
    "\n",
    "- Develop code that executes repeatedly\n",
    "- Manipulate and generate strings using code\n",
    "- import and use the `random` module\n",
    "\n",
    "\n",
    "\n",
    "---\n",
    "\n",
    "\n",
    "## Created by:\n",
    "- Michael Stobb\n",
    "- With collaborators: \n",
    "    - None\n",
    "- Lab4\n",
    "\n",
    "Remember that you are **encouraged** to collaborate on lab activities – just be sure to: \n",
    "1. Document your collaborators and sources.\n",
    "2. Don’t electronically share the code.\n",
    "3. Understand what you submit. \n",
    "\n",
    "\n",
    "---"
   ]
  },
  {
   "cell_type": "markdown",
   "metadata": {
    "deletable": false,
    "editable": false,
    "nbgrader": {
     "cell_type": "markdown",
     "checksum": "e75a84de8ed3533e58f2935f85710a5b",
     "grade": false,
     "grade_id": "cell-d5db1aa2b39ed500",
     "locked": true,
     "schema_version": 3,
     "solution": false,
     "task": false
    }
   },
   "source": [
    "## Random Numbers\n",
    "\n",
    "Often times we will need to either generate random information or otherwise have access to a random number generator.  Since not every Python program needs random numbers, they are tucked away in a module.  We can load the `random` module just like we would the `math` module."
   ]
  },
  {
   "cell_type": "code",
   "execution_count": 1,
   "metadata": {
    "deletable": false,
    "editable": false,
    "nbgrader": {
     "cell_type": "code",
     "checksum": "4599013b44bb8a3232a952d2afdf29f7",
     "grade": false,
     "grade_id": "cell-baab70ff6e892068",
     "locked": true,
     "schema_version": 3,
     "solution": false,
     "task": false
    }
   },
   "outputs": [],
   "source": [
    "import random"
   ]
  },
  {
   "cell_type": "markdown",
   "metadata": {
    "deletable": false,
    "editable": false,
    "nbgrader": {
     "cell_type": "markdown",
     "checksum": "a23bb0b13925ec1a369caf818e422bcf",
     "grade": false,
     "grade_id": "cell-d36dee161bb871ce",
     "locked": true,
     "schema_version": 3,
     "solution": false,
     "task": false
    }
   },
   "source": [
    "This module has lots of useful functions for creating random numbers.  For our purposes today, we will just need to use the two functions `random()` and `randint()`.  To see the Python help message for each, we can run the following commands:"
   ]
  },
  {
   "cell_type": "code",
   "execution_count": 3,
   "metadata": {},
   "outputs": [
    {
     "name": "stdout",
     "output_type": "stream",
     "text": [
      "Help on built-in function random:\n",
      "\n",
      "random(...) method of random.Random instance\n",
      "    random() -> x in the interval [0, 1).\n",
      "\n"
     ]
    }
   ],
   "source": [
    "help(random.random)"
   ]
  },
  {
   "cell_type": "code",
   "execution_count": 4,
   "metadata": {},
   "outputs": [
    {
     "name": "stdout",
     "output_type": "stream",
     "text": [
      "Help on method randint in module random:\n",
      "\n",
      "randint(a, b) method of random.Random instance\n",
      "    Return random integer in range [a, b], including both end points.\n",
      "\n"
     ]
    }
   ],
   "source": [
    "help(random.randint)"
   ]
  },
  {
   "cell_type": "markdown",
   "metadata": {
    "deletable": false,
    "editable": false,
    "nbgrader": {
     "cell_type": "markdown",
     "checksum": "57c2a3906e355e031a6ae9f222f2a971",
     "grade": false,
     "grade_id": "cell-b2543440cbe61320",
     "locked": true,
     "schema_version": 3,
     "solution": false,
     "task": false
    }
   },
   "source": [
    "While not super helpful, they give you an idea what each function does.  However, it's probably better to do a little experimentation.  Run the following commands and then write a sentence for what each does, in your own words."
   ]
  },
  {
   "cell_type": "code",
   "execution_count": 5,
   "metadata": {},
   "outputs": [
    {
     "data": {
      "text/plain": [
       "0.9663741648286746"
      ]
     },
     "execution_count": 5,
     "metadata": {},
     "output_type": "execute_result"
    }
   ],
   "source": [
    "random.random()"
   ]
  },
  {
   "cell_type": "code",
   "execution_count": 6,
   "metadata": {},
   "outputs": [
    {
     "data": {
      "text/plain": [
       "0.06061207166736304"
      ]
     },
     "execution_count": 6,
     "metadata": {},
     "output_type": "execute_result"
    }
   ],
   "source": [
    "random.random()"
   ]
  },
  {
   "cell_type": "code",
   "execution_count": 7,
   "metadata": {},
   "outputs": [
    {
     "ename": "TypeError",
     "evalue": "random() takes no arguments (1 given)",
     "output_type": "error",
     "traceback": [
      "\u001b[0;31m---------------------------------------------------------------------------\u001b[0m",
      "\u001b[0;31mTypeError\u001b[0m                                 Traceback (most recent call last)",
      "\u001b[0;32m<ipython-input-7-d776d4aeb25f>\u001b[0m in \u001b[0;36m<module>\u001b[0;34m\u001b[0m\n\u001b[0;32m----> 1\u001b[0;31m \u001b[0mrandom\u001b[0m\u001b[0;34m.\u001b[0m\u001b[0mrandom\u001b[0m\u001b[0;34m(\u001b[0m\u001b[0;36m5\u001b[0m\u001b[0;34m)\u001b[0m\u001b[0;34m\u001b[0m\u001b[0;34m\u001b[0m\u001b[0m\n\u001b[0m",
      "\u001b[0;31mTypeError\u001b[0m: random() takes no arguments (1 given)"
     ]
    }
   ],
   "source": [
    "random.random(5)"
   ]
  },
  {
   "cell_type": "code",
   "execution_count": null,
   "metadata": {
    "scrolled": true
   },
   "outputs": [],
   "source": [
    "n = 10\n",
    "while n > 0:\n",
    "    print(random.random())\n",
    "    n = n - 1"
   ]
  },
  {
   "cell_type": "markdown",
   "metadata": {},
   "source": [
    "- Run the above command a few times.  What kind of values does `random.random()` produce?"
   ]
  },
  {
   "cell_type": "markdown",
   "metadata": {},
   "source": [
    "**random.random outputs a random number between 0 and 1**"
   ]
  },
  {
   "cell_type": "code",
   "execution_count": null,
   "metadata": {},
   "outputs": [],
   "source": [
    "random.randint(0,10)"
   ]
  },
  {
   "cell_type": "code",
   "execution_count": null,
   "metadata": {},
   "outputs": [],
   "source": [
    "random.randint(0,10)"
   ]
  },
  {
   "cell_type": "code",
   "execution_count": null,
   "metadata": {},
   "outputs": [],
   "source": [
    "random.randint(0,10)"
   ]
  },
  {
   "cell_type": "code",
   "execution_count": null,
   "metadata": {},
   "outputs": [],
   "source": [
    "n = 10\n",
    "while n > 0:\n",
    "    print(random.randint(0,10))\n",
    "    n = n - 1"
   ]
  },
  {
   "cell_type": "markdown",
   "metadata": {},
   "source": [
    "- Run the above command a few times.  What kind of values does `random.randint()` produce?"
   ]
  },
  {
   "cell_type": "markdown",
   "metadata": {},
   "source": [
    "**random.randint(start,stop) outputs a random number between and including the start and stop numbers**"
   ]
  },
  {
   "cell_type": "markdown",
   "metadata": {
    "deletable": false,
    "editable": false,
    "nbgrader": {
     "cell_type": "markdown",
     "checksum": "acdc994081f8c660088fdfc5798b284d",
     "grade": false,
     "grade_id": "cell-c7819c5da936ba75",
     "locked": true,
     "schema_version": 3,
     "solution": false,
     "task": false
    }
   },
   "source": [
    "## Escape Characters\n",
    "\n",
    "The `\\` is called an \"escape\" character.  It allows us to print characters that have other meanings. For example, the \" symbol is used by the print command to terminate a string.  But what if we want to actually print a \" ?"
   ]
  },
  {
   "cell_type": "code",
   "execution_count": null,
   "metadata": {},
   "outputs": [],
   "source": [
    "print(\"The man said, \"Hello there!\"\")"
   ]
  },
  {
   "cell_type": "code",
   "execution_count": null,
   "metadata": {},
   "outputs": [],
   "source": [
    "print(\"The man said, \\\"Hello there!\\\"\")"
   ]
  },
  {
   "cell_type": "markdown",
   "metadata": {
    "deletable": false,
    "editable": false,
    "nbgrader": {
     "cell_type": "markdown",
     "checksum": "dd8758749245e233f676d76949ab2fd0",
     "grade": false,
     "grade_id": "cell-c303082431dd01c0",
     "locked": true,
     "schema_version": 3,
     "solution": false,
     "task": false
    }
   },
   "source": [
    "Escape characters are also a way to get a tab `\\t` and a new line `\\n`.  Try these out to confirm what they do:"
   ]
  },
  {
   "cell_type": "code",
   "execution_count": null,
   "metadata": {},
   "outputs": [],
   "source": [
    "print(\"Word1 \\t Word2 \\t Word3\")"
   ]
  },
  {
   "cell_type": "code",
   "execution_count": null,
   "metadata": {},
   "outputs": [],
   "source": [
    "print(\"Line1 \\nLine2 \\nLine3\")"
   ]
  },
  {
   "cell_type": "markdown",
   "metadata": {
    "deletable": false,
    "editable": false,
    "nbgrader": {
     "cell_type": "markdown",
     "checksum": "9f997566e20606d1b137a9094231f0af",
     "grade": false,
     "grade_id": "cell-1e4659d1b659c2b7",
     "locked": true,
     "schema_version": 3,
     "solution": false,
     "task": false
    }
   },
   "source": [
    "## Print end\n",
    "\n",
    "The `print` function by default puts a newline at the end of a printed string, but it also can take an optional input that allows this behavior to change.  For instance, running `print('hello', end=' ')` changes the ending character to a space.  Try the following to get a better understanding of how it works:  "
   ]
  },
  {
   "cell_type": "code",
   "execution_count": null,
   "metadata": {},
   "outputs": [],
   "source": [
    "for i in range(0,5):\n",
    "    print(\"Here is i:\",i,end=\", \")"
   ]
  },
  {
   "cell_type": "code",
   "execution_count": null,
   "metadata": {},
   "outputs": [],
   "source": [
    "for i in range(0,5):\n",
    "    print(\"Here is i:\",i,end=\"\\t\")"
   ]
  },
  {
   "cell_type": "code",
   "execution_count": null,
   "metadata": {},
   "outputs": [],
   "source": [
    "for i in range(0,5):\n",
    "    print(\"Here is i:\",i,end=\"\\n\")"
   ]
  },
  {
   "cell_type": "code",
   "execution_count": null,
   "metadata": {},
   "outputs": [],
   "source": [
    "for i in range(0,5):\n",
    "    print(\"Here is i:\",i,end=\"\")"
   ]
  },
  {
   "cell_type": "code",
   "execution_count": null,
   "metadata": {},
   "outputs": [],
   "source": [
    "for i in range(0,5):\n",
    "    print(\"Here is i:\",i,end=\"END\")"
   ]
  },
  {
   "cell_type": "markdown",
   "metadata": {
    "deletable": false,
    "editable": false,
    "nbgrader": {
     "cell_type": "markdown",
     "checksum": "a658cb04c81c3e5c7d52437897a00ce1",
     "grade": false,
     "grade_id": "cell-b84be3a61e2d1e69",
     "locked": true,
     "schema_version": 3,
     "solution": false,
     "task": false
    }
   },
   "source": [
    "## String Methods\n",
    "\n",
    "Methods are functions that act on objects.  Methods are *invoked* on an object by using dot notation on the object itself.  We saw in class that string objects have several useful methods.  We can look at a list of the methods by running the following code:"
   ]
  },
  {
   "cell_type": "code",
   "execution_count": null,
   "metadata": {},
   "outputs": [],
   "source": [
    "dir(str)"
   ]
  },
  {
   "cell_type": "markdown",
   "metadata": {
    "deletable": false,
    "editable": false,
    "nbgrader": {
     "cell_type": "markdown",
     "checksum": "001d69114c635db28c677f65e1971f55",
     "grade": false,
     "grade_id": "cell-ef9b8eca2005d714",
     "locked": true,
     "schema_version": 3,
     "solution": false,
     "task": false
    }
   },
   "source": [
    "Methods starting with an underscore, '_', are private methods that we won't be using.  The methods at the bottom of the list are ones we want to focus on.  To get a better idea of a method, we can use the help command, as follows:"
   ]
  },
  {
   "cell_type": "code",
   "execution_count": null,
   "metadata": {},
   "outputs": [],
   "source": [
    "help(str.upper)"
   ]
  },
  {
   "cell_type": "markdown",
   "metadata": {},
   "source": [
    "An example of using this method is below:"
   ]
  },
  {
   "cell_type": "code",
   "execution_count": null,
   "metadata": {},
   "outputs": [],
   "source": [
    "my_string = 'This lab 4 is awesome!'\n",
    "my_string.upper()"
   ]
  },
  {
   "cell_type": "markdown",
   "metadata": {},
   "source": [
    "Try the following commands, but don't advance without understanding what each one does."
   ]
  },
  {
   "cell_type": "code",
   "execution_count": null,
   "metadata": {},
   "outputs": [],
   "source": [
    "help(str.find)"
   ]
  },
  {
   "cell_type": "code",
   "execution_count": null,
   "metadata": {},
   "outputs": [],
   "source": [
    "my_string.find('T')"
   ]
  },
  {
   "cell_type": "code",
   "execution_count": null,
   "metadata": {},
   "outputs": [],
   "source": [
    "my_string.find('!')"
   ]
  },
  {
   "cell_type": "code",
   "execution_count": null,
   "metadata": {},
   "outputs": [],
   "source": [
    "my_string.find('lab')"
   ]
  },
  {
   "cell_type": "markdown",
   "metadata": {},
   "source": [
    "---"
   ]
  },
  {
   "cell_type": "code",
   "execution_count": null,
   "metadata": {},
   "outputs": [],
   "source": [
    "help(str.upper)"
   ]
  },
  {
   "cell_type": "code",
   "execution_count": null,
   "metadata": {},
   "outputs": [],
   "source": [
    "my_string.upper()"
   ]
  },
  {
   "cell_type": "code",
   "execution_count": null,
   "metadata": {},
   "outputs": [],
   "source": [
    "my_string[5:].upper()"
   ]
  },
  {
   "cell_type": "markdown",
   "metadata": {},
   "source": [
    "---"
   ]
  },
  {
   "cell_type": "code",
   "execution_count": null,
   "metadata": {},
   "outputs": [],
   "source": [
    "help(str.zfill)"
   ]
  },
  {
   "cell_type": "code",
   "execution_count": null,
   "metadata": {},
   "outputs": [],
   "source": [
    "my_string.zfill(10)"
   ]
  },
  {
   "cell_type": "code",
   "execution_count": null,
   "metadata": {},
   "outputs": [],
   "source": [
    "'1234'.zfill(10)"
   ]
  },
  {
   "cell_type": "markdown",
   "metadata": {},
   "source": [
    "---"
   ]
  },
  {
   "cell_type": "code",
   "execution_count": null,
   "metadata": {},
   "outputs": [],
   "source": [
    "help(str.replace)"
   ]
  },
  {
   "cell_type": "code",
   "execution_count": null,
   "metadata": {},
   "outputs": [],
   "source": [
    "my_string.replace('lab 4','lunch')"
   ]
  },
  {
   "cell_type": "code",
   "execution_count": null,
   "metadata": {},
   "outputs": [],
   "source": [
    "my_string.replace('awesome','is super cool')"
   ]
  },
  {
   "cell_type": "code",
   "execution_count": null,
   "metadata": {},
   "outputs": [],
   "source": [
    "my_string.replace(' ','')"
   ]
  },
  {
   "cell_type": "markdown",
   "metadata": {},
   "source": [
    "---"
   ]
  },
  {
   "cell_type": "code",
   "execution_count": null,
   "metadata": {},
   "outputs": [],
   "source": [
    "help(str.split)"
   ]
  },
  {
   "cell_type": "code",
   "execution_count": null,
   "metadata": {},
   "outputs": [],
   "source": [
    "my_string.split()"
   ]
  },
  {
   "cell_type": "code",
   "execution_count": null,
   "metadata": {},
   "outputs": [],
   "source": [
    "my_string.split('4')"
   ]
  },
  {
   "cell_type": "markdown",
   "metadata": {
    "deletable": false,
    "editable": false,
    "nbgrader": {
     "cell_type": "markdown",
     "checksum": "974deb446f6fad8ab67fe929b44fd7be",
     "grade": false,
     "grade_id": "cell-51aa04d7daf8e2e0",
     "locked": true,
     "schema_version": 3,
     "solution": false,
     "task": false
    }
   },
   "source": [
    "\n",
    "\n",
    "---\n",
    "\n",
    "\n",
    "# Lab Assignment\n",
    "\n"
   ]
  },
  {
   "cell_type": "markdown",
   "metadata": {
    "deletable": false,
    "editable": false,
    "nbgrader": {
     "cell_type": "markdown",
     "checksum": "428d9e47df859c0394dece687fa61da6",
     "grade": false,
     "grade_id": "cell-d1b21d0c87abc89b",
     "locked": true,
     "schema_version": 3,
     "solution": false,
     "task": false
    }
   },
   "source": [
    "---\n",
    "### Problem 0\n",
    "\n",
    "We wish to flip a coin *digitally*.  One way to simulate this is to randomly pick between 0 and 1 (uniformly), such as in the following function:"
   ]
  },
  {
   "cell_type": "code",
   "execution_count": null,
   "metadata": {
    "deletable": false,
    "editable": false,
    "nbgrader": {
     "cell_type": "code",
     "checksum": "36b6c50efcbad48afe7876fadb44a63a",
     "grade": false,
     "grade_id": "cell-1e85c8edf72d17fe",
     "locked": true,
     "schema_version": 3,
     "solution": false,
     "task": false
    }
   },
   "outputs": [],
   "source": [
    "def flip_coin():\n",
    "    rand_val = random.randint(0,1)\n",
    "    if rand_val == 0:\n",
    "        coin = \"Heads\"\n",
    "    else:\n",
    "        coin = \"Tails\"\n",
    "    return coin"
   ]
  },
  {
   "cell_type": "markdown",
   "metadata": {
    "deletable": false,
    "editable": false,
    "nbgrader": {
     "cell_type": "markdown",
     "checksum": "71c72fe5e39f24a2ff30fffe536f4e0d",
     "grade": false,
     "grade_id": "cell-38cfa6a84aadf312",
     "locked": true,
     "schema_version": 3,
     "solution": false,
     "task": false
    }
   },
   "source": [
    "Write a function called `flip_n_times` that accepts as input (note: do **not** use the `input` command) the number of times you want to flip a coin.  This function should use a **while** loop.  Be sure to test your code a few times."
   ]
  },
  {
   "cell_type": "code",
   "execution_count": 16,
   "metadata": {
    "deletable": false,
    "nbgrader": {
     "cell_type": "code",
     "checksum": "cf50e559f45206df31067af702c03137",
     "grade": true,
     "grade_id": "cell-dc63e1dcaa149e29",
     "locked": false,
     "points": 1,
     "schema_version": 3,
     "solution": true,
     "task": false
    }
   },
   "outputs": [],
   "source": [
    "import random\n",
    "\n",
    "def flip_n_times(x):\n",
    "    total_flips = 0\n",
    "    while total_flips < x:\n",
    "        rand_val = random.randint(0,1)\n",
    "        if rand_val == 1:\n",
    "            coin = \"Heads\"\n",
    "            total_flips += 1\n",
    "            print(coin)\n",
    "        else:\n",
    "            coin = \"Tails\"\n",
    "            total_flips += 1\n",
    "            print(coin)\n",
    "    return"
   ]
  },
  {
   "cell_type": "code",
   "execution_count": 17,
   "metadata": {},
   "outputs": [
    {
     "name": "stdout",
     "output_type": "stream",
     "text": [
      "Tails\n",
      "Tails\n",
      "Tails\n",
      "Heads\n",
      "Tails\n",
      "Heads\n",
      "Heads\n",
      "Heads\n",
      "Heads\n",
      "Heads\n"
     ]
    }
   ],
   "source": [
    "flip_n_times(10)"
   ]
  },
  {
   "cell_type": "code",
   "execution_count": null,
   "metadata": {},
   "outputs": [],
   "source": [
    "flip_n_times(12)"
   ]
  },
  {
   "cell_type": "markdown",
   "metadata": {
    "deletable": false,
    "editable": false,
    "nbgrader": {
     "cell_type": "markdown",
     "checksum": "235cb8e5ccd89d64f0bc33feb1b88a9e",
     "grade": false,
     "grade_id": "cell-20e15188c1b2fc7b",
     "locked": true,
     "schema_version": 3,
     "solution": false,
     "task": false
    }
   },
   "source": [
    "Write the same function, `flip_n_times`, but using a **for** loop."
   ]
  },
  {
   "cell_type": "code",
   "execution_count": 13,
   "metadata": {
    "deletable": false,
    "nbgrader": {
     "cell_type": "code",
     "checksum": "b53a7c643bed840f10f446fdbb7e1ed2",
     "grade": true,
     "grade_id": "cell-1ced16d63d9f66c6",
     "locked": false,
     "points": 1,
     "schema_version": 3,
     "solution": true,
     "task": false
    }
   },
   "outputs": [],
   "source": [
    "def flip_n_timesfor(x):\n",
    "    for coins in range(x):\n",
    "        rand_val = random.randint(0,1)\n",
    "        if rand_val == 1:\n",
    "            coin = \"Heads\"\n",
    "            print(coin)\n",
    "        else:\n",
    "            coin = \"Tails\"\n",
    "            print(coin)\n",
    "    return "
   ]
  },
  {
   "cell_type": "code",
   "execution_count": 14,
   "metadata": {},
   "outputs": [
    {
     "name": "stdout",
     "output_type": "stream",
     "text": [
      "Tails\n",
      "Tails\n",
      "Heads\n",
      "Tails\n",
      "Heads\n",
      "Heads\n",
      "Tails\n",
      "Heads\n",
      "Heads\n",
      "Tails\n"
     ]
    }
   ],
   "source": [
    "flip_n_timesfor(10)"
   ]
  },
  {
   "cell_type": "code",
   "execution_count": 15,
   "metadata": {},
   "outputs": [
    {
     "name": "stdout",
     "output_type": "stream",
     "text": [
      "Heads\n",
      "Heads\n",
      "Tails\n",
      "Heads\n",
      "Tails\n",
      "Tails\n",
      "Tails\n",
      "Heads\n",
      "Tails\n",
      "Heads\n",
      "Tails\n",
      "Heads\n",
      "Tails\n",
      "Tails\n",
      "Tails\n",
      "Heads\n",
      "Heads\n",
      "Tails\n",
      "Heads\n",
      "Heads\n",
      "Tails\n",
      "Heads\n",
      "Tails\n",
      "Heads\n",
      "Tails\n",
      "Tails\n",
      "Heads\n",
      "Heads\n",
      "Heads\n",
      "Tails\n",
      "Tails\n",
      "Tails\n"
     ]
    }
   ],
   "source": [
    "flip_n_timesfor(32)"
   ]
  },
  {
   "cell_type": "markdown",
   "metadata": {
    "deletable": false,
    "editable": false,
    "nbgrader": {
     "cell_type": "markdown",
     "checksum": "c3cf0dbb53be05ef38431ef929bc970e",
     "grade": false,
     "grade_id": "cell-21d0d534e1a1773c",
     "locked": true,
     "schema_version": 3,
     "solution": false,
     "task": false
    }
   },
   "source": [
    "---\n",
    "### Problem 1\n",
    "\n",
    "If a flip is in fact random, we should see roughly an equal number of heads and tails. We could run `flip_n_times` with some number and count the results... but it would have to be a BIG number, right? Fortunately, we can get the machine to do the work for us! Flip the coin – look at the result: **if** it is heads, increment a variable `num_heads` otherwise, increment `num_tails`.\n",
    "\n",
    "Create a function called `count_flip_results` that prompts the user for some number of flips (this uses the `input` function) and counts the number of times the flip results in Heads and the number of times the flip results in Tails. Display the final count, and the percentage of the total. It should end up looking something like the following:\n",
    "\n",
    "```python\n",
    "count_flip_results()```\n",
    "\n",
    "```\n",
    "How many flips? 10000\n",
    "\n",
    "Results:\n",
    "Heads: 5103 0.5103\n",
    "Tails: 4897 0.4897```\n",
    "\n",
    "Don't display the result of each flip - it will significantly slow things down.  Remember to test your function a few times."
   ]
  },
  {
   "cell_type": "code",
   "execution_count": 18,
   "metadata": {
    "deletable": false,
    "nbgrader": {
     "cell_type": "code",
     "checksum": "cd705905b2d8f68c75517198a121ec4d",
     "grade": true,
     "grade_id": "cell-82fa2b528ceaaa29",
     "locked": false,
     "points": 1,
     "schema_version": 3,
     "solution": true,
     "task": false
    }
   },
   "outputs": [],
   "source": [
    "def count_flip_results():\n",
    "    total_flips = int(input(\"How many flips? \"))\n",
    "    total_heads = 0\n",
    "    total_tails = 0\n",
    "    flips_remaining = total_flips\n",
    "    while flips_remaining > 0:\n",
    "        rand_val = random.randint(0,1)\n",
    "        if rand_val == 1:\n",
    "            total_heads = total_heads + 1\n",
    "            flips_remaining = flips_remaining -1\n",
    "        else:\n",
    "            total_tails = total_tails + 1\n",
    "            flips_remaining = flips_remaining -1\n",
    "    print(\"Results:\")\n",
    "    print(\"Heads:\", total_heads, \"\\t\", \"%\", (100*(round(total_heads/total_flips, 4))))\n",
    "    print(\"Tails:\", total_tails, \"\\t\", \"%\", (100*(round(total_tails/total_flips, 4))))\n",
    "    "
   ]
  },
  {
   "cell_type": "code",
   "execution_count": 19,
   "metadata": {},
   "outputs": [
    {
     "name": "stdout",
     "output_type": "stream",
     "text": [
      "How many flips? 550\n",
      "Results:\n",
      "Heads: 290 \t % 52.73\n",
      "Tails: 260 \t % 47.27\n"
     ]
    }
   ],
   "source": [
    "count_flip_results()"
   ]
  },
  {
   "cell_type": "code",
   "execution_count": null,
   "metadata": {},
   "outputs": [],
   "source": [
    "count_flip_results()"
   ]
  },
  {
   "cell_type": "markdown",
   "metadata": {
    "deletable": false,
    "editable": false,
    "nbgrader": {
     "cell_type": "markdown",
     "checksum": "a0c23c470f4e9b38a474cff876137d6c",
     "grade": false,
     "grade_id": "cell-41b4b3a35d14053c",
     "locked": true,
     "schema_version": 3,
     "solution": false,
     "task": false
    }
   },
   "source": [
    "---\n",
    "### Problem 2\n",
    "\n",
    "Now that you can simulate coin flips, and do it lots of times, lets try to explore the reality of coins a bit further.  People generally think that getting a streak of coin flips, where the same side comes up over and over again, is extremely rare.  In reality, it happens quite often.  Write a function, `coin_streak`, that takes as input a number which is the streak length, and performs random flips until a streak of that number is achieved.  The function should record the total number of flips needed to get a streak.\n",
    "\n",
    "So, the function should look like the following:\n",
    "\n",
    "```python\n",
    "coin_streak(10)```\n",
    "\n",
    "```\n",
    "Number of flips needed for streak of 10: 2310```"
   ]
  },
  {
   "cell_type": "code",
   "execution_count": 4,
   "metadata": {
    "deletable": false,
    "nbgrader": {
     "cell_type": "code",
     "checksum": "b9ab5f7ee6fc6ad5629a71c7f596db61",
     "grade": true,
     "grade_id": "cell-44abeb4cc795f051",
     "locked": false,
     "points": 1,
     "schema_version": 3,
     "solution": true,
     "task": false
    }
   },
   "outputs": [],
   "source": [
    "def coin_streak(x):\n",
    "    head_streak = 1\n",
    "    tail_streak = 1\n",
    "    flips = 0\n",
    "    while head_streak < x and tail_streak < x:\n",
    "        rand_val = random.randint(0,1)\n",
    "        if rand_val == 1:\n",
    "            # Heads\n",
    "            flips += 1\n",
    "            head_streak += 1\n",
    "            tail_streak = 0\n",
    "        else:\n",
    "            # Tails\n",
    "            flips += 1\n",
    "            tail_streak += 1\n",
    "            head_streak = 0\n",
    "    return print(\"Number of flips needed for streak of\", x,\":\", flips)"
   ]
  },
  {
   "cell_type": "code",
   "execution_count": 37,
   "metadata": {},
   "outputs": [
    {
     "name": "stdout",
     "output_type": "stream",
     "text": [
      "Number of flips needed for streak of 10 : 340\n"
     ]
    }
   ],
   "source": [
    "coin_streak(10)"
   ]
  },
  {
   "cell_type": "code",
   "execution_count": 36,
   "metadata": {},
   "outputs": [
    {
     "name": "stdout",
     "output_type": "stream",
     "text": [
      "Number of flips needed for streak of 17 : 64880\n"
     ]
    }
   ],
   "source": [
    "coin_streak(17)"
   ]
  },
  {
   "cell_type": "markdown",
   "metadata": {
    "deletable": false,
    "editable": false,
    "nbgrader": {
     "cell_type": "markdown",
     "checksum": "88626794f13d3817750cf9a05a119aa2",
     "grade": false,
     "grade_id": "cell-5fa92f2d595c7799",
     "locked": true,
     "schema_version": 3,
     "solution": false,
     "task": false
    }
   },
   "source": [
    "---\n",
    "\n",
    "### Problem 3\n",
    "\n",
    "Acronyms are abrievations formed by taking the first letter of every word in a phrase.  For instance, the acronym **TLDR** stands for \"Too Long Didn't Read\", and **IMHO** stands for \"In My Honest Opinion\".  Write a program that creates acronyms from phrases.  This function should take as input a string phrase (not using the input function) and print out the acronym created from it."
   ]
  },
  {
   "cell_type": "code",
   "execution_count": 1,
   "metadata": {
    "deletable": false,
    "nbgrader": {
     "cell_type": "code",
     "checksum": "c5b751651750b5a913f6a824b0977c43",
     "grade": true,
     "grade_id": "cell-33a475eaf87df2a0",
     "locked": false,
     "points": 1,
     "schema_version": 3,
     "solution": true,
     "task": false
    }
   },
   "outputs": [],
   "source": [
    "def acronym_maker(words):\n",
    "    words = words.split()\n",
    "    acronym = \"\"\n",
    "    for i in words:\n",
    "        acronym += i[0]\n",
    "    acronym = acronym.upper()\n",
    "    print(\"Your acronym is:\", acronym)\n",
    "    return"
   ]
  },
  {
   "cell_type": "code",
   "execution_count": 2,
   "metadata": {},
   "outputs": [
    {
     "name": "stdout",
     "output_type": "stream",
     "text": [
      "Your acronym is: PBS\n"
     ]
    }
   ],
   "source": [
    "acronym_maker(\"public broadcasting service\")"
   ]
  },
  {
   "cell_type": "code",
   "execution_count": 3,
   "metadata": {},
   "outputs": [
    {
     "name": "stdout",
     "output_type": "stream",
     "text": [
      "Your acronym is: SHIT\n"
     ]
    }
   ],
   "source": [
    "acronym_maker(\"south harrisburg interstate technicians\")"
   ]
  },
  {
   "cell_type": "code",
   "execution_count": 4,
   "metadata": {},
   "outputs": [
    {
     "name": "stdout",
     "output_type": "stream",
     "text": [
      "Your acronym is: USMBTRT\n"
     ]
    }
   ],
   "source": [
    "acronym_maker(\"united states mens bikini thong rollerblade team\")"
   ]
  },
  {
   "cell_type": "markdown",
   "metadata": {
    "deletable": false,
    "editable": false,
    "nbgrader": {
     "cell_type": "markdown",
     "checksum": "a1de73356f5ebd3a743c6c2fc7c5c342",
     "grade": false,
     "grade_id": "cell-c22e0a8cac5cac87",
     "locked": true,
     "schema_version": 3,
     "solution": false,
     "task": false
    }
   },
   "source": [
    "---\n",
    "### Problem 4\n",
    "\n",
    "In class, we discussed how the ASCII table converts between characters and their numeric representation. I showed you how to use a loop to display all the ASCII values. Write a program, `simple_print_ascii`, that uses a loop to print out the ascii chart values from 0 to 126.  Make your printed output look like `NUMBER : ascii_value`, so that the last two should look like:\n",
    "\n",
    "`125 : }`\n",
    "\n",
    "`126 : ~`"
   ]
  },
  {
   "cell_type": "code",
   "execution_count": null,
   "metadata": {
    "deletable": false,
    "nbgrader": {
     "cell_type": "code",
     "checksum": "db283aa2df3286bb71591d4ac3404bb1",
     "grade": true,
     "grade_id": "cell-7d6b0030e209a0b6",
     "locked": false,
     "points": 1,
     "schema_version": 3,
     "solution": true,
     "task": false
    }
   },
   "outputs": [],
   "source": [
    "def simple_print_ascii():\n",
    "    y = -1\n",
    "    z = -1\n",
    "    for arbitraryname in range(127):\n",
    "        y = y + 1\n",
    "        z = z + 1\n",
    "        print(z, \":\", chr(y))"
   ]
  },
  {
   "cell_type": "code",
   "execution_count": null,
   "metadata": {},
   "outputs": [],
   "source": [
    "simple_print_ascii()"
   ]
  },
  {
   "cell_type": "code",
   "execution_count": null,
   "metadata": {},
   "outputs": [],
   "source": []
  },
  {
   "cell_type": "code",
   "execution_count": null,
   "metadata": {},
   "outputs": [],
   "source": []
  },
  {
   "attachments": {
    "image.png": {
     "image/png": "[encoded data removed]"
    }
   },
   "cell_type": "markdown",
   "metadata": {
    "deletable": false,
    "editable": false,
    "nbgrader": {
     "cell_type": "markdown",
     "checksum": "ed41f97693f01a79bb9c249988eda365",
     "grade": false,
     "grade_id": "cell-ad51b399c273cbd2",
     "locked": true,
     "schema_version": 3,
     "solution": false,
     "task": false
    }
   },
   "source": [
    "---\n",
    "### Problem 5\n",
    "\n",
    "It would be better if we could format the output so that it is presented as a nice table that printed only the displayable characters – 33 through 126. For example:\n",
    "\n",
    "![image.png](attachment:image.png)\n",
    "\n",
    "To do this, we need to *really* think about it beforehand.  Here are some of the basic steps:\n",
    "- Start by printing the **column** headers, the numbers 0 - 9\n",
    "- On the NEXT line, print `30`, then a tab, then enough spaces until we get to 33\n",
    "- We need to end the print statements of the ascii characters with spaces\n",
    "- If the number is divisible by 10, go to a newline (print \"\\n\"), print the index number ending with a tab, and then print more ascii characters\n",
    "- We should be iterating in a loop between 33 and 126\n",
    "\n",
    "The final version of your code to do this will probably be pretty short, but the real work comes in figuring it out.  Be sure to talk to your neighbors, the lab assistant, and the instructor along the way."
   ]
  },
  {
   "cell_type": "code",
   "execution_count": 20,
   "metadata": {
    "deletable": false,
    "nbgrader": {
     "cell_type": "code",
     "checksum": "2c59455e485575906707fe34aa073fd8",
     "grade": true,
     "grade_id": "cell-43d55b14c0e3ce5f",
     "locked": false,
     "points": 1,
     "schema_version": 3,
     "solution": true,
     "task": false
    }
   },
   "outputs": [],
   "source": [
    "def print_ascii():\n",
    "    y = 33\n",
    "    z = 30\n",
    "    print(\"\\t\", \"1 2 3 4 5 6 7 8 9\")\n",
    "    print(\"\",z, \"\\t\", \"   \", end = \" \")\n",
    "    while y < 127:\n",
    "        if y%10 == 0:\n",
    "            print(\"\\n\", z + 10, \"\\t\", end = \" \")\n",
    "            y = y + 1\n",
    "            z = z + 10\n",
    "        else:\n",
    "            print(chr(y), end = \" \")\n",
    "            y = y + 1\n",
    "    return"
   ]
  },
  {
   "cell_type": "code",
   "execution_count": 21,
   "metadata": {},
   "outputs": [
    {
     "name": "stdout",
     "output_type": "stream",
     "text": [
      "\t 1 2 3 4 5 6 7 8 9\n",
      " 30 \t     ! \" # $ % & ' \n",
      " 40 \t ) * + , - . / 0 1 \n",
      " 50 \t 3 4 5 6 7 8 9 : ; \n",
      " 60 \t = > ? @ A B C D E \n",
      " 70 \t G H I J K L M N O \n",
      " 80 \t Q R S T U V W X Y \n",
      " 90 \t [ \\ ] ^ _ ` a b c \n",
      " 100 \t e f g h i j k l m \n",
      " 110 \t o p q r s t u v w \n",
      " 120 \t y z { | } ~ "
     ]
    }
   ],
   "source": [
    "print_ascii()"
   ]
  },
  {
   "cell_type": "code",
   "execution_count": null,
   "metadata": {},
   "outputs": [],
   "source": []
  },
  {
   "cell_type": "code",
   "execution_count": null,
   "metadata": {},
   "outputs": [],
   "source": []
  }
 ],
 "metadata": {
  "kernelspec": {
   "display_name": "Python 3",
   "language": "python",
   "name": "python3"
  },
  "language_info": {
   "codemirror_mode": {
    "name": "ipython",
    "version": 3
   },
   "file_extension": ".py",
   "mimetype": "text/x-python",
   "name": "python",
   "nbconvert_exporter": "python",
   "pygments_lexer": "ipython3",
   "version": "3.7.7"
  }
 },
 "nbformat": 4,
 "nbformat_minor": 2
}

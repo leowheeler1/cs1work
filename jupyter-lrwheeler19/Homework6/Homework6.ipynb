{
 "cells": [
  {
   "cell_type": "markdown",
   "metadata": {},
   "source": [
    "### CS 125 Assignment\n",
    "\n",
    "Before you turn this assignment in, make sure everything runs as expected. First, **restart the kernel** (in the menubar, select Kernel$\\rightarrow$Restart) and then **run all cells** (in the menubar, select Cell$\\rightarrow$Run All).\n",
    "\n",
    "Make sure you fill in any place that says `YOUR CODE HERE` or \"YOUR ANSWER HERE\", as well as your name and collaborators below:"
   ]
  },
  {
   "cell_type": "code",
   "execution_count": 1,
   "metadata": {},
   "outputs": [],
   "source": [
    "NAME = \"Leo Wheeler\"\n",
    "COLLABORATORS = \"\""
   ]
  },
  {
   "cell_type": "markdown",
   "metadata": {},
   "source": [
    "---\n",
    "---"
   ]
  },
  {
   "cell_type": "markdown",
   "metadata": {
    "deletable": false,
    "editable": false,
    "nbgrader": {
     "cell_type": "markdown",
     "checksum": "60aed39022d7a3e1e7391e759e90ab32",
     "grade": false,
     "grade_id": "cell-52bf79535173552c",
     "locked": true,
     "schema_version": 3,
     "solution": false,
     "task": false
    }
   },
   "source": [
    "# Homework 6\n",
    "\n",
    "Checks require the user to write out the dollar amount in two different forms: \n",
    "\n",
    "1. as a numerical value, such as: $130.45, and \n",
    "2. as an english phrase, i.e., One Hundred Thirty and Forty Five Cents.  \n",
    "\n",
    "<img src=\"HowWriteCheck_Hero.jpg\">\n",
    "\n",
    "This makes it more difficult to falsely alter the amount on a written check by just squeezing a new number in between the ones already written.  For example, adding a zero and moving the decimal point.\n",
    "\n",
    "\n",
    "\n",
    "## Assignment\n",
    "\n",
    "Create a function that translates a given number, taken in as a string (ex: val = \"62.32\"), and translates it to english words (ex: \"Sixty Two Dollars and Thirty Two Cents\").  **Your function should only translates numbers between 0.00 and 999.99.**\n",
    "\n",
    "- Hint: you could make a dictionary for individual numbers:\n",
    "    - example: numbers[\"1\"] = \"One\"\n",
    "    - example: numbers[\"7\"] = \"Seven\""
   ]
  },
  {
   "cell_type": "code",
   "execution_count": null,
   "metadata": {},
   "outputs": [],
   "source": [
    "def convert_numbers(number):\n",
    "    # Input:\n",
    "    #          - number: The input number (as a string)\n",
    "    # Process: \n",
    "    #   \n",
    "    # Output: \n",
    "    #          -word: English representation of input number"
   ]
  },
  {
   "cell_type": "markdown",
   "metadata": {},
   "source": [
    "# IPO\n",
    "\n",
    "Input:\n",
    "\n",
    "- number as a string\n",
    "\n",
    "Process:\n",
    "\n",
    "- establish the difference between dollars and cents\n",
    "- establish difference between each place in the number (hundreds, tens, ones, tenths, and hundreths)\n",
    "- use a dictionary to assign every number its english counterpart\n",
    "- look through the number and put in the values from the dictionaries\n",
    "- Add all values to the variable eng_number, which will save the number as english words\n",
    "\n",
    "\n",
    "Output:\n",
    "\n",
    "- translated number (in words) as a string"
   ]
  },
  {
   "cell_type": "code",
   "execution_count": 39,
   "metadata": {},
   "outputs": [],
   "source": [
    "def convert_numbers(number):\n",
    "    # The dictionaries are used to take the numeric values from `number` and translate them to english words.\n",
    "    # The tens dictionary is used for the tens and tenths place, the ones dictionary is used for the hundreds, ones, and\n",
    "    # hundreths place. The teen dictionary is for the numbers with 1 in the tens place, since those behave differently.\n",
    "    teen_dict = {\"10\":\"Ten\", \"11\":\"Eleven\", \"12\":\"Twelve\", \"13\":\"Thirteen\", \"14\":\"Fourteen\", \"15\":\"Fifteen\", \"16\":\"Sixteen\", \"17\":\"Seventeen\", \"18\":\"Eighteen\", \"19\":\"Nineteen\"}\n",
    "    tens_dict = {\"0\":\"\", \"1\":\"Sentinel\", \"2\":\"Twenty\", \"3\":\"Thirty\", \"4\":\"Forty\", \"5\":\"Fifty\", \"6\":\"Sixty\", \"7\":\"Seventy\", \"8\":\"Eighty\", \"9\":\"Ninety\"}\n",
    "    ones_dict = {\"0\":\"\", \"1\":\"One\", \"2\":\"Two\", \"3\":\"Three\", \"4\":\"Four\", \"5\":\"Five\", \"6\":\"Six\", \"7\":\"Seven\", \"8\":\"Eight\", \"9\":\"Nine\"}\n",
    "    \n",
    "    # Makes the number 6 digits long (including decimal) and strips white space\n",
    "    number = number.strip().zfill(6)\n",
    "    \n",
    "    # checks to make sure that the hundreds value is not 0, and assigns it its value\n",
    "    hundred = ones_dict[number[0]] + \" Hundred \" if number[0] != \"0\" else \"\"\n",
    "    \n",
    "    # checks to make sure the tens place does not have a one, then either gives it its tens value (!= 1) or its teens value\n",
    "    # (== 1)\n",
    "    tens_ones = tens_dict[number[1]] + \" \" + ones_dict[number[2]] if number[1] != \"1\" else teen_dict[number[1:3]]\n",
    "    \n",
    "    # does the same thing as the tens_ones variable\n",
    "    cents = tens_dict[number[4]] + \" \" + ones_dict[number[5]] if number[4] != \"1\" else teen_dict[number[4:6]]\n",
    "    \n",
    "    # Covers for when both cent values are 0\n",
    "    if number[4:6] == \"00\":\n",
    "        cents = \"Zero\"\n",
    "    \n",
    "    # Covers for when all dollar values are 0\n",
    "    if number[0:3] == \"000\":\n",
    "        tens_ones = \"Zero\"\n",
    "        \n",
    "    # Variable that contains the english version of the word\n",
    "    eng_number = hundred + tens_ones + \" Dollars and \" + cents + \" Cents\"\n",
    "    \n",
    "    \n",
    "    return eng_number"
   ]
  },
  {
   "cell_type": "code",
   "execution_count": 40,
   "metadata": {},
   "outputs": [
    {
     "data": {
      "text/plain": [
       "' Five Dollars and Zero Cents'"
      ]
     },
     "execution_count": 40,
     "metadata": {},
     "output_type": "execute_result"
    }
   ],
   "source": [
    "convert_numbers(\"5.00\")"
   ]
  },
  {
   "cell_type": "code",
   "execution_count": 41,
   "metadata": {},
   "outputs": [
    {
     "data": {
      "text/plain": [
       "'One Hundred Twenty Three Dollars and Forty Five Cents'"
      ]
     },
     "execution_count": 41,
     "metadata": {},
     "output_type": "execute_result"
    }
   ],
   "source": [
    "convert_numbers(\"123.45\")"
   ]
  },
  {
   "cell_type": "code",
   "execution_count": 42,
   "metadata": {},
   "outputs": [
    {
     "data": {
      "text/plain": [
       "'One Hundred Eleven Dollars and Eleven Cents'"
      ]
     },
     "execution_count": 42,
     "metadata": {},
     "output_type": "execute_result"
    }
   ],
   "source": [
    "convert_numbers(\"111.11\")"
   ]
  },
  {
   "cell_type": "markdown",
   "metadata": {
    "deletable": false,
    "editable": false,
    "nbgrader": {
     "cell_type": "markdown",
     "checksum": "6f072b885261b6b473c1cacfc33cb3cb",
     "grade": false,
     "grade_id": "cell-b43e17bac585e91e",
     "locked": true,
     "points": 4,
     "schema_version": 3,
     "solution": false,
     "task": true
    }
   },
   "source": [
    "## Instructor Feedback"
   ]
  }
 ],
 "metadata": {
  "kernelspec": {
   "display_name": "Python 3",
   "language": "python",
   "name": "python3"
  },
  "language_info": {
   "codemirror_mode": {
    "name": "ipython",
    "version": 3
   },
   "file_extension": ".py",
   "mimetype": "text/x-python",
   "name": "python",
   "nbconvert_exporter": "python",
   "pygments_lexer": "ipython3",
   "version": "3.7.7"
  }
 },
 "nbformat": 4,
 "nbformat_minor": 4
}
